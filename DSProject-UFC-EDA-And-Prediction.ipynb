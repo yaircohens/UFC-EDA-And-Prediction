{
 "cells": [
  {
   "cell_type": "markdown",
   "metadata": {},
   "source": [
    "# UFC Dataset EDA & Prediction\n",
    "## Intro to DataScience, HiT 2020\n",
    "### Yair Cohen S. 302599816"
   ]
  },
  {
   "cell_type": "markdown",
   "metadata": {},
   "source": [
    "![UFC_Belt](https://media.gettyimages.com/photos/an-overhead-view-of-the-octagon-as-jon-jones-punches-daniel-cormier-picture-id824389748?s=2048x2048)"
   ]
  },
  {
   "cell_type": "markdown",
   "metadata": {},
   "source": [
    "# Table Of Content\n",
    "\n",
    "## Section 1 -   EDA:\n",
    "1. **Dataset Validation**\n",
    "    1. Loading the Dataset\n",
    "    2. Checking for null values and drop\n",
    "    3. Reassuring float d.type to of numeric columns <br><br>\n",
    "\n",
    "2. **Data Analysis by Visualization**:<br><br>\n",
    "A. **Analysis by Weight Class categories in the UFC**:\n",
    " >1. Average match duration\n",
    "   2. Match ending types\n",
    "   1. Knockouts\n",
    "   2. Submission\n",
    "         \n",
    "B.**Other key parameters displayed across Weight classes**\n",
    " >1. Athlete's Height\n",
    "2. Athlete's Reach\n",
    "3. UFC's Atheletes Age Distribution\n",
    "\n",
    "C. **Stance types**:\n",
    " >1. Stance types proporion in UFC\n",
    "2. Stance type proportion in Contendors share\n",
    " \n",
    "D. **Championship**\n",
    " 1. Titile bouts share out of all matches\n",
    " 2. What champion got the most Title bouts wins?\n",
    " 3. Champion analysis - **Anderson Silva**\n",
    " >1. Anderson Silva's preformence at casual matches vs Title Bouts\n",
    "    2. Anderson Silva's *win types at casual matches vs Title Bouts\n",
    "    \n",
    "## Section 2 - Winner Prediction\n",
    "\n",
    "1. Visualization: Winner by Corner color\n",
    "2. Exploring the unprocessed Dataset used for prediction and handling null values\n",
    "3. Splitting the DS into Features and Categories\n",
    "4. Splitting the DS into Train and Test\n",
    "5. **Prediction by**\n",
    "    >  1. KNN Neighbours Classifier\n",
    "    2. Desicion Tree Classifier\n",
    "    3. Random Forset Classifier\n",
    "    4. Logistic Regression Model\n",
    "    5. Support Vector Machine Model\n",
    "6. Results\n",
    "\n",
    "## Section 3 - Summary\n",
    "1. **Summary**"
   ]
  },
  {
   "cell_type": "markdown",
   "metadata": {},
   "source": [
    "## Importing packages"
   ]
  },
  {
   "cell_type": "code",
   "execution_count": 1,
   "metadata": {
    "_cell_guid": "b1076dfc-b9ad-4769-8c92-a6c4dae69d19",
    "_uuid": "8f2839f25d086af736a60e9eeb907d3b93b6e0e5"
   },
   "outputs": [],
   "source": [
    "#Handling the Dataset\n",
    "import pandas as pd\n",
    "import numpy as np\n",
    "\n",
    "#Visualization\n",
    "import seaborn as sns\n",
    "import matplotlib.pyplot as plt\n",
    "\n",
    "#Math fuctions\n",
    "import math\n",
    "import pylab\n",
    "from numpy import mean\n",
    "\n",
    "#Machine leraning functions\n",
    "from sklearn.model_selection import train_test_split\n",
    "from sklearn.preprocessing import StandardScaler\n",
    "from sklearn.metrics import accuracy_score\n",
    "\n",
    "#Machine learning Algorithms\n",
    "from sklearn.linear_model import LogisticRegression\n",
    "from sklearn.neighbors import KNeighborsClassifier\n",
    "from sklearn.tree import DecisionTreeClassifier\n",
    "from sklearn.ensemble import RandomForestClassifier\n",
    "from sklearn.svm import SVC\n",
    "from sklearn.linear_model import LogisticRegression"
   ]
  },
  {
   "cell_type": "markdown",
   "metadata": {},
   "source": [
    "## Loading the datasets"
   ]
  },
  {
   "cell_type": "code",
   "execution_count": 2,
   "metadata": {},
   "outputs": [
    {
     "data": {
      "text/html": [
       "<div>\n",
       "<style scoped>\n",
       "    .dataframe tbody tr th:only-of-type {\n",
       "        vertical-align: middle;\n",
       "    }\n",
       "\n",
       "    .dataframe tbody tr th {\n",
       "        vertical-align: top;\n",
       "    }\n",
       "\n",
       "    .dataframe thead th {\n",
       "        text-align: right;\n",
       "    }\n",
       "</style>\n",
       "<table border=\"1\" class=\"dataframe\">\n",
       "  <thead>\n",
       "    <tr style=\"text-align: right;\">\n",
       "      <th></th>\n",
       "      <th>0</th>\n",
       "      <th>1</th>\n",
       "      <th>2</th>\n",
       "      <th>3</th>\n",
       "      <th>4</th>\n",
       "    </tr>\n",
       "  </thead>\n",
       "  <tbody>\n",
       "    <tr>\n",
       "      <th>R_fighter</th>\n",
       "      <td>Henry Cejudo</td>\n",
       "      <td>Valentina Shevchenko</td>\n",
       "      <td>Tony Ferguson</td>\n",
       "      <td>Jimmie Rivera</td>\n",
       "      <td>Tai Tuivasa</td>\n",
       "    </tr>\n",
       "    <tr>\n",
       "      <th>B_fighter</th>\n",
       "      <td>Marlon Moraes</td>\n",
       "      <td>Jessica Eye</td>\n",
       "      <td>Donald Cerrone</td>\n",
       "      <td>Petr Yan</td>\n",
       "      <td>Blagoy Ivanov</td>\n",
       "    </tr>\n",
       "    <tr>\n",
       "      <th>Referee</th>\n",
       "      <td>Marc Goddard</td>\n",
       "      <td>Robert Madrigal</td>\n",
       "      <td>Dan Miragliotta</td>\n",
       "      <td>Kevin MacDonald</td>\n",
       "      <td>Dan Miragliotta</td>\n",
       "    </tr>\n",
       "    <tr>\n",
       "      <th>date</th>\n",
       "      <td>2019-06-08</td>\n",
       "      <td>2019-06-08</td>\n",
       "      <td>2019-06-08</td>\n",
       "      <td>2019-06-08</td>\n",
       "      <td>2019-06-08</td>\n",
       "    </tr>\n",
       "    <tr>\n",
       "      <th>location</th>\n",
       "      <td>Chicago, Illinois, USA</td>\n",
       "      <td>Chicago, Illinois, USA</td>\n",
       "      <td>Chicago, Illinois, USA</td>\n",
       "      <td>Chicago, Illinois, USA</td>\n",
       "      <td>Chicago, Illinois, USA</td>\n",
       "    </tr>\n",
       "    <tr>\n",
       "      <th>Winner</th>\n",
       "      <td>Red</td>\n",
       "      <td>Red</td>\n",
       "      <td>Red</td>\n",
       "      <td>Blue</td>\n",
       "      <td>Blue</td>\n",
       "    </tr>\n",
       "    <tr>\n",
       "      <th>title_bout</th>\n",
       "      <td>True</td>\n",
       "      <td>True</td>\n",
       "      <td>False</td>\n",
       "      <td>False</td>\n",
       "      <td>False</td>\n",
       "    </tr>\n",
       "    <tr>\n",
       "      <th>weight_class</th>\n",
       "      <td>Bantamweight</td>\n",
       "      <td>Women's Flyweight</td>\n",
       "      <td>Lightweight</td>\n",
       "      <td>Bantamweight</td>\n",
       "      <td>Heavyweight</td>\n",
       "    </tr>\n",
       "    <tr>\n",
       "      <th>no_of_rounds</th>\n",
       "      <td>5</td>\n",
       "      <td>5</td>\n",
       "      <td>3</td>\n",
       "      <td>3</td>\n",
       "      <td>3</td>\n",
       "    </tr>\n",
       "    <tr>\n",
       "      <th>B_current_lose_streak</th>\n",
       "      <td>0</td>\n",
       "      <td>0</td>\n",
       "      <td>0</td>\n",
       "      <td>0</td>\n",
       "      <td>0</td>\n",
       "    </tr>\n",
       "    <tr>\n",
       "      <th>B_current_win_streak</th>\n",
       "      <td>4</td>\n",
       "      <td>3</td>\n",
       "      <td>3</td>\n",
       "      <td>4</td>\n",
       "      <td>1</td>\n",
       "    </tr>\n",
       "    <tr>\n",
       "      <th>B_draw</th>\n",
       "      <td>0</td>\n",
       "      <td>0</td>\n",
       "      <td>0</td>\n",
       "      <td>0</td>\n",
       "      <td>0</td>\n",
       "    </tr>\n",
       "    <tr>\n",
       "      <th>B_avg_BODY_att</th>\n",
       "      <td>9.2</td>\n",
       "      <td>14.6</td>\n",
       "      <td>15.3548</td>\n",
       "      <td>17</td>\n",
       "      <td>17</td>\n",
       "    </tr>\n",
       "    <tr>\n",
       "      <th>B_avg_BODY_landed</th>\n",
       "      <td>6</td>\n",
       "      <td>9.1</td>\n",
       "      <td>11.3226</td>\n",
       "      <td>14</td>\n",
       "      <td>14.5</td>\n",
       "    </tr>\n",
       "    <tr>\n",
       "      <th>B_avg_CLINCH_att</th>\n",
       "      <td>0.2</td>\n",
       "      <td>11.8</td>\n",
       "      <td>6.74194</td>\n",
       "      <td>13.75</td>\n",
       "      <td>2.5</td>\n",
       "    </tr>\n",
       "    <tr>\n",
       "      <th>B_avg_CLINCH_landed</th>\n",
       "      <td>0</td>\n",
       "      <td>7.3</td>\n",
       "      <td>4.3871</td>\n",
       "      <td>11</td>\n",
       "      <td>2</td>\n",
       "    </tr>\n",
       "    <tr>\n",
       "      <th>B_avg_DISTANCE_att</th>\n",
       "      <td>62.6</td>\n",
       "      <td>124.7</td>\n",
       "      <td>84.7419</td>\n",
       "      <td>109.5</td>\n",
       "      <td>201</td>\n",
       "    </tr>\n",
       "    <tr>\n",
       "      <th>B_avg_DISTANCE_landed</th>\n",
       "      <td>20.6</td>\n",
       "      <td>42.1</td>\n",
       "      <td>38.5806</td>\n",
       "      <td>48.75</td>\n",
       "      <td>59.5</td>\n",
       "    </tr>\n",
       "    <tr>\n",
       "      <th>B_avg_GROUND_att</th>\n",
       "      <td>2.6</td>\n",
       "      <td>2.4</td>\n",
       "      <td>5.51613</td>\n",
       "      <td>13</td>\n",
       "      <td>0</td>\n",
       "    </tr>\n",
       "    <tr>\n",
       "      <th>B_avg_GROUND_landed</th>\n",
       "      <td>2</td>\n",
       "      <td>1.9</td>\n",
       "      <td>3.80645</td>\n",
       "      <td>10.5</td>\n",
       "      <td>0</td>\n",
       "    </tr>\n",
       "    <tr>\n",
       "      <th>B_avg_HEAD_att</th>\n",
       "      <td>48.6</td>\n",
       "      <td>112</td>\n",
       "      <td>67.6452</td>\n",
       "      <td>116.25</td>\n",
       "      <td>184.5</td>\n",
       "    </tr>\n",
       "    <tr>\n",
       "      <th>B_avg_HEAD_landed</th>\n",
       "      <td>11.2</td>\n",
       "      <td>32</td>\n",
       "      <td>23.2581</td>\n",
       "      <td>53.75</td>\n",
       "      <td>45</td>\n",
       "    </tr>\n",
       "    <tr>\n",
       "      <th>B_avg_KD</th>\n",
       "      <td>0.8</td>\n",
       "      <td>0</td>\n",
       "      <td>0.645161</td>\n",
       "      <td>0.5</td>\n",
       "      <td>0</td>\n",
       "    </tr>\n",
       "    <tr>\n",
       "      <th>B_avg_LEG_att</th>\n",
       "      <td>7.6</td>\n",
       "      <td>12.3</td>\n",
       "      <td>14</td>\n",
       "      <td>3</td>\n",
       "      <td>2</td>\n",
       "    </tr>\n",
       "    <tr>\n",
       "      <th>B_avg_LEG_landed</th>\n",
       "      <td>5.4</td>\n",
       "      <td>10.2</td>\n",
       "      <td>12.1935</td>\n",
       "      <td>2.5</td>\n",
       "      <td>2</td>\n",
       "    </tr>\n",
       "    <tr>\n",
       "      <th>B_avg_PASS</th>\n",
       "      <td>0.4</td>\n",
       "      <td>0.8</td>\n",
       "      <td>0.935484</td>\n",
       "      <td>0.5</td>\n",
       "      <td>0</td>\n",
       "    </tr>\n",
       "    <tr>\n",
       "      <th>B_avg_REV</th>\n",
       "      <td>0</td>\n",
       "      <td>0</td>\n",
       "      <td>0.0967742</td>\n",
       "      <td>0.25</td>\n",
       "      <td>0</td>\n",
       "    </tr>\n",
       "    <tr>\n",
       "      <th>B_avg_SIG_STR_att</th>\n",
       "      <td>65.4</td>\n",
       "      <td>138.9</td>\n",
       "      <td>97</td>\n",
       "      <td>136.25</td>\n",
       "      <td>203.5</td>\n",
       "    </tr>\n",
       "    <tr>\n",
       "      <th>B_avg_SIG_STR_landed</th>\n",
       "      <td>22.6</td>\n",
       "      <td>51.3</td>\n",
       "      <td>46.7742</td>\n",
       "      <td>70.25</td>\n",
       "      <td>61.5</td>\n",
       "    </tr>\n",
       "    <tr>\n",
       "      <th>B_avg_SIG_STR_pct</th>\n",
       "      <td>0.466</td>\n",
       "      <td>0.399</td>\n",
       "      <td>0.496129</td>\n",
       "      <td>0.55</td>\n",
       "      <td>0.31</td>\n",
       "    </tr>\n",
       "    <tr>\n",
       "      <th>...</th>\n",
       "      <td>...</td>\n",
       "      <td>...</td>\n",
       "      <td>...</td>\n",
       "      <td>...</td>\n",
       "      <td>...</td>\n",
       "    </tr>\n",
       "    <tr>\n",
       "      <th>R_avg_opp_KD</th>\n",
       "      <td>0.1</td>\n",
       "      <td>0</td>\n",
       "      <td>0.266667</td>\n",
       "      <td>0.125</td>\n",
       "      <td>0.25</td>\n",
       "    </tr>\n",
       "    <tr>\n",
       "      <th>R_avg_opp_LEG_att</th>\n",
       "      <td>9.4</td>\n",
       "      <td>29.1429</td>\n",
       "      <td>6</td>\n",
       "      <td>13.25</td>\n",
       "      <td>5.5</td>\n",
       "    </tr>\n",
       "    <tr>\n",
       "      <th>R_avg_opp_LEG_landed</th>\n",
       "      <td>6.1</td>\n",
       "      <td>18.1429</td>\n",
       "      <td>4.4</td>\n",
       "      <td>11.125</td>\n",
       "      <td>3.75</td>\n",
       "    </tr>\n",
       "    <tr>\n",
       "      <th>R_avg_opp_PASS</th>\n",
       "      <td>0</td>\n",
       "      <td>1.14286</td>\n",
       "      <td>0.333333</td>\n",
       "      <td>0</td>\n",
       "      <td>0.75</td>\n",
       "    </tr>\n",
       "    <tr>\n",
       "      <th>R_avg_opp_REV</th>\n",
       "      <td>0</td>\n",
       "      <td>0</td>\n",
       "      <td>0.133333</td>\n",
       "      <td>0</td>\n",
       "      <td>0</td>\n",
       "    </tr>\n",
       "    <tr>\n",
       "      <th>R_avg_opp_SIG_STR_att</th>\n",
       "      <td>98.8</td>\n",
       "      <td>115.571</td>\n",
       "      <td>98.7333</td>\n",
       "      <td>110.875</td>\n",
       "      <td>55</td>\n",
       "    </tr>\n",
       "    <tr>\n",
       "      <th>R_avg_opp_SIG_STR_landed</th>\n",
       "      <td>32.2</td>\n",
       "      <td>44.7143</td>\n",
       "      <td>35.7333</td>\n",
       "      <td>44.875</td>\n",
       "      <td>22.5</td>\n",
       "    </tr>\n",
       "    <tr>\n",
       "      <th>R_avg_opp_SIG_STR_pct</th>\n",
       "      <td>0.336</td>\n",
       "      <td>0.437143</td>\n",
       "      <td>0.34</td>\n",
       "      <td>0.44625</td>\n",
       "      <td>0.3975</td>\n",
       "    </tr>\n",
       "    <tr>\n",
       "      <th>R_avg_opp_SUB_ATT</th>\n",
       "      <td>0</td>\n",
       "      <td>0.285714</td>\n",
       "      <td>0.0666667</td>\n",
       "      <td>0</td>\n",
       "      <td>0</td>\n",
       "    </tr>\n",
       "    <tr>\n",
       "      <th>R_avg_opp_TD_att</th>\n",
       "      <td>0.9</td>\n",
       "      <td>3.28571</td>\n",
       "      <td>2.86667</td>\n",
       "      <td>2.375</td>\n",
       "      <td>1</td>\n",
       "    </tr>\n",
       "    <tr>\n",
       "      <th>R_avg_opp_TD_landed</th>\n",
       "      <td>0.1</td>\n",
       "      <td>0.857143</td>\n",
       "      <td>0.666667</td>\n",
       "      <td>0</td>\n",
       "      <td>0</td>\n",
       "    </tr>\n",
       "    <tr>\n",
       "      <th>R_avg_opp_TD_pct</th>\n",
       "      <td>0.05</td>\n",
       "      <td>0.147143</td>\n",
       "      <td>0.131333</td>\n",
       "      <td>0</td>\n",
       "      <td>0</td>\n",
       "    </tr>\n",
       "    <tr>\n",
       "      <th>R_avg_opp_TOTAL_STR_att</th>\n",
       "      <td>110.5</td>\n",
       "      <td>158.143</td>\n",
       "      <td>102.133</td>\n",
       "      <td>115.125</td>\n",
       "      <td>60.5</td>\n",
       "    </tr>\n",
       "    <tr>\n",
       "      <th>R_avg_opp_TOTAL_STR_landed</th>\n",
       "      <td>43.3</td>\n",
       "      <td>82.2857</td>\n",
       "      <td>38.6</td>\n",
       "      <td>48.875</td>\n",
       "      <td>27.75</td>\n",
       "    </tr>\n",
       "    <tr>\n",
       "      <th>R_total_rounds_fought</th>\n",
       "      <td>27</td>\n",
       "      <td>25</td>\n",
       "      <td>33</td>\n",
       "      <td>20</td>\n",
       "      <td>7</td>\n",
       "    </tr>\n",
       "    <tr>\n",
       "      <th>R_total_time_fought(seconds)</th>\n",
       "      <td>742.6</td>\n",
       "      <td>1062</td>\n",
       "      <td>604.4</td>\n",
       "      <td>690.25</td>\n",
       "      <td>440.75</td>\n",
       "    </tr>\n",
       "    <tr>\n",
       "      <th>R_total_title_bouts</th>\n",
       "      <td>3</td>\n",
       "      <td>2</td>\n",
       "      <td>2</td>\n",
       "      <td>0</td>\n",
       "      <td>0</td>\n",
       "    </tr>\n",
       "    <tr>\n",
       "      <th>R_win_by_Decision_Majority</th>\n",
       "      <td>0</td>\n",
       "      <td>0</td>\n",
       "      <td>0</td>\n",
       "      <td>0</td>\n",
       "      <td>0</td>\n",
       "    </tr>\n",
       "    <tr>\n",
       "      <th>R_win_by_Decision_Split</th>\n",
       "      <td>2</td>\n",
       "      <td>1</td>\n",
       "      <td>1</td>\n",
       "      <td>1</td>\n",
       "      <td>0</td>\n",
       "    </tr>\n",
       "    <tr>\n",
       "      <th>R_win_by_Decision_Unanimous</th>\n",
       "      <td>4</td>\n",
       "      <td>2</td>\n",
       "      <td>3</td>\n",
       "      <td>4</td>\n",
       "      <td>1</td>\n",
       "    </tr>\n",
       "    <tr>\n",
       "      <th>R_win_by_KO/TKO</th>\n",
       "      <td>2</td>\n",
       "      <td>0</td>\n",
       "      <td>3</td>\n",
       "      <td>1</td>\n",
       "      <td>2</td>\n",
       "    </tr>\n",
       "    <tr>\n",
       "      <th>R_win_by_Submission</th>\n",
       "      <td>0</td>\n",
       "      <td>2</td>\n",
       "      <td>6</td>\n",
       "      <td>0</td>\n",
       "      <td>0</td>\n",
       "    </tr>\n",
       "    <tr>\n",
       "      <th>R_win_by_TKO_Doctor_Stoppage</th>\n",
       "      <td>0</td>\n",
       "      <td>0</td>\n",
       "      <td>1</td>\n",
       "      <td>0</td>\n",
       "      <td>0</td>\n",
       "    </tr>\n",
       "    <tr>\n",
       "      <th>R_wins</th>\n",
       "      <td>8</td>\n",
       "      <td>5</td>\n",
       "      <td>14</td>\n",
       "      <td>6</td>\n",
       "      <td>3</td>\n",
       "    </tr>\n",
       "    <tr>\n",
       "      <th>R_Stance</th>\n",
       "      <td>Orthodox</td>\n",
       "      <td>Southpaw</td>\n",
       "      <td>Orthodox</td>\n",
       "      <td>Orthodox</td>\n",
       "      <td>Southpaw</td>\n",
       "    </tr>\n",
       "    <tr>\n",
       "      <th>R_Height_cms</th>\n",
       "      <td>162.56</td>\n",
       "      <td>165.1</td>\n",
       "      <td>180.34</td>\n",
       "      <td>162.56</td>\n",
       "      <td>187.96</td>\n",
       "    </tr>\n",
       "    <tr>\n",
       "      <th>R_Reach_cms</th>\n",
       "      <td>162.56</td>\n",
       "      <td>167.64</td>\n",
       "      <td>193.04</td>\n",
       "      <td>172.72</td>\n",
       "      <td>190.5</td>\n",
       "    </tr>\n",
       "    <tr>\n",
       "      <th>R_Weight_lbs</th>\n",
       "      <td>135</td>\n",
       "      <td>125</td>\n",
       "      <td>155</td>\n",
       "      <td>135</td>\n",
       "      <td>264</td>\n",
       "    </tr>\n",
       "    <tr>\n",
       "      <th>B_age</th>\n",
       "      <td>31</td>\n",
       "      <td>32</td>\n",
       "      <td>36</td>\n",
       "      <td>26</td>\n",
       "      <td>32</td>\n",
       "    </tr>\n",
       "    <tr>\n",
       "      <th>R_age</th>\n",
       "      <td>32</td>\n",
       "      <td>31</td>\n",
       "      <td>35</td>\n",
       "      <td>29</td>\n",
       "      <td>26</td>\n",
       "    </tr>\n",
       "  </tbody>\n",
       "</table>\n",
       "<p>145 rows × 5 columns</p>\n",
       "</div>"
      ],
      "text/plain": [
       "                                                   0                       1  \\\n",
       "R_fighter                               Henry Cejudo    Valentina Shevchenko   \n",
       "B_fighter                              Marlon Moraes             Jessica Eye   \n",
       "Referee                                 Marc Goddard         Robert Madrigal   \n",
       "date                                      2019-06-08              2019-06-08   \n",
       "location                      Chicago, Illinois, USA  Chicago, Illinois, USA   \n",
       "Winner                                           Red                     Red   \n",
       "title_bout                                      True                    True   \n",
       "weight_class                            Bantamweight       Women's Flyweight   \n",
       "no_of_rounds                                       5                       5   \n",
       "B_current_lose_streak                              0                       0   \n",
       "B_current_win_streak                               4                       3   \n",
       "B_draw                                             0                       0   \n",
       "B_avg_BODY_att                                   9.2                    14.6   \n",
       "B_avg_BODY_landed                                  6                     9.1   \n",
       "B_avg_CLINCH_att                                 0.2                    11.8   \n",
       "B_avg_CLINCH_landed                                0                     7.3   \n",
       "B_avg_DISTANCE_att                              62.6                   124.7   \n",
       "B_avg_DISTANCE_landed                           20.6                    42.1   \n",
       "B_avg_GROUND_att                                 2.6                     2.4   \n",
       "B_avg_GROUND_landed                                2                     1.9   \n",
       "B_avg_HEAD_att                                  48.6                     112   \n",
       "B_avg_HEAD_landed                               11.2                      32   \n",
       "B_avg_KD                                         0.8                       0   \n",
       "B_avg_LEG_att                                    7.6                    12.3   \n",
       "B_avg_LEG_landed                                 5.4                    10.2   \n",
       "B_avg_PASS                                       0.4                     0.8   \n",
       "B_avg_REV                                          0                       0   \n",
       "B_avg_SIG_STR_att                               65.4                   138.9   \n",
       "B_avg_SIG_STR_landed                            22.6                    51.3   \n",
       "B_avg_SIG_STR_pct                              0.466                   0.399   \n",
       "...                                              ...                     ...   \n",
       "R_avg_opp_KD                                     0.1                       0   \n",
       "R_avg_opp_LEG_att                                9.4                 29.1429   \n",
       "R_avg_opp_LEG_landed                             6.1                 18.1429   \n",
       "R_avg_opp_PASS                                     0                 1.14286   \n",
       "R_avg_opp_REV                                      0                       0   \n",
       "R_avg_opp_SIG_STR_att                           98.8                 115.571   \n",
       "R_avg_opp_SIG_STR_landed                        32.2                 44.7143   \n",
       "R_avg_opp_SIG_STR_pct                          0.336                0.437143   \n",
       "R_avg_opp_SUB_ATT                                  0                0.285714   \n",
       "R_avg_opp_TD_att                                 0.9                 3.28571   \n",
       "R_avg_opp_TD_landed                              0.1                0.857143   \n",
       "R_avg_opp_TD_pct                                0.05                0.147143   \n",
       "R_avg_opp_TOTAL_STR_att                        110.5                 158.143   \n",
       "R_avg_opp_TOTAL_STR_landed                      43.3                 82.2857   \n",
       "R_total_rounds_fought                             27                      25   \n",
       "R_total_time_fought(seconds)                   742.6                    1062   \n",
       "R_total_title_bouts                                3                       2   \n",
       "R_win_by_Decision_Majority                         0                       0   \n",
       "R_win_by_Decision_Split                            2                       1   \n",
       "R_win_by_Decision_Unanimous                        4                       2   \n",
       "R_win_by_KO/TKO                                    2                       0   \n",
       "R_win_by_Submission                                0                       2   \n",
       "R_win_by_TKO_Doctor_Stoppage                       0                       0   \n",
       "R_wins                                             8                       5   \n",
       "R_Stance                                    Orthodox                Southpaw   \n",
       "R_Height_cms                                  162.56                   165.1   \n",
       "R_Reach_cms                                   162.56                  167.64   \n",
       "R_Weight_lbs                                     135                     125   \n",
       "B_age                                             31                      32   \n",
       "R_age                                             32                      31   \n",
       "\n",
       "                                                   2                       3  \\\n",
       "R_fighter                              Tony Ferguson           Jimmie Rivera   \n",
       "B_fighter                             Donald Cerrone                Petr Yan   \n",
       "Referee                              Dan Miragliotta         Kevin MacDonald   \n",
       "date                                      2019-06-08              2019-06-08   \n",
       "location                      Chicago, Illinois, USA  Chicago, Illinois, USA   \n",
       "Winner                                           Red                    Blue   \n",
       "title_bout                                     False                   False   \n",
       "weight_class                             Lightweight            Bantamweight   \n",
       "no_of_rounds                                       3                       3   \n",
       "B_current_lose_streak                              0                       0   \n",
       "B_current_win_streak                               3                       4   \n",
       "B_draw                                             0                       0   \n",
       "B_avg_BODY_att                               15.3548                      17   \n",
       "B_avg_BODY_landed                            11.3226                      14   \n",
       "B_avg_CLINCH_att                             6.74194                   13.75   \n",
       "B_avg_CLINCH_landed                           4.3871                      11   \n",
       "B_avg_DISTANCE_att                           84.7419                   109.5   \n",
       "B_avg_DISTANCE_landed                        38.5806                   48.75   \n",
       "B_avg_GROUND_att                             5.51613                      13   \n",
       "B_avg_GROUND_landed                          3.80645                    10.5   \n",
       "B_avg_HEAD_att                               67.6452                  116.25   \n",
       "B_avg_HEAD_landed                            23.2581                   53.75   \n",
       "B_avg_KD                                    0.645161                     0.5   \n",
       "B_avg_LEG_att                                     14                       3   \n",
       "B_avg_LEG_landed                             12.1935                     2.5   \n",
       "B_avg_PASS                                  0.935484                     0.5   \n",
       "B_avg_REV                                  0.0967742                    0.25   \n",
       "B_avg_SIG_STR_att                                 97                  136.25   \n",
       "B_avg_SIG_STR_landed                         46.7742                   70.25   \n",
       "B_avg_SIG_STR_pct                           0.496129                    0.55   \n",
       "...                                              ...                     ...   \n",
       "R_avg_opp_KD                                0.266667                   0.125   \n",
       "R_avg_opp_LEG_att                                  6                   13.25   \n",
       "R_avg_opp_LEG_landed                             4.4                  11.125   \n",
       "R_avg_opp_PASS                              0.333333                       0   \n",
       "R_avg_opp_REV                               0.133333                       0   \n",
       "R_avg_opp_SIG_STR_att                        98.7333                 110.875   \n",
       "R_avg_opp_SIG_STR_landed                     35.7333                  44.875   \n",
       "R_avg_opp_SIG_STR_pct                           0.34                 0.44625   \n",
       "R_avg_opp_SUB_ATT                          0.0666667                       0   \n",
       "R_avg_opp_TD_att                             2.86667                   2.375   \n",
       "R_avg_opp_TD_landed                         0.666667                       0   \n",
       "R_avg_opp_TD_pct                            0.131333                       0   \n",
       "R_avg_opp_TOTAL_STR_att                      102.133                 115.125   \n",
       "R_avg_opp_TOTAL_STR_landed                      38.6                  48.875   \n",
       "R_total_rounds_fought                             33                      20   \n",
       "R_total_time_fought(seconds)                   604.4                  690.25   \n",
       "R_total_title_bouts                                2                       0   \n",
       "R_win_by_Decision_Majority                         0                       0   \n",
       "R_win_by_Decision_Split                            1                       1   \n",
       "R_win_by_Decision_Unanimous                        3                       4   \n",
       "R_win_by_KO/TKO                                    3                       1   \n",
       "R_win_by_Submission                                6                       0   \n",
       "R_win_by_TKO_Doctor_Stoppage                       1                       0   \n",
       "R_wins                                            14                       6   \n",
       "R_Stance                                    Orthodox                Orthodox   \n",
       "R_Height_cms                                  180.34                  162.56   \n",
       "R_Reach_cms                                   193.04                  172.72   \n",
       "R_Weight_lbs                                     155                     135   \n",
       "B_age                                             36                      26   \n",
       "R_age                                             35                      29   \n",
       "\n",
       "                                                   4  \n",
       "R_fighter                                Tai Tuivasa  \n",
       "B_fighter                              Blagoy Ivanov  \n",
       "Referee                              Dan Miragliotta  \n",
       "date                                      2019-06-08  \n",
       "location                      Chicago, Illinois, USA  \n",
       "Winner                                          Blue  \n",
       "title_bout                                     False  \n",
       "weight_class                             Heavyweight  \n",
       "no_of_rounds                                       3  \n",
       "B_current_lose_streak                              0  \n",
       "B_current_win_streak                               1  \n",
       "B_draw                                             0  \n",
       "B_avg_BODY_att                                    17  \n",
       "B_avg_BODY_landed                               14.5  \n",
       "B_avg_CLINCH_att                                 2.5  \n",
       "B_avg_CLINCH_landed                                2  \n",
       "B_avg_DISTANCE_att                               201  \n",
       "B_avg_DISTANCE_landed                           59.5  \n",
       "B_avg_GROUND_att                                   0  \n",
       "B_avg_GROUND_landed                                0  \n",
       "B_avg_HEAD_att                                 184.5  \n",
       "B_avg_HEAD_landed                                 45  \n",
       "B_avg_KD                                           0  \n",
       "B_avg_LEG_att                                      2  \n",
       "B_avg_LEG_landed                                   2  \n",
       "B_avg_PASS                                         0  \n",
       "B_avg_REV                                          0  \n",
       "B_avg_SIG_STR_att                              203.5  \n",
       "B_avg_SIG_STR_landed                            61.5  \n",
       "B_avg_SIG_STR_pct                               0.31  \n",
       "...                                              ...  \n",
       "R_avg_opp_KD                                    0.25  \n",
       "R_avg_opp_LEG_att                                5.5  \n",
       "R_avg_opp_LEG_landed                            3.75  \n",
       "R_avg_opp_PASS                                  0.75  \n",
       "R_avg_opp_REV                                      0  \n",
       "R_avg_opp_SIG_STR_att                             55  \n",
       "R_avg_opp_SIG_STR_landed                        22.5  \n",
       "R_avg_opp_SIG_STR_pct                         0.3975  \n",
       "R_avg_opp_SUB_ATT                                  0  \n",
       "R_avg_opp_TD_att                                   1  \n",
       "R_avg_opp_TD_landed                                0  \n",
       "R_avg_opp_TD_pct                                   0  \n",
       "R_avg_opp_TOTAL_STR_att                         60.5  \n",
       "R_avg_opp_TOTAL_STR_landed                     27.75  \n",
       "R_total_rounds_fought                              7  \n",
       "R_total_time_fought(seconds)                  440.75  \n",
       "R_total_title_bouts                                0  \n",
       "R_win_by_Decision_Majority                         0  \n",
       "R_win_by_Decision_Split                            0  \n",
       "R_win_by_Decision_Unanimous                        1  \n",
       "R_win_by_KO/TKO                                    2  \n",
       "R_win_by_Submission                                0  \n",
       "R_win_by_TKO_Doctor_Stoppage                       0  \n",
       "R_wins                                             3  \n",
       "R_Stance                                    Southpaw  \n",
       "R_Height_cms                                  187.96  \n",
       "R_Reach_cms                                    190.5  \n",
       "R_Weight_lbs                                     264  \n",
       "B_age                                             32  \n",
       "R_age                                             26  \n",
       "\n",
       "[145 rows x 5 columns]"
      ]
     },
     "execution_count": 2,
     "metadata": {},
     "output_type": "execute_result"
    }
   ],
   "source": [
    "#Reading the UFC Dataset (Used for Section #1- Visualization)\n",
    "UFC_df = pd.read_csv('./data.csv')\n",
    "\n",
    "#Transpose the DF\n",
    "UFC_df.head().T"
   ]
  },
  {
   "cell_type": "markdown",
   "metadata": {},
   "source": [
    "# Section 1:   Exploratory Data Analysis"
   ]
  },
  {
   "cell_type": "code",
   "execution_count": 3,
   "metadata": {},
   "outputs": [
    {
     "name": "stdout",
     "output_type": "stream",
     "text": [
      "<class 'pandas.core.frame.DataFrame'>\n",
      "RangeIndex: 5144 entries, 0 to 5143\n",
      "Columns: 145 entries, R_fighter to R_age\n",
      "dtypes: bool(1), float64(134), int64(1), object(9)\n",
      "memory usage: 5.7+ MB\n"
     ]
    }
   ],
   "source": [
    "#DataFrame Details: Num of Rows, Cols and Data types\n",
    "UFC_df.info()"
   ]
  },
  {
   "cell_type": "code",
   "execution_count": 4,
   "metadata": {},
   "outputs": [
    {
     "data": {
      "text/plain": [
       "B_avg_opp_DISTANCE_att          1265\n",
       "B_avg_TD_pct                    1265\n",
       "B_avg_opp_TD_att                1265\n",
       "B_avg_opp_TD_landed             1265\n",
       "B_avg_opp_TOTAL_STR_att         1265\n",
       "B_avg_opp_TOTAL_STR_landed      1265\n",
       "B_avg_opp_CLINCH_att            1265\n",
       "B_total_time_fought(seconds)    1265\n",
       "B_avg_opp_BODY_landed           1265\n",
       "B_avg_opp_BODY_att              1265\n",
       "B_avg_TOTAL_STR_landed          1265\n",
       "B_avg_TOTAL_STR_att             1265\n",
       "B_avg_TD_landed                 1265\n",
       "B_avg_opp_SIG_STR_pct           1265\n",
       "B_avg_LEG_att                   1265\n",
       "B_avg_LEG_landed                1265\n",
       "B_avg_TD_att                    1265\n",
       "B_avg_SUB_ATT                   1265\n",
       "B_avg_SIG_STR_pct               1265\n",
       "B_avg_SIG_STR_landed            1265\n",
       "B_avg_SIG_STR_att               1265\n",
       "B_avg_REV                       1265\n",
       "B_avg_PASS                      1265\n",
       "B_avg_opp_CLINCH_landed         1265\n",
       "B_avg_opp_SUB_ATT               1265\n",
       "B_avg_opp_TD_pct                1265\n",
       "B_avg_opp_SIG_STR_landed        1265\n",
       "B_avg_HEAD_att                  1265\n",
       "B_avg_BODY_att                  1265\n",
       "B_avg_opp_DISTANCE_landed       1265\n",
       "                                ... \n",
       "B_current_lose_streak              0\n",
       "R_win_by_Decision_Unanimous        0\n",
       "no_of_rounds                       0\n",
       "weight_class                       0\n",
       "title_bout                         0\n",
       "Winner                             0\n",
       "location                           0\n",
       "date                               0\n",
       "B_fighter                          0\n",
       "R_win_by_KO/TKO                    0\n",
       "R_win_by_Decision_Majority         0\n",
       "R_win_by_Decision_Split            0\n",
       "B_win_by_TKO_Doctor_Stoppage       0\n",
       "B_win_by_Decision_Majority         0\n",
       "B_losses                           0\n",
       "B_longest_win_streak               0\n",
       "B_win_by_Decision_Split            0\n",
       "B_win_by_Decision_Unanimous        0\n",
       "B_win_by_KO/TKO                    0\n",
       "B_win_by_Submission                0\n",
       "B_wins                             0\n",
       "B_total_title_bouts                0\n",
       "R_current_lose_streak              0\n",
       "R_current_win_streak               0\n",
       "R_draw                             0\n",
       "R_longest_win_streak               0\n",
       "R_losses                           0\n",
       "R_total_rounds_fought              0\n",
       "R_total_title_bouts                0\n",
       "R_fighter                          0\n",
       "Length: 145, dtype: int64"
      ]
     },
     "execution_count": 4,
     "metadata": {},
     "output_type": "execute_result"
    }
   ],
   "source": [
    "#Checking the sum of all null values\n",
    "UFC_df.isnull().sum().sort_values(ascending=False)"
   ]
  },
  {
   "cell_type": "code",
   "execution_count": 5,
   "metadata": {},
   "outputs": [
    {
     "data": {
      "text/plain": [
       "R_fighter                       0\n",
       "B_fighter                       0\n",
       "Referee                         0\n",
       "date                            0\n",
       "location                        0\n",
       "Winner                          0\n",
       "title_bout                      0\n",
       "weight_class                    0\n",
       "no_of_rounds                    0\n",
       "B_current_lose_streak           0\n",
       "B_current_win_streak            0\n",
       "B_draw                          0\n",
       "B_avg_BODY_att                  0\n",
       "B_avg_BODY_landed               0\n",
       "B_avg_CLINCH_att                0\n",
       "B_avg_CLINCH_landed             0\n",
       "B_avg_DISTANCE_att              0\n",
       "B_avg_DISTANCE_landed           0\n",
       "B_avg_GROUND_att                0\n",
       "B_avg_GROUND_landed             0\n",
       "B_avg_HEAD_att                  0\n",
       "B_avg_HEAD_landed               0\n",
       "B_avg_KD                        0\n",
       "B_avg_LEG_att                   0\n",
       "B_avg_LEG_landed                0\n",
       "B_avg_PASS                      0\n",
       "B_avg_REV                       0\n",
       "B_avg_SIG_STR_att               0\n",
       "B_avg_SIG_STR_landed            0\n",
       "B_avg_SIG_STR_pct               0\n",
       "                               ..\n",
       "R_avg_opp_KD                    0\n",
       "R_avg_opp_LEG_att               0\n",
       "R_avg_opp_LEG_landed            0\n",
       "R_avg_opp_PASS                  0\n",
       "R_avg_opp_REV                   0\n",
       "R_avg_opp_SIG_STR_att           0\n",
       "R_avg_opp_SIG_STR_landed        0\n",
       "R_avg_opp_SIG_STR_pct           0\n",
       "R_avg_opp_SUB_ATT               0\n",
       "R_avg_opp_TD_att                0\n",
       "R_avg_opp_TD_landed             0\n",
       "R_avg_opp_TD_pct                0\n",
       "R_avg_opp_TOTAL_STR_att         0\n",
       "R_avg_opp_TOTAL_STR_landed      0\n",
       "R_total_rounds_fought           0\n",
       "R_total_time_fought(seconds)    0\n",
       "R_total_title_bouts             0\n",
       "R_win_by_Decision_Majority      0\n",
       "R_win_by_Decision_Split         0\n",
       "R_win_by_Decision_Unanimous     0\n",
       "R_win_by_KO/TKO                 0\n",
       "R_win_by_Submission             0\n",
       "R_win_by_TKO_Doctor_Stoppage    0\n",
       "R_wins                          0\n",
       "R_Stance                        0\n",
       "R_Height_cms                    0\n",
       "R_Reach_cms                     0\n",
       "R_Weight_lbs                    0\n",
       "B_age                           0\n",
       "R_age                           0\n",
       "Length: 145, dtype: int64"
      ]
     },
     "execution_count": 5,
     "metadata": {},
     "output_type": "execute_result"
    }
   ],
   "source": [
    "#Drop all null values\n",
    "UFC_df.dropna(inplace=True)\n",
    "\n",
    "#Check for null values again\n",
    "UFC_df.isnull().sum()"
   ]
  },
  {
   "cell_type": "code",
   "execution_count": 6,
   "metadata": {},
   "outputs": [
    {
     "data": {
      "text/plain": [
       "R_fighter                        object\n",
       "B_fighter                        object\n",
       "Referee                          object\n",
       "date                             object\n",
       "location                         object\n",
       "Winner                           object\n",
       "title_bout                         bool\n",
       "weight_class                     object\n",
       "no_of_rounds                      int64\n",
       "B_current_lose_streak           float64\n",
       "B_current_win_streak            float64\n",
       "B_draw                          float64\n",
       "B_avg_BODY_att                  float64\n",
       "B_avg_BODY_landed               float64\n",
       "B_avg_CLINCH_att                float64\n",
       "B_avg_CLINCH_landed             float64\n",
       "B_avg_DISTANCE_att              float64\n",
       "B_avg_DISTANCE_landed           float64\n",
       "B_avg_GROUND_att                float64\n",
       "B_avg_GROUND_landed             float64\n",
       "B_avg_HEAD_att                  float64\n",
       "B_avg_HEAD_landed               float64\n",
       "B_avg_KD                        float64\n",
       "B_avg_LEG_att                   float64\n",
       "B_avg_LEG_landed                float64\n",
       "B_avg_PASS                      float64\n",
       "B_avg_REV                       float64\n",
       "B_avg_SIG_STR_att               float64\n",
       "B_avg_SIG_STR_landed            float64\n",
       "B_avg_SIG_STR_pct               float64\n",
       "                                 ...   \n",
       "R_avg_opp_KD                    float64\n",
       "R_avg_opp_LEG_att               float64\n",
       "R_avg_opp_LEG_landed            float64\n",
       "R_avg_opp_PASS                  float64\n",
       "R_avg_opp_REV                   float64\n",
       "R_avg_opp_SIG_STR_att           float64\n",
       "R_avg_opp_SIG_STR_landed        float64\n",
       "R_avg_opp_SIG_STR_pct           float64\n",
       "R_avg_opp_SUB_ATT               float64\n",
       "R_avg_opp_TD_att                float64\n",
       "R_avg_opp_TD_landed             float64\n",
       "R_avg_opp_TD_pct                float64\n",
       "R_avg_opp_TOTAL_STR_att         float64\n",
       "R_avg_opp_TOTAL_STR_landed      float64\n",
       "R_total_rounds_fought           float64\n",
       "R_total_time_fought(seconds)    float64\n",
       "R_total_title_bouts             float64\n",
       "R_win_by_Decision_Majority      float64\n",
       "R_win_by_Decision_Split         float64\n",
       "R_win_by_Decision_Unanimous     float64\n",
       "R_win_by_KO/TKO                 float64\n",
       "R_win_by_Submission             float64\n",
       "R_win_by_TKO_Doctor_Stoppage    float64\n",
       "R_wins                          float64\n",
       "R_Stance                         object\n",
       "R_Height_cms                    float64\n",
       "R_Reach_cms                     float64\n",
       "R_Weight_lbs                    float64\n",
       "B_age                           float64\n",
       "R_age                           float64\n",
       "Length: 145, dtype: object"
      ]
     },
     "execution_count": 6,
     "metadata": {},
     "output_type": "execute_result"
    }
   ],
   "source": [
    "#List of all data types\n",
    "UFC_df.dtypes"
   ]
  },
  {
   "cell_type": "code",
   "execution_count": 7,
   "metadata": {},
   "outputs": [],
   "source": [
    "# Converting for reassurence all numeric cols to float\n",
    "cols = UFC_df.columns\n",
    "toInclude = ['_avg_', 'pct', '_age', 'total', 'time', 'no_of_']\n",
    "\n",
    "for colname in cols:\n",
    "    for term in toInclude:\n",
    "        if term in colname:\n",
    "            UFC_df[colname] = pd.to_numeric(UFC_df[colname])\n",
    "  \n",
    "#UFC_df.info()"
   ]
  },
  {
   "cell_type": "markdown",
   "metadata": {},
   "source": [
    "# Weight Classes in UFC \n",
    "Probably at any combat sport, the athletes are splitted to Weight Classes aming to keep the competition fair.\n",
    "<br>**Since the athlete's mass is a great factor in any sport, espcially in combat sports,  The division into different weight classes minimalizing it's influence and maximalizing other great factors as combat Techniques and Styles**, which are among the reasons the UFC has gained it's popularity, because it displays most of the effective varaitey there is out there.\n"
   ]
  },
  {
   "cell_type": "markdown",
   "metadata": {},
   "source": [
    "## First let's take a look at the UFC's weight class scale"
   ]
  },
  {
   "cell_type": "code",
   "execution_count": 8,
   "metadata": {},
   "outputs": [
    {
     "data": {
      "text/plain": [
       "<matplotlib.axes._subplots.AxesSubplot at 0x7f70e60dbac8>"
      ]
     },
     "execution_count": 8,
     "metadata": {},
     "output_type": "execute_result"
    },
    {
     "data": {
      "image/png": "[encoded data removed]",
      "text/plain": [
       "<Figure size 576x288 with 1 Axes>"
      ]
     },
     "metadata": {
      "needs_background": "light"
     },
     "output_type": "display_data"
    }
   ],
   "source": [
    "# Creating a list of the Weight Classes\n",
    "classes = ['Flyweight', 'Bantamweight', 'Featherweight', 'Lightweight', 'Welterweight', 'Middleweight', 'Light Heavyweight', 'Heavyweight']\n",
    "\n",
    "# List of all Classes's upper bound in KG's\n",
    "weights = [56.7, 61.2, 65.8, 70.3, 77.1, 83.9, 93, 120]\n",
    "\n",
    "# Defining plot figure size\n",
    "fig, ax = plt.subplots(figsize=(8,4))\n",
    "\n",
    "# Creating bar plot\n",
    "classesBar = sns.barplot(x=weights, y=classes, palette='Blues')\n",
    "\n",
    "# Naming X&Y labels\n",
    "plt.xlabel('Class Upper Bound in KGs')\n",
    "plt.ylabel('Weight Class Name')\n",
    "\n",
    "# Changing x axis ticks to Min & Max\n",
    "plt.xticks([0, 120])\n",
    "\n",
    "#Positioning values on graph\n",
    "for i, v in enumerate(weights):\n",
    "    ax.text(v + 3, i + .20, str(v), color='black', fontweight='normal', fontsize=10)\n",
    "\n",
    "# Showing the graph\n",
    "classesBar"
   ]
  },
  {
   "cell_type": "markdown",
   "metadata": {},
   "source": [
    "**Note** that there's no lower bound to Flyweight class"
   ]
  },
  {
   "cell_type": "markdown",
   "metadata": {},
   "source": [
    "## But what is the propotion of the different Weight Classes?\n",
    "**Let's count them:**"
   ]
  },
  {
   "cell_type": "code",
   "execution_count": 9,
   "metadata": {},
   "outputs": [
    {
     "data": {
      "text/plain": [
       "<matplotlib.axes._subplots.AxesSubplot at 0x7f70e65d1780>"
      ]
     },
     "execution_count": 9,
     "metadata": {},
     "output_type": "execute_result"
    },
    {
     "data": {
      "image/png": "[encoded data removed]",
      "text/plain": [
       "<Figure size 576x288 with 1 Axes>"
      ]
     },
     "metadata": {
      "needs_background": "light"
     },
     "output_type": "display_data"
    }
   ],
   "source": [
    "fig, ax = plt.subplots(figsize=(8,4))\n",
    "\n",
    "# Creating Count plot, defining specific order\n",
    "weightClasses = sns.countplot(y=\"weight_class\", data=UFC_df, order=['Flyweight','Featherweight','Bantamweight','Lightweight','Welterweight','Middleweight','Light Heavyweight','Heavyweight'], palette=\"Blues\")\n",
    "\n",
    "plt.title(\"Num of Athletes by Weight Class\")\n",
    "plt.xlabel(\"Num of Fighters\")\n",
    "plt.ylabel(\"Weight Class\")\n",
    "plt.tight_layout()\n",
    "\n",
    "weightClasses"
   ]
  },
  {
   "cell_type": "markdown",
   "metadata": {},
   "source": [
    "### We can see that the middle way classes has the largest representation in UFC\n",
    "> Suprising enough or not, The Lightest classes is smaller than the Heaviest."
   ]
  },
  {
   "cell_type": "markdown",
   "metadata": {},
   "source": [
    "## Average Match Duration\n",
    "\n",
    "####  Hint: Not all fights ends within the same duration.\n",
    "> <br> **1. Technically a match has no limit on how soon it will be ended, but does on how long.**\n",
    "<br>2. Each round is 5 minutes.\n",
    "<br>3. A casual match ends within 3 rounds / A Title Match or a 'Fight of the Night', both ends within 5 rounds.\n",
    "\n",
    "### So Lets cut the average match duration through Weight Class:"
   ]
  },
  {
   "cell_type": "code",
   "execution_count": 10,
   "metadata": {},
   "outputs": [
    {
     "data": {
      "text/plain": [
       "<matplotlib.axes._subplots.AxesSubplot at 0x7f70e65a7518>"
      ]
     },
     "execution_count": 10,
     "metadata": {},
     "output_type": "execute_result"
    },
    {
     "data": {
      "image/png": "[encoded data removed]",
      "text/plain": [
       "<Figure size 576x288 with 1 Axes>"
      ]
     },
     "metadata": {
      "needs_background": "light"
     },
     "output_type": "display_data"
    }
   ],
   "source": [
    "fig, ax = plt.subplots(figsize=(8,4))\n",
    "duration = sns.barplot(x='R_total_time_fought(seconds)',y=\"weight_class\", data=UFC_df,estimator=mean,order=['Flyweight','Featherweight','Bantamweight','Lightweight','Welterweight','Middleweight','Light Heavyweight','Heavyweight'], palette=\"rocket\")\n",
    "\n",
    "plt.ylabel('Weight Class')\n",
    "plt.xlabel('Match time in Seconds')\n",
    "\n",
    "plt.title('Average match duration by weight Class')\n",
    "\n",
    "plt.xticks(rotation=60)\n",
    "plt.tight_layout()\n",
    "\n",
    "duration"
   ]
  },
  {
   "cell_type": "markdown",
   "metadata": {},
   "source": [
    "### We can observe the correlation of match duration to the weight class:\n",
    "> The heavier the wieght class is, the average match duration is coming down.\n",
    "<br>**Flyweight which is the lighest category tends to fight the longest, and Heavyweight (Heaviest) tends to fight the shortest fights.**\n",
    "<br>The common logic is, the lighter the athlete is, the easier is to develop and maintain high cardio capabillities - which means more attacks. <br>\n",
    "Following that logic, that means the lighter the athlete is, the less lethal his shots are? <br>\n",
    "**Let's inquire into that question:**\n",
    "\n"
   ]
  },
  {
   "cell_type": "markdown",
   "metadata": {},
   "source": [
    "## In what ways a UFC match can end?\n",
    "## **A UFC match can end by 5 ways:**\n",
    "> <br>**1. By Knockout (KO):** <br> \n",
    " This is not only often the most exciting moment of a match, but also delivered the most <br> spectacular fights of underdog come-backs, which by judges score the favourite opponent would win.\n",
    "<br>**2. By Techniqal Knockout (TKO):** \n",
    "<br>If the referee feels like the beaten opponent can not defened him self and recover from the attack he's under, and hes not tapping out, the ref will end the fight by Techniqal Knockout. (At this Dataset KO and TKO are counted together)\n",
    "<br>**3. By Submission:** <br>\n",
    "usually appears under a ground game, like arm\\leg bar or chocking. Submission occures once an opponent has tapped out.\n",
    "<br>**4. By Judge's Score:** \n",
    "<br>3 Judges are counting and scoring each athlete's striking and defencing displayed techniques, if all rounds has ended with both standing up, the desicion is up to the Judges scores. Either by split desicion (majority) or unanimous.\n",
    "<br>**5. By a Doctor Stoppage:**\n",
    "<br>if he thinks the athelte has taken too much damage that he might not recover properly from.\n"
   ]
  },
  {
   "cell_type": "markdown",
   "metadata": {},
   "source": [
    "## So lets cut the knockouts by Weight Class\n",
    "### But first let's take a look at average of attemptted and landed shots at all Weight Classes:"
   ]
  },
  {
   "cell_type": "code",
   "execution_count": 11,
   "metadata": {},
   "outputs": [
    {
     "data": {
      "text/plain": [
       "<matplotlib.axes._subplots.AxesSubplot at 0x7f70e65053c8>"
      ]
     },
     "execution_count": 11,
     "metadata": {},
     "output_type": "execute_result"
    },
    {
     "data": {
      "image/png": "[encoded data removed]",
      "text/plain": [
       "<Figure size 576x288 with 1 Axes>"
      ]
     },
     "metadata": {
      "needs_background": "light"
     },
     "output_type": "display_data"
    }
   ],
   "source": [
    "# Concating all Red and Blue Corner's total Strikes - Attempts + Success\n",
    "totalStrikes_Red_Blue = UFC_df['R_avg_TOTAL_STR_att'] + UFC_df['R_avg_TOTAL_STR_landed'] + UFC_df['B_avg_TOTAL_STR_att'] + UFC_df['B_avg_TOTAL_STR_landed']\n",
    "\n",
    "#Ploting\n",
    "fig, ax = plt.subplots(figsize=(8,4))\n",
    "shots = sns.barplot(x=totalStrikes_Red_Blue,y='weight_class', data=UFC_df, estimator=mean,order=['Flyweight','Featherweight','Bantamweight','Lightweight','Welterweight','Middleweight','Light Heavyweight','Heavyweight'], palette=\"rocket\")\n",
    "\n",
    "plt.title('Average of Total shots attemptted and landed by Weight Class')\n",
    "plt.xlabel('Total shots attempted')\n",
    "plt.ylabel('Weight Class')\n",
    "\n",
    "plt.xticks(rotation=60)\n",
    "plt.tight_layout()\n",
    "\n",
    "shots"
   ]
  },
  {
   "cell_type": "markdown",
   "metadata": {},
   "source": [
    "### As we can see, again, the Lighter the class is, more shots has been thrown\n",
    "## But which class is actually most likely to win by Knockout?"
   ]
  },
  {
   "cell_type": "code",
   "execution_count": 12,
   "metadata": {},
   "outputs": [
    {
     "data": {
      "text/plain": [
       "<matplotlib.axes._subplots.AxesSubplot at 0x7f70e64d3be0>"
      ]
     },
     "execution_count": 12,
     "metadata": {},
     "output_type": "execute_result"
    },
    {
     "data": {
      "image/png": "[encoded data removed]",
      "text/plain": [
       "<Figure size 576x288 with 1 Axes>"
      ]
     },
     "metadata": {
      "needs_background": "light"
     },
     "output_type": "display_data"
    }
   ],
   "source": [
    "# Concating Red and Blue Corner's wins by Knockouts\n",
    "knockoutWins_Red_Blue = UFC_df['R_win_by_KO/TKO'] + UFC_df['B_win_by_KO/TKO']\n",
    "\n",
    "#Ploting\n",
    "fig, ax = plt.subplots(figsize=(8,4))\n",
    "knockouts = sns.barplot(x=knockoutWins_Red_Blue,y=\"weight_class\", data=UFC_df,estimator=mean, order=['Flyweight','Featherweight','Bantamweight','Lightweight','Welterweight','Middleweight','Light Heavyweight','Heavyweight'], palette=\"rocket\")\n",
    "\n",
    "plt.title('Average knockouts by weight class')\n",
    "plt.ylabel('Weight Class')\n",
    "plt.xlabel('Total Knockouts')\n",
    "\n",
    "plt.xticks(rotation=60)\n",
    "plt.tight_layout()\n",
    "\n",
    "knockouts"
   ]
  },
  {
   "cell_type": "markdown",
   "metadata": {},
   "source": [
    "### Conclusion: The heaviest the category is, the more chance of a knockout ending\n",
    "> Which assure the assumed logic - **the heavyier the athelte is, the lethal his shots are.**\n",
    "<br>Although heavier weight classes in general throws less shots in average, when they hit the spot, the chances for a Knockout is at it's peak."
   ]
  },
  {
   "cell_type": "markdown",
   "metadata": {},
   "source": [
    "## Now let's take a look at winning by submission\n",
    "> Submission takes place more often as the athletes wrestling on the ground, where the optmial use of body mass is a critical factor.\n",
    "\n",
    "### First, all submissions attempts:"
   ]
  },
  {
   "cell_type": "code",
   "execution_count": 13,
   "metadata": {},
   "outputs": [
    {
     "data": {
      "text/plain": [
       "<matplotlib.axes._subplots.AxesSubplot at 0x7f70e6443828>"
      ]
     },
     "execution_count": 13,
     "metadata": {},
     "output_type": "execute_result"
    },
    {
     "data": {
      "image/png": "[encoded data removed]",
      "text/plain": [
       "<Figure size 576x288 with 1 Axes>"
      ]
     },
     "metadata": {
      "needs_background": "light"
     },
     "output_type": "display_data"
    }
   ],
   "source": [
    "# Concating Red and Blue Croners submission attempts\n",
    "submissionAttempts_Red_Blue = UFC_df['R_avg_SUB_ATT'] + UFC_df['R_avg_SUB_ATT']\n",
    "\n",
    "# Ploting\n",
    "fig, ax = plt.subplots(figsize=(8,4))\n",
    "submissions_att = sns.barplot(x=submissionAttempts_Red_Blue,y='weight_class', data=UFC_df, estimator=mean,order=['Flyweight','Featherweight','Bantamweight','Lightweight','Welterweight','Middleweight','Light Heavyweight','Heavyweight'], palette=\"rocket\")\n",
    "\n",
    "plt.title('Average of Total submissions attempted by Weight Class')\n",
    "plt.xlabel('Total submissions attempted')\n",
    "plt.ylabel('Weight Class')\n",
    "\n",
    "plt.xticks(rotation=60)\n",
    "plt.tight_layout()\n",
    "\n",
    "submissions_att"
   ]
  },
  {
   "cell_type": "markdown",
   "metadata": {},
   "source": [
    "## So what Weight Class is most likely to win by Submission?"
   ]
  },
  {
   "cell_type": "code",
   "execution_count": 14,
   "metadata": {},
   "outputs": [
    {
     "data": {
      "text/plain": [
       "<matplotlib.axes._subplots.AxesSubplot at 0x7f70e641c5c0>"
      ]
     },
     "execution_count": 14,
     "metadata": {},
     "output_type": "execute_result"
    },
    {
     "data": {
      "image/png": "[encoded data removed]",
      "text/plain": [
       "<Figure size 576x288 with 1 Axes>"
      ]
     },
     "metadata": {
      "needs_background": "light"
     },
     "output_type": "display_data"
    }
   ],
   "source": [
    "# Concating all Red and Blue Corner's wins by submission\n",
    "submissionWin_Red_Blue = UFC_df['R_win_by_Submission'] + UFC_df['B_win_by_Submission']\n",
    "\n",
    "# Ploting\n",
    "fig, ax = plt.subplots(figsize=(8,4))\n",
    "submissions = sns.barplot(x=submissionWin_Red_Blue,y=\"weight_class\", data=UFC_df,estimator=mean,order=['Flyweight','Featherweight','Bantamweight','Lightweight','Welterweight','Middleweight','Light Heavyweight','Heavyweight'], palette=\"rocket\")\n",
    "\n",
    "plt.title('Average Submissions by Weight Class')\n",
    "plt.xlabel('Weight Class')\n",
    "plt.ylabel('Total Submissions')\n",
    "\n",
    "plt.xticks(rotation=60)\n",
    "plt.tight_layout()\n",
    "\n",
    "submissions"
   ]
  },
  {
   "cell_type": "markdown",
   "metadata": {},
   "source": [
    "### Conclusion: the middle way classes are more likely to win by submission, as they are also attempting more.\n",
    "> As knockouts are more related to Standing fighting techniques, <br>\n",
    "We saw that a heavier weight class holds a better chance for knockout.\n",
    "<br> Submission is more related to 'ground game', where the possibilities for a bar or chock is much higher.\n",
    "<br> **Here, the two ends of the classes spectrum, the Heaviest and Lightest, has just about the same probability**, as both having hard time to optimize thier own mass in a ground game.\n"
   ]
  },
  {
   "cell_type": "markdown",
   "metadata": {},
   "source": [
    "### So Weight Classes are a direvative of the athlete's weight parameter, which is in corellation to other significant factors in combat sports\n",
    "\n",
    "## Then what other physical key parameters is displayed across Weight Classes?"
   ]
  },
  {
   "cell_type": "markdown",
   "metadata": {},
   "source": [
    "## Athlete's Height Distribution in UFC"
   ]
  },
  {
   "cell_type": "code",
   "execution_count": 15,
   "metadata": {},
   "outputs": [
    {
     "data": {
      "image/png": "[encoded data removed]",
      "text/plain": [
       "<Figure size 1008x432 with 1 Axes>"
      ]
     },
     "metadata": {
      "needs_background": "light"
     },
     "output_type": "display_data"
    }
   ],
   "source": [
    "# Listing all athletes by thier class weight\n",
    "athletesByClasses = []\n",
    "for i, classWeight in enumerate(classes):\n",
    "    athletesByClasses.append(UFC_df.loc[UFC_df['weight_class'] == classWeight])\n",
    "\n",
    "# Listing thier Height\n",
    "height = []\n",
    "for i, classWeight in enumerate(athletesByClasses):\n",
    "    height.append(classWeight.R_Height_cms)\n",
    "\n",
    "# Defining Graphs size\n",
    "fig, ax = plt.subplots(figsize=(14, 6))\n",
    "\n",
    "# Creating a kdeplot for each Class weight\n",
    "graphs = []\n",
    "for height, classWeight in zip(height, classes):\n",
    "    graphs.append(sns.kdeplot(height, shade=True, label=classWeight))\n",
    "\n",
    "\n",
    "plt.xlabel('Height in cms')\n",
    "plt.ylabel('Freq.')\n",
    "plt.title('Height Distribution Across Weight Classes')\n",
    "plt.show()"
   ]
  },
  {
   "cell_type": "markdown",
   "metadata": {},
   "source": [
    "### We can definitely observe a linear progression climbing up or down the weight class scale\n",
    "> Which displays a strong correlation to the weight factor."
   ]
  },
  {
   "cell_type": "markdown",
   "metadata": {},
   "source": [
    "## Height leads to the next key parameter: Athelet's Reach\n",
    "![Reach](https://cdn.shortpixel.ai/client/to_webp,q_glossy,ret_img,w_794/https://fighterculture.com/wp-content/uploads/2020/01/how-to-measure-reach-1.png)"
   ]
  },
  {
   "cell_type": "markdown",
   "metadata": {},
   "source": [
    "> ' **Reach**, also known as wingspan, is a key measurement in sports like boxing and UFC. This is measured from fingertip to fingertip when your arms are held parallel to the ground. '\n",
    "\n",
    "> ' **Why reach is important?**\n",
    "Obviously, the fighter with a longer reach has an advantage. Usually, the fighter with the longer reach will try to keep the distance while the shorter fighter will try to close the distance and land punches from inside. '"
   ]
  },
  {
   "cell_type": "code",
   "execution_count": 16,
   "metadata": {},
   "outputs": [
    {
     "data": {
      "image/png": "[encoded data removed]",
      "text/plain": [
       "<Figure size 1008x432 with 1 Axes>"
      ]
     },
     "metadata": {
      "needs_background": "light"
     },
     "output_type": "display_data"
    }
   ],
   "source": [
    "# Listing all athletes by thier class weight\n",
    "athletesByClasses = []\n",
    "for i, classWeight in enumerate(classes):\n",
    "    athletesByClasses.append(UFC_df.loc[UFC_df['weight_class'] == classWeight])\n",
    "\n",
    "# Listing thier Height\n",
    "Reach = []\n",
    "for i, classWeight in enumerate(athletesByClasses):\n",
    "    Reach.append(classWeight.R_Reach_cms)\n",
    "\n",
    "# Defining Graphs size\n",
    "fig, ax = plt.subplots(figsize=(14, 6))\n",
    "\n",
    "# Creating kde for each Class Weight\n",
    "graphs = []\n",
    "for reach, classWeight in zip(Reach, classes):\n",
    "    graphs.append(sns.kdeplot(reach, shade=True, label=classWeight))\n",
    "\n",
    "plt.xlabel('Reach in cms')\n",
    "plt.ylabel('Freq.')\n",
    "plt.title('Reach Distribution Across Weight Class')\n",
    "plt.show()"
   ]
  },
  {
   "cell_type": "markdown",
   "metadata": {},
   "source": [
    "### Here we can also observe that linear fashion scaling up or down but,\n",
    "> **The overlaping between the classes is bigger** from FeatherWeight to Light HeavyWeight, \n",
    "> Which suggest that the correlation of Weight-Reach exsits, but not quite strong as Weight-Height."
   ]
  },
  {
   "cell_type": "markdown",
   "metadata": {},
   "source": [
    "## Well the next physical parameter probably has no special correlation to Weight Class,\n",
    "### But it is an interesting one:\n",
    "## The Athletes Age Distribution"
   ]
  },
  {
   "cell_type": "code",
   "execution_count": 17,
   "metadata": {},
   "outputs": [
    {
     "data": {
      "text/plain": [
       "<matplotlib.axes._subplots.AxesSubplot at 0x7f70e63406d8>"
      ]
     },
     "execution_count": 17,
     "metadata": {},
     "output_type": "execute_result"
    },
    {
     "data": {
      "image/png": "[encoded data removed]",
      "text/plain": [
       "<Figure size 432x288 with 1 Axes>"
      ]
     },
     "metadata": {
      "needs_background": "light"
     },
     "output_type": "display_data"
    }
   ],
   "source": [
    "# Creating Age Distribution graph\n",
    "AgeDis = sns.distplot(UFC_df['R_age'], bins=20, color='black')\n",
    "\n",
    "plt.title('Athlete Age Distribuiton')\n",
    "plt.xlabel('Athletes Age')\n",
    "plt.ylabel('Frequency')\n",
    "\n",
    "AgeDis"
   ]
  },
  {
   "cell_type": "markdown",
   "metadata": {},
   "source": [
    "### Age of 30.. I bet it wouldn't be the first guess of many\n",
    "> And also the fact that there is athletes over 40 is not common in other Sports fields"
   ]
  },
  {
   "cell_type": "markdown",
   "metadata": {},
   "source": [
    "## Next, Stance\n",
    "In general there's 3 Stance types:\n",
    "1. **Orthodox**\n",
    "2. **Southpaw**\n",
    "3. **Switch** - when an athletes can use both (1, 2)\n",
    "\n",
    "> ' In boxing and some other sports, a southpaw stance is where the boxer has their right hand and right foot forward, leading with right jabs, and following with a left cross right hook. It is the normal stance for a left-handed boxer. The corresponding boxing designation for a right-handed boxer is orthodox and is generally a mirror-image of the southpaw stance. In American English, \"southpaw\" generally refers to a person who is left handed. '"
   ]
  },
  {
   "cell_type": "markdown",
   "metadata": {},
   "source": [
    "## Let's check how sgnificant the Stance parameter is - \n",
    "### Let's find for each stance, how many Contendor and None Contendors it includes:\n",
    "Let's start with **Orthodox** stance:\n",
    "\n",
    "> Since it is the same proccess for all stances, i'll write down comments only here at the first"
   ]
  },
  {
   "cell_type": "code",
   "execution_count": 18,
   "metadata": {},
   "outputs": [
    {
     "data": {
      "text/html": [
       "<div>\n",
       "<style scoped>\n",
       "    .dataframe tbody tr th:only-of-type {\n",
       "        vertical-align: middle;\n",
       "    }\n",
       "\n",
       "    .dataframe tbody tr th {\n",
       "        vertical-align: top;\n",
       "    }\n",
       "\n",
       "    .dataframe thead th {\n",
       "        text-align: right;\n",
       "    }\n",
       "</style>\n",
       "<table border=\"1\" class=\"dataframe\">\n",
       "  <thead>\n",
       "    <tr style=\"text-align: right;\">\n",
       "      <th></th>\n",
       "      <th>Stance</th>\n",
       "      <th>None_Contendors</th>\n",
       "      <th>Contendors</th>\n",
       "    </tr>\n",
       "  </thead>\n",
       "  <tbody>\n",
       "    <tr>\n",
       "      <th>0</th>\n",
       "      <td>Orthodox</td>\n",
       "      <td>905</td>\n",
       "      <td>114</td>\n",
       "    </tr>\n",
       "  </tbody>\n",
       "</table>\n",
       "</div>"
      ],
      "text/plain": [
       "     Stance None_Contendors Contendors\n",
       "0  Orthodox             905        114"
      ]
     },
     "execution_count": 18,
     "metadata": {},
     "output_type": "execute_result"
    }
   ],
   "source": [
    "# Creating DF only with relevant columns\n",
    "cols2Keep = ['R_Stance', 'B_Stance', 'R_fighter', 'B_fighter', 'title_bout']\n",
    "OrthodoxAthletes = UFC_df[cols2Keep]\n",
    "\n",
    "# Using loc to target only Orthodox atheltes\n",
    "OrthodoxAthletes_R = OrthodoxAthletes.loc[OrthodoxAthletes['R_Stance'] == 'Orthodox']\n",
    "\n",
    "# Deleting Red Corners Data\n",
    "del OrthodoxAthletes_R['B_Stance']\n",
    "del OrthodoxAthletes_R['B_fighter']\n",
    "\n",
    "# Creatring DFs for Contendors and None-Contendors - Red Corner\n",
    "OrthodoxAthletes_R_None_Con = OrthodoxAthletes_R.loc[OrthodoxAthletes_R['title_bout'] == False]\n",
    "OrthodoxAthletes_R_Contendors = OrthodoxAthletes_R.loc[OrthodoxAthletes_R['title_bout'] == True]\n",
    "\n",
    "# numOf_OrthodoxAthletes_R_Contendors = OrthodoxAthletes_R_Contendors['R_fighter'].nunique()\n",
    "# print('Red Corner - Number of unique Orthodox Contendors athletes:', numOf_OrthodoxAthletes_R_Contendors)\n",
    "\n",
    "# Using loc to target Blue Corner's Orthodox athletes\n",
    "OrthodoxAthletes_B = OrthodoxAthletes.loc[OrthodoxAthletes['B_Stance'] == 'Orthodox']\n",
    "\n",
    "# Deleting Red Corner's Data\n",
    "del OrthodoxAthletes_B['R_Stance']\n",
    "del OrthodoxAthletes_B['R_fighter']\n",
    "\n",
    "# Creatring 2 DFs for Blue Corners Contendors and None-Contendors\n",
    "OrthodoxAthletes_B_Contendors = OrthodoxAthletes_B.loc[OrthodoxAthletes_B['title_bout'] == True]\n",
    "OrthodoxAthletes_B_None_Con = OrthodoxAthletes_B.loc[OrthodoxAthletes_B['title_bout'] == False]\n",
    "\n",
    "# numOf_OrthodoxAthletes_B_Contendors = OrthodoxAthletes_B_Contendors['B_fighter'].nunique()\n",
    "# print('Blue Corner - Number of unique Orthodox Contendors athletes:', numOf_OrthodoxAthletes_B_Contendors)\n",
    "\n",
    "# Preparing DFs columns for concat function\n",
    "newCols = ['Stance', 'Fighter', 'title_bout']\n",
    "OrthodoxAthletes_R_Contendors.columns = newCols\n",
    "OrthodoxAthletes_B_Contendors.columns = newCols\n",
    "\n",
    "# Concat Red and Blue to Contendors DF - Droping nulls, and Duplicates\n",
    "allOrthodoxAthletes_Contendors = pd.concat([OrthodoxAthletes_R_Contendors, OrthodoxAthletes_B_Contendors]).drop_duplicates(keep='first').reset_index(drop=True).dropna()\n",
    "\n",
    "# Preparing DFs columns for concat function for All None-Contendors DF\n",
    "OrthodoxAthletes_R_None_Con.columns = newCols\n",
    "OrthodoxAthletes_B_None_Con.columns = newCols\n",
    "\n",
    "# Concating Red and Blue, dropping nulls and Dups\n",
    "allOrthodoxAthletes_None_Con = pd.concat([OrthodoxAthletes_R_None_Con, OrthodoxAthletes_B_None_Con]).drop_duplicates(keep='first').reset_index(drop=True).dropna()\n",
    "\n",
    "# Num of unique athletes by name\n",
    "numOf_allOrthodoxAthletes_Contendors = allOrthodoxAthletes_Contendors['Fighter'].nunique()\n",
    "numOf_allOrthodoxAthletes_None_Con = allOrthodoxAthletes_None_Con['Fighter'].nunique()\n",
    "\n",
    "# Creating Stance DF divded to Contendors and None Contendors \n",
    "Stance_df = pd.DataFrame(columns = ['Stance','None_Contendors','Contendors'])\n",
    "\n",
    "# Assiging into list for DF assignment\n",
    "Orthodox_info = ['Orthodox', numOf_allOrthodoxAthletes_None_Con, numOf_allOrthodoxAthletes_Contendors]\n",
    "\n",
    "# Assigning the outcome to the Stance DF\n",
    "Stance_df.loc[len(Stance_df)] = Orthodox_info\n",
    "\n",
    "Stance_df.head()"
   ]
  },
  {
   "cell_type": "markdown",
   "metadata": {},
   "source": [
    "Now **Southpaw** stance:"
   ]
  },
  {
   "cell_type": "code",
   "execution_count": 19,
   "metadata": {},
   "outputs": [
    {
     "data": {
      "text/html": [
       "<div>\n",
       "<style scoped>\n",
       "    .dataframe tbody tr th:only-of-type {\n",
       "        vertical-align: middle;\n",
       "    }\n",
       "\n",
       "    .dataframe tbody tr th {\n",
       "        vertical-align: top;\n",
       "    }\n",
       "\n",
       "    .dataframe thead th {\n",
       "        text-align: right;\n",
       "    }\n",
       "</style>\n",
       "<table border=\"1\" class=\"dataframe\">\n",
       "  <thead>\n",
       "    <tr style=\"text-align: right;\">\n",
       "      <th></th>\n",
       "      <th>Stance</th>\n",
       "      <th>None_Contendors</th>\n",
       "      <th>Contendors</th>\n",
       "    </tr>\n",
       "  </thead>\n",
       "  <tbody>\n",
       "    <tr>\n",
       "      <th>0</th>\n",
       "      <td>Orthodox</td>\n",
       "      <td>905</td>\n",
       "      <td>114</td>\n",
       "    </tr>\n",
       "    <tr>\n",
       "      <th>1</th>\n",
       "      <td>Southpaw</td>\n",
       "      <td>210</td>\n",
       "      <td>33</td>\n",
       "    </tr>\n",
       "  </tbody>\n",
       "</table>\n",
       "</div>"
      ],
      "text/plain": [
       "     Stance None_Contendors Contendors\n",
       "0  Orthodox             905        114\n",
       "1  Southpaw             210         33"
      ]
     },
     "execution_count": 19,
     "metadata": {},
     "output_type": "execute_result"
    }
   ],
   "source": [
    "#############################################################################################################\n",
    "## Probably i should have code this with loop, because code repeat itself, same operations as prev code block\n",
    "\n",
    "cols2Keep = ['R_Stance', 'B_Stance', 'R_fighter', 'B_fighter', 'title_bout']\n",
    "SouthpawAthletes = UFC_df[cols2Keep]\n",
    "\n",
    "SouthpawAthletes_R = SouthpawAthletes.loc[SouthpawAthletes['R_Stance'] == 'Southpaw']\n",
    "\n",
    "del SouthpawAthletes_R['B_Stance']\n",
    "del SouthpawAthletes_R['B_fighter']\n",
    "\n",
    "SouthpawAthletes_R_None_Con = SouthpawAthletes_R.loc[SouthpawAthletes_R['title_bout'] == False]\n",
    "SouthpawAthletes_R_Contendors = SouthpawAthletes_R.loc[SouthpawAthletes_R['title_bout'] == True]\n",
    "\n",
    "# numOf_SouthpawAthletes_R_Contendors = SouthpawAthletes_R_Contendors['R_fighter'].nunique()\n",
    "# print('Red Corner - Number of unique Southpaw Contendors athletes:', numOf_SouthpawAthletes_R_Contendors)\n",
    "\n",
    "SouthpawAthletes_B = SouthpawAthletes.loc[SouthpawAthletes['B_Stance'] == 'Southpaw']\n",
    "\n",
    "del SouthpawAthletes_B['R_Stance']\n",
    "del SouthpawAthletes_B['R_fighter']\n",
    "\n",
    "SouthpawAthletes_B_Contendors = SouthpawAthletes_B.loc[SouthpawAthletes_B['title_bout'] == True]\n",
    "SouthpawAthletes_B_None_Con = SouthpawAthletes_B.loc[SouthpawAthletes_B['title_bout'] == False]\n",
    "\n",
    "# numOf_SouthpawAthletes_B_Contendors = SouthpawAthletes_B_Contendors['B_fighter'].nunique()\n",
    "# print('Blue Corner - Number of unique Southpaw Contendors athletes:', numOf_SouthpawAthletes_B_Contendors)\n",
    "\n",
    "newCols = ['Stance', 'Fighter', 'title_bout']\n",
    "SouthpawAthletes_R_Contendors.columns = newCols\n",
    "SouthpawAthletes_B_Contendors.columns = newCols\n",
    "\n",
    "allSouthpawAthletes_Contendors = pd.concat([SouthpawAthletes_R_Contendors, SouthpawAthletes_B_Contendors]).drop_duplicates(keep='first').reset_index(drop=True).dropna()\n",
    "\n",
    "SouthpawAthletes_R_None_Con.columns = newCols\n",
    "SouthpawAthletes_B_None_Con.columns = newCols\n",
    "\n",
    "allSouthpawAthletes_None_Con = pd.concat([SouthpawAthletes_R_None_Con, SouthpawAthletes_B_None_Con]).drop_duplicates(keep='first').reset_index(drop=True).dropna()\n",
    "\n",
    "numOf_allSouthpawAthletes_Contendors = allSouthpawAthletes_Contendors['Fighter'].nunique()\n",
    "numOf_allSouthpawAthletes_None_Con = allSouthpawAthletes_None_Con['Fighter'].nunique()\n",
    "\n",
    "Southpaw_info = ['Southpaw', numOf_allSouthpawAthletes_None_Con, numOf_allSouthpawAthletes_Contendors]\n",
    "Stance_df.loc[len(Stance_df)] = Southpaw_info\n",
    "\n",
    "Stance_df.head()"
   ]
  },
  {
   "cell_type": "markdown",
   "metadata": {},
   "source": [
    "And **Switch** stance:"
   ]
  },
  {
   "cell_type": "code",
   "execution_count": 20,
   "metadata": {},
   "outputs": [
    {
     "data": {
      "text/html": [
       "<div>\n",
       "<style scoped>\n",
       "    .dataframe tbody tr th:only-of-type {\n",
       "        vertical-align: middle;\n",
       "    }\n",
       "\n",
       "    .dataframe tbody tr th {\n",
       "        vertical-align: top;\n",
       "    }\n",
       "\n",
       "    .dataframe thead th {\n",
       "        text-align: right;\n",
       "    }\n",
       "</style>\n",
       "<table border=\"1\" class=\"dataframe\">\n",
       "  <thead>\n",
       "    <tr style=\"text-align: right;\">\n",
       "      <th></th>\n",
       "      <th>Stance</th>\n",
       "      <th>None_Contendors</th>\n",
       "      <th>Contendors</th>\n",
       "    </tr>\n",
       "  </thead>\n",
       "  <tbody>\n",
       "    <tr>\n",
       "      <th>0</th>\n",
       "      <td>Orthodox</td>\n",
       "      <td>905</td>\n",
       "      <td>114</td>\n",
       "    </tr>\n",
       "    <tr>\n",
       "      <th>1</th>\n",
       "      <td>Southpaw</td>\n",
       "      <td>210</td>\n",
       "      <td>33</td>\n",
       "    </tr>\n",
       "    <tr>\n",
       "      <th>2</th>\n",
       "      <td>Switch</td>\n",
       "      <td>45</td>\n",
       "      <td>4</td>\n",
       "    </tr>\n",
       "  </tbody>\n",
       "</table>\n",
       "</div>"
      ],
      "text/plain": [
       "     Stance None_Contendors Contendors\n",
       "0  Orthodox             905        114\n",
       "1  Southpaw             210         33\n",
       "2    Switch              45          4"
      ]
     },
     "execution_count": 20,
     "metadata": {},
     "output_type": "execute_result"
    }
   ],
   "source": [
    "# Same operations as prev blocks\n",
    "\n",
    "cols2Keep = ['R_Stance', 'B_Stance', 'R_fighter', 'B_fighter', 'title_bout']\n",
    "SwitchAthletes = UFC_df[cols2Keep]\n",
    "\n",
    "SwitchAthletes_R = SwitchAthletes.loc[SwitchAthletes['R_Stance'] == 'Switch']\n",
    "\n",
    "del SwitchAthletes_R['B_Stance']\n",
    "del SwitchAthletes_R['B_fighter']\n",
    "\n",
    "SwitchAthletes_R_None_Con = SwitchAthletes_R.loc[SwitchAthletes_R['title_bout'] == False]\n",
    "SwitchAthletes_R_Contendors = SwitchAthletes_R.loc[SwitchAthletes_R['title_bout'] == True]\n",
    "\n",
    "# numOf_SwitchAthletes_R_Contendors = SwitchAthletes_R_Contendors['R_fighter'].nunique()\n",
    "# print('Red Corner - Number of unique Switch Contendors athletes:', numOf_SwitchAthletes_R_Contendors)\n",
    "\n",
    "SwitchAthletes_B = SwitchAthletes.loc[SwitchAthletes['B_Stance'] == 'Switch']\n",
    "\n",
    "del SwitchAthletes_B['R_Stance']\n",
    "del SwitchAthletes_B['R_fighter']\n",
    "\n",
    "SwitchAthletes_B_Contendors = SwitchAthletes_B.loc[SwitchAthletes_B['title_bout'] == True]\n",
    "SwitchAthletes_B_None_Con = SwitchAthletes_B.loc[SwitchAthletes_B['title_bout'] == False]\n",
    "\n",
    "# numOf_SwitchAthletes_B_Contendors = SwitchAthletes_B_Contendors['B_fighter'].nunique()\n",
    "# print('Blue Corner - Number of unique Switch Contendors athletes:', numOf_SwitchAthletes_B_Contendors)\n",
    "\n",
    "newCols = ['Stance', 'Fighter', 'title_bout']\n",
    "\n",
    "SwitchAthletes_R_Contendors.columns = newCols\n",
    "SwitchAthletes_B_Contendors.columns = newCols\n",
    "\n",
    "allSwitchAthletes_Contendors = pd.concat([SwitchAthletes_R_Contendors, SwitchAthletes_B_Contendors]).drop_duplicates(keep='first').reset_index(drop=True).dropna()\n",
    "\n",
    "SwitchAthletes_R_None_Con.columns = newCols\n",
    "SwitchAthletes_B_None_Con.columns = newCols\n",
    "\n",
    "allSwitchAthletes_None_Con = pd.concat([SwitchAthletes_R_None_Con, SwitchAthletes_B_None_Con]).drop_duplicates(keep='first').reset_index(drop=True).dropna()\n",
    "\n",
    "numOf_allSwitchAthletes_Contendors = allSwitchAthletes_Contendors['Fighter'].nunique()\n",
    "numOf_allSwitchAthletes_None_Con = allSwitchAthletes_None_Con['Fighter'].nunique()\n",
    "\n",
    "Switch_info = ['Switch', numOf_allSwitchAthletes_None_Con, numOf_allSwitchAthletes_Contendors]\n",
    "Stance_df.loc[len(Stance_df)] = Switch_info\n",
    "\n",
    "Stance_df.head()"
   ]
  },
  {
   "cell_type": "markdown",
   "metadata": {},
   "source": [
    "### Now let's combine all the parts so we can visualize"
   ]
  },
  {
   "cell_type": "code",
   "execution_count": 21,
   "metadata": {},
   "outputs": [],
   "source": [
    "# Creating DF with concat func of all Contendors - Reassuring of dropping dups and nulls\n",
    "allContendors = pd.concat([allOrthodoxAthletes_Contendors, allSouthpawAthletes_Contendors, allSwitchAthletes_Contendors]).drop_duplicates(keep='first').reset_index(drop=True).dropna()\n",
    "\n",
    "# Creating DF with concat func of all None Contendors - Reassuring of dropping dups and nulls\n",
    "allNoneCon = pd.concat([allOrthodoxAthletes_None_Con, allSouthpawAthletes_None_Con, allSwitchAthletes_None_Con]).drop_duplicates(keep='first').reset_index(drop=True).dropna()\n",
    "\n",
    "# Creating DF with concat func of all Unique Athltes - Reassuring of dropping dups and nulls\n",
    "allAthletes_NoneDup = pd.concat([allContendors, allNoneCon]).drop_duplicates(keep='first').reset_index(drop=True).dropna()"
   ]
  },
  {
   "cell_type": "markdown",
   "metadata": {},
   "source": [
    "## Ok so let's see what's the Stance proportional representation in UFC:"
   ]
  },
  {
   "cell_type": "code",
   "execution_count": 22,
   "metadata": {},
   "outputs": [
    {
     "data": {
      "text/plain": [
       "<matplotlib.axes._subplots.AxesSubplot at 0x7f70e625e5f8>"
      ]
     },
     "metadata": {},
     "output_type": "display_data"
    },
    {
     "data": {
      "image/png": "[encoded data removed]",
      "text/plain": [
       "<Figure size 432x288 with 1 Axes>"
      ]
     },
     "metadata": {},
     "output_type": "display_data"
    }
   ],
   "source": [
    "# Creating out of new DF a Pie chart of Stance\n",
    "\n",
    "# Counting by Stance\n",
    "stanceCount = allAthletes_NoneDup['Stance'].value_counts()\n",
    "\n",
    "# Taking out numeric values\n",
    "shares = stanceCount.values\n",
    "\n",
    "# Defining shares labels\n",
    "labels = ['Orthodox', 'Southpaw', 'Switch']\n",
    "\n",
    "# Shares popout\n",
    "explode= (0.1,0.1,0.1)\n",
    "\n",
    "fig, title = plt.subplots()\n",
    "title.pie(shares, labels=labels, explode=explode, autopct='%1.1f%%',shadow=True, startangle=45)\n",
    "\n",
    "title.axis('equal')  \n",
    "plt.title('Stance Precentage')\n",
    "\n",
    "display(title)"
   ]
  },
  {
   "cell_type": "markdown",
   "metadata": {},
   "source": [
    "## As Southpaw and Switch athletes are usually left handed\n",
    ">The graph displays a bigger propotion here at the UFC, **considering the worldwide proportion of Left-Handed, which is estimated to be around the 10%**"
   ]
  },
  {
   "cell_type": "markdown",
   "metadata": {},
   "source": [
    "## And now let's take a look at the Stance proportion at the Contendors share:"
   ]
  },
  {
   "cell_type": "code",
   "execution_count": 23,
   "metadata": {},
   "outputs": [
    {
     "data": {
      "text/plain": [
       "<matplotlib.axes._subplots.AxesSubplot at 0x7f70e622c8d0>"
      ]
     },
     "metadata": {},
     "output_type": "display_data"
    },
    {
     "data": {
      "image/png": "[encoded data removed]",
      "text/plain": [
       "<Figure size 432x288 with 1 Axes>"
      ]
     },
     "metadata": {},
     "output_type": "display_data"
    }
   ],
   "source": [
    "# Same method to create a Pie chart of Contendors by Stance\n",
    "\n",
    "contendorsCount = allContendors['Stance'].value_counts()\n",
    "sizes = contendorsCount.values\n",
    "\n",
    "labels = 'Orthodox', 'Southpaw', 'Switch'\n",
    "\n",
    "explode = (0.1, 0.1, 0.1) \n",
    "fig, title = plt.subplots()\n",
    "\n",
    "title.pie(sizes, labels=labels,explode=explode, autopct='%1.1f%%',shadow=True, startangle=45)\n",
    "title.axis('equal')  \n",
    "plt.title('Contenders by Stance')\n",
    "\n",
    "display(title)"
   ]
  },
  {
   "cell_type": "markdown",
   "metadata": {},
   "source": [
    "## Suprising or not, the Southpaw share of the Contendors is bigger than their overall proportion in the UFC\n",
    "\n",
    "> Although not by dramatic numbers, but it is confirming an old predujice which gives the Southpaw somewhat adavantage.<br>\n",
    "**A suggested reason for this can be the fact that a Orthodox-Orthodox match is more likely,<br>\n",
    "so an Orthodox-Southpaw could be unusual for the Orthodox athletes, while for the Soutpawers it's prettry usual :)**"
   ]
  },
  {
   "cell_type": "markdown",
   "metadata": {},
   "source": [
    "## So what's the share of title bouts out of all matchs?"
   ]
  },
  {
   "cell_type": "code",
   "execution_count": 24,
   "metadata": {},
   "outputs": [
    {
     "data": {
      "text/plain": [
       "<matplotlib.axes._subplots.AxesSubplot at 0x7f70e61e14e0>"
      ]
     },
     "metadata": {},
     "output_type": "display_data"
    },
    {
     "data": {
      "image/png": "[encoded data removed]",
      "text/plain": [
       "<Figure size 432x288 with 1 Axes>"
      ]
     },
     "metadata": {},
     "output_type": "display_data"
    }
   ],
   "source": [
    "# Same method to create a Pie chart of title bouts share out of all matches\n",
    "\n",
    "titleBout_Count = UFC_df['title_bout'].value_counts()\n",
    "sizes = titleBout_Count.values\n",
    "\n",
    "labels = ['Casual Match' ,'Title Bout']\n",
    "explode = (0.1, 0.1) \n",
    "\n",
    "fig, title = plt.subplots()\n",
    "title.pie(sizes, explode=explode, labels=labels, autopct='%1.1f%%',shadow=True, startangle=45)\n",
    "title.axis('equal')  \n",
    "plt.title('Title Fight events')\n",
    "\n",
    "display(title)"
   ]
  },
  {
   "cell_type": "markdown",
   "metadata": {},
   "source": [
    "## Championship: What champion won most title bouts matches?\n",
    "> The UFC has started with a small set of rules: **No Rules** <br>\n",
    "That has changed sgnificantly at 30.9.2000, so we'll count since then. <br>\n",
    ">>BTW, seriously, even hair pulling was allowed, and it did happen \n",
    "(Look for Royce Gracie)"
   ]
  },
  {
   "cell_type": "code",
   "execution_count": 25,
   "metadata": {},
   "outputs": [
    {
     "data": {
      "text/plain": [
       "<matplotlib.axes._subplots.AxesSubplot at 0x7f70e6183198>"
      ]
     },
     "execution_count": 25,
     "metadata": {},
     "output_type": "execute_result"
    },
    {
     "data": {
      "image/png": "[encoded data removed]",
      "text/plain": [
       "<Figure size 576x288 with 1 Axes>"
      ]
     },
     "metadata": {
      "needs_background": "light"
     },
     "output_type": "display_data"
    }
   ],
   "source": [
    "# Using loc to target relevant data from 30/9/2000 - New UFC Rules came in\n",
    "NewRules = UFC_df.loc[UFC_df['date'] > '2000-09-30']\n",
    "\n",
    "# Targeting title bouts rows\n",
    "NewRules_titleBouts = NewRules.loc[NewRules['title_bout'] == True]\n",
    "\n",
    "# Taking out relevant Athlete's names\n",
    "athletes = pd.concat([NewRules_titleBouts['R_fighter'], NewRules_titleBouts['B_fighter']], ignore_index=True)\n",
    "\n",
    "# Counting wins\n",
    "wins = athletes.value_counts().sort_values(ascending=False).head(10)\n",
    "\n",
    "# Getting thier names\n",
    "labels = wins.index\n",
    "\n",
    "# Defining bars graph\n",
    "fig, ax = plt.subplots(figsize=(8,4))\n",
    "mostWins = sns.barplot(x=wins, y=labels, palette=\"RdBu_r\")\n",
    "\n",
    "plt.title(\"Most Wins by Fighter\")\n",
    "plt.ylabel(\"Wins\")\n",
    "plt.xlabel(\"# of Wins\")\n",
    "plt.tight_layout()\n",
    "\n",
    "mostWins"
   ]
  },
  {
   "cell_type": "markdown",
   "metadata": {},
   "source": [
    "### We can see most of recent years  famous champions\n",
    "Such as **George St-Pierre, Jone Jones, Jose Aldo** and more"
   ]
  },
  {
   "cell_type": "markdown",
   "metadata": {},
   "source": [
    "# But Let's focus on #3: Anderson Silva"
   ]
  },
  {
   "cell_type": "markdown",
   "metadata": {},
   "source": [
    "![AndersonSilva](https://images.radio.com/aiu-media/AndersonSilva-d067d44a-434b-469f-baea-649943a8aac3.jpg)\n",
    "\n",
    "## From Wikipedia:\n",
    ">\" **Anderson da Silva** (Portuguese pronunciation: [ˈɐ̃deʁsõ ˈsiwvɐ]; born April 14, 1975) is a Brazilian-American professional mixed martial artist currently signed with the Ultimate Fighting Championship (UFC). **He is a former UFC Middleweight Champion and holds the record for the longest title reign in UFC history at 2,457 days.**<br>\n",
    "This started in 2006 and ended in 2013 and included a UFC record 16 consecutive victories in that span. **UFC president Dana White, UFC commentator Joe Rogan, and numerous mixed martial arts (MMA) analysts have named Silva the greatest mixed martial artist of all time.** As of November 18, 2019, he is #15 in the UFC middleweight rankings.[19] \""
   ]
  },
  {
   "cell_type": "code",
   "execution_count": 26,
   "metadata": {},
   "outputs": [
    {
     "data": {
      "text/html": [
       "<div>\n",
       "<style scoped>\n",
       "    .dataframe tbody tr th:only-of-type {\n",
       "        vertical-align: middle;\n",
       "    }\n",
       "\n",
       "    .dataframe tbody tr th {\n",
       "        vertical-align: top;\n",
       "    }\n",
       "\n",
       "    .dataframe thead th {\n",
       "        text-align: right;\n",
       "    }\n",
       "</style>\n",
       "<table border=\"1\" class=\"dataframe\">\n",
       "  <thead>\n",
       "    <tr style=\"text-align: right;\">\n",
       "      <th></th>\n",
       "      <th>fighter</th>\n",
       "      <th>Referee</th>\n",
       "      <th>date</th>\n",
       "      <th>location</th>\n",
       "      <th>Winner</th>\n",
       "      <th>title_bout</th>\n",
       "      <th>weight_class</th>\n",
       "      <th>no_of_rounds</th>\n",
       "      <th>current_lose_streak</th>\n",
       "      <th>current_win_streak</th>\n",
       "      <th>...</th>\n",
       "      <th>win_by_Submission</th>\n",
       "      <th>win_by_TKO_Doctor_Stoppage</th>\n",
       "      <th>wins</th>\n",
       "      <th>Stance</th>\n",
       "      <th>Height_cms</th>\n",
       "      <th>Reach_cms</th>\n",
       "      <th>Weight_lbs</th>\n",
       "      <th>age</th>\n",
       "      <th>avg_SUATT</th>\n",
       "      <th>avg_opp_SUATT</th>\n",
       "    </tr>\n",
       "  </thead>\n",
       "  <tbody>\n",
       "    <tr>\n",
       "      <th>1103</th>\n",
       "      <td>Anderson Silva</td>\n",
       "      <td>Yves Lavigne</td>\n",
       "      <td>2017-02-11</td>\n",
       "      <td>Brooklyn, New York, USA</td>\n",
       "      <td>Red</td>\n",
       "      <td>False</td>\n",
       "      <td>Middleweight</td>\n",
       "      <td>3</td>\n",
       "      <td>5.0</td>\n",
       "      <td>0.0</td>\n",
       "      <td>...</td>\n",
       "      <td>3.0</td>\n",
       "      <td>0.0</td>\n",
       "      <td>16.0</td>\n",
       "      <td>Southpaw</td>\n",
       "      <td>187.96</td>\n",
       "      <td>195.58</td>\n",
       "      <td>185.0</td>\n",
       "      <td>41.0</td>\n",
       "      <td>NaN</td>\n",
       "      <td>NaN</td>\n",
       "    </tr>\n",
       "    <tr>\n",
       "      <th>1565</th>\n",
       "      <td>Anderson Silva</td>\n",
       "      <td>Herb Dean</td>\n",
       "      <td>2016-02-27</td>\n",
       "      <td>London, England, United Kingdom</td>\n",
       "      <td>Blue</td>\n",
       "      <td>False</td>\n",
       "      <td>Middleweight</td>\n",
       "      <td>5</td>\n",
       "      <td>3.0</td>\n",
       "      <td>0.0</td>\n",
       "      <td>...</td>\n",
       "      <td>3.0</td>\n",
       "      <td>0.0</td>\n",
       "      <td>16.0</td>\n",
       "      <td>Southpaw</td>\n",
       "      <td>187.96</td>\n",
       "      <td>195.58</td>\n",
       "      <td>185.0</td>\n",
       "      <td>40.0</td>\n",
       "      <td>NaN</td>\n",
       "      <td>NaN</td>\n",
       "    </tr>\n",
       "    <tr>\n",
       "      <th>2068</th>\n",
       "      <td>Anderson Silva</td>\n",
       "      <td>John McCarthy</td>\n",
       "      <td>2015-01-31</td>\n",
       "      <td>Las Vegas, Nevada, USA</td>\n",
       "      <td>Draw</td>\n",
       "      <td>False</td>\n",
       "      <td>Middleweight</td>\n",
       "      <td>5</td>\n",
       "      <td>2.0</td>\n",
       "      <td>0.0</td>\n",
       "      <td>...</td>\n",
       "      <td>3.0</td>\n",
       "      <td>0.0</td>\n",
       "      <td>16.0</td>\n",
       "      <td>Southpaw</td>\n",
       "      <td>187.96</td>\n",
       "      <td>195.58</td>\n",
       "      <td>185.0</td>\n",
       "      <td>39.0</td>\n",
       "      <td>NaN</td>\n",
       "      <td>NaN</td>\n",
       "    </tr>\n",
       "    <tr>\n",
       "      <th>2816</th>\n",
       "      <td>Anderson Silva</td>\n",
       "      <td>Herb Dean</td>\n",
       "      <td>2013-07-06</td>\n",
       "      <td>Las Vegas, Nevada, USA</td>\n",
       "      <td>Blue</td>\n",
       "      <td>True</td>\n",
       "      <td>Middleweight</td>\n",
       "      <td>5</td>\n",
       "      <td>0.0</td>\n",
       "      <td>16.0</td>\n",
       "      <td>...</td>\n",
       "      <td>3.0</td>\n",
       "      <td>0.0</td>\n",
       "      <td>16.0</td>\n",
       "      <td>Southpaw</td>\n",
       "      <td>187.96</td>\n",
       "      <td>195.58</td>\n",
       "      <td>185.0</td>\n",
       "      <td>38.0</td>\n",
       "      <td>NaN</td>\n",
       "      <td>NaN</td>\n",
       "    </tr>\n",
       "    <tr>\n",
       "      <th>3068</th>\n",
       "      <td>Anderson Silva</td>\n",
       "      <td>Marc Goddard</td>\n",
       "      <td>2012-10-13</td>\n",
       "      <td>Rio de Janeiro, Brazil</td>\n",
       "      <td>Red</td>\n",
       "      <td>False</td>\n",
       "      <td>Light Heavyweight</td>\n",
       "      <td>3</td>\n",
       "      <td>0.0</td>\n",
       "      <td>15.0</td>\n",
       "      <td>...</td>\n",
       "      <td>3.0</td>\n",
       "      <td>0.0</td>\n",
       "      <td>15.0</td>\n",
       "      <td>Southpaw</td>\n",
       "      <td>187.96</td>\n",
       "      <td>195.58</td>\n",
       "      <td>185.0</td>\n",
       "      <td>37.0</td>\n",
       "      <td>NaN</td>\n",
       "      <td>NaN</td>\n",
       "    </tr>\n",
       "  </tbody>\n",
       "</table>\n",
       "<p>5 rows × 76 columns</p>\n",
       "</div>"
      ],
      "text/plain": [
       "             fighter        Referee        date  \\\n",
       "1103  Anderson Silva   Yves Lavigne  2017-02-11   \n",
       "1565  Anderson Silva      Herb Dean  2016-02-27   \n",
       "2068  Anderson Silva  John McCarthy  2015-01-31   \n",
       "2816  Anderson Silva      Herb Dean  2013-07-06   \n",
       "3068  Anderson Silva   Marc Goddard  2012-10-13   \n",
       "\n",
       "                             location Winner  title_bout       weight_class  \\\n",
       "1103          Brooklyn, New York, USA    Red       False       Middleweight   \n",
       "1565  London, England, United Kingdom   Blue       False       Middleweight   \n",
       "2068           Las Vegas, Nevada, USA   Draw       False       Middleweight   \n",
       "2816           Las Vegas, Nevada, USA   Blue        True       Middleweight   \n",
       "3068           Rio de Janeiro, Brazil    Red       False  Light Heavyweight   \n",
       "\n",
       "      no_of_rounds  current_lose_streak  current_win_streak  ...  \\\n",
       "1103             3                  5.0                 0.0  ...   \n",
       "1565             5                  3.0                 0.0  ...   \n",
       "2068             5                  2.0                 0.0  ...   \n",
       "2816             5                  0.0                16.0  ...   \n",
       "3068             3                  0.0                15.0  ...   \n",
       "\n",
       "      win_by_Submission  win_by_TKO_Doctor_Stoppage  wins    Stance  \\\n",
       "1103                3.0                         0.0  16.0  Southpaw   \n",
       "1565                3.0                         0.0  16.0  Southpaw   \n",
       "2068                3.0                         0.0  16.0  Southpaw   \n",
       "2816                3.0                         0.0  16.0  Southpaw   \n",
       "3068                3.0                         0.0  15.0  Southpaw   \n",
       "\n",
       "      Height_cms  Reach_cms  Weight_lbs   age  avg_SUATT  avg_opp_SUATT  \n",
       "1103      187.96     195.58       185.0  41.0        NaN            NaN  \n",
       "1565      187.96     195.58       185.0  40.0        NaN            NaN  \n",
       "2068      187.96     195.58       185.0  39.0        NaN            NaN  \n",
       "2816      187.96     195.58       185.0  38.0        NaN            NaN  \n",
       "3068      187.96     195.58       185.0  37.0        NaN            NaN  \n",
       "\n",
       "[5 rows x 76 columns]"
      ]
     },
     "execution_count": 26,
     "metadata": {},
     "output_type": "execute_result"
    }
   ],
   "source": [
    "# Assigning targeted data using loc to new DF dedicated to Silva - From Red Corner Matches\n",
    "andersonSilva_R = UFC_df.loc[UFC_df['R_fighter'] == 'Anderson Silva']\n",
    "# Droping all Blue Corners Data - irrelevant and risky\n",
    "andersonSilva_R = andersonSilva_R.drop(columns = list(andersonSilva_R.filter(regex='B_')))\n",
    "# Renaming all Red Corners Column names by dropping R_ Prefix - preparation for df concat\n",
    "andersonSilva_R.columns = [col.replace('R_', '') for col in andersonSilva_R.columns]\n",
    "\n",
    "# Again, now from Blue Corner Matches\n",
    "andersonSilva_B = UFC_df.loc[UFC_df['B_fighter'] == 'Anderson Silva']\n",
    "andersonSilva_B = andersonSilva_B.drop(columns = list(andersonSilva_B.filter(regex='R_')))\n",
    "\n",
    "# Renaming all Red Corners Column names by dropping B_ Prefix - preparation for df concat\n",
    "andersonSilva_B.columns = [col.replace('B_', '') for col in andersonSilva_B.columns]\n",
    "\n",
    "# Concat the two dfs to one so we have all of Silva's data organized\n",
    "andersonSilva = pd.concat([andersonSilva_R, andersonSilva_B], sort=False)\n",
    "andersonSilva.head()"
   ]
  },
  {
   "cell_type": "code",
   "execution_count": 27,
   "metadata": {},
   "outputs": [],
   "source": [
    "# Assiging all Silva's attack methods summing of attemptted and landed\n",
    "\n",
    "total_strikes = andersonSilva['avg_TOTAL_STatt'] + andersonSilva['avg_TOTAL_STlanded']\n",
    "total_clinch = andersonSilva['avg_CLINCH_att'] + andersonSilva['avg_CLINCH_landed']\n",
    "total_ground = andersonSilva['avg_GROUND_att'] + andersonSilva['avg_GROUND_landed']\n",
    "total_td = andersonSilva['avg_TD_att'] + andersonSilva['avg_TD_landed']"
   ]
  },
  {
   "cell_type": "code",
   "execution_count": 28,
   "metadata": {},
   "outputs": [
    {
     "data": {
      "image/png": "[encoded data removed]",
      "text/plain": [
       "<Figure size 1296x432 with 4 Axes>"
      ]
     },
     "metadata": {
      "needs_background": "light"
     },
     "output_type": "display_data"
    }
   ],
   "source": [
    "# Creating a 4 bars grid in 1 row\n",
    "fig, (ax1, ax2, ax3, ax4) = plt.subplots(nrows=1, ncols=4, figsize=(18,6))  # create 4 subplots on 1 row\n",
    "\n",
    "plt.title(\"Anderson Silva's Attack Rate By Match Type\")\n",
    "\n",
    "# Defining each grpahs labels\n",
    "ax1.set(ylabel = 'Strikes: Distance, Body, Head')   \n",
    "ax2.set(ylabel = 'Clinch')   \n",
    "ax3.set(ylabel = 'TakeDowns')   \n",
    "ax4.set(ylabel = 'Ground')   \n",
    "\n",
    "# Plotting\n",
    "for ax, col in zip((ax1, ax2, ax3, ax4),[total_strikes, total_clinch, total_td, total_ground]):\n",
    "    sns.barplot(x=\"title_bout\", y=col, data=andersonSilva, ax=ax)"
   ]
  },
  {
   "cell_type": "markdown",
   "metadata": {},
   "source": [
    "# We can observe here peraphs an unintuitive phenomenon:\n",
    "## Almost all of Anderson Silva's attack rates at Title Bout matches are lower!\n",
    "> As mention above in Wikipedia, Silva holds the record for the longest title reign in UFC history at 2,457 days.<br>\n",
    "In martial arts and UFC included, **the Athlete's mindset during the match is maybe ilusive to measure directly, but surely a key parameter in aim for winning.** <br>\n",
    "Besides Takedowns and Ground attacks, as a Champion, Silva threw less Shots and got less into Clinch.<br>\n",
    "Intuitivly it makes no sense to let the offensive 'Off' at Title Bouts. <br>\n",
    "But peraphs this is exactly what distinct him from other champions, and assiseted him to set the record of Longest Title Reign. <br>\n",
    " >> **Takedowns not only has a high point rate (by Judges), but it is an act which will hurt most of the opponentses confidence during the fight.**"
   ]
  },
  {
   "cell_type": "markdown",
   "metadata": {},
   "source": [
    "# So let's take a look by what win type Silva is more likely to win:\n",
    "## Again, across Title Bouts"
   ]
  },
  {
   "cell_type": "code",
   "execution_count": 29,
   "metadata": {},
   "outputs": [],
   "source": [
    "# Creating df \\ serieses for Anderson Silva's win types\n",
    "andersonSilva_wins_byKnockout = andersonSilva['win_by_KO/TKO'] \n",
    "andersonSilva_wins_bySubmissions = andersonSilva['win_by_Submission'] \n",
    "andersonSilva_wins_judges =  andersonSilva['win_by_Decision_Majority'] + andersonSilva['win_by_Decision_Split'] + andersonSilva['win_by_Decision_Unanimous']"
   ]
  },
  {
   "cell_type": "code",
   "execution_count": 30,
   "metadata": {},
   "outputs": [
    {
     "data": {
      "image/png": "[encoded data removed]",
      "text/plain": [
       "<Figure size 1296x432 with 3 Axes>"
      ]
     },
     "metadata": {
      "needs_background": "light"
     },
     "output_type": "display_data"
    }
   ],
   "source": [
    "# Creating a 4 bars grid in 1 row\n",
    "fig, (ax1, ax2, ax3) = plt.subplots(nrows=1, ncols=3, figsize=(18,6))  # create 4 subplots on 1 row\n",
    "\n",
    "plt.title(\"Anderson Silva's Win Type across Title Bouts\")\n",
    "\n",
    "# Defining each grpahs labels\n",
    "ax1.set(ylabel = 'Wins by Knockouts')   \n",
    "ax2.set(ylabel = 'Wins by Submission')\n",
    "ax3.set(ylabel = 'Wins by Judges') \n",
    "   \n",
    "\n",
    "# Plotting\n",
    "for ax, col in zip((ax1, ax2, ax3),[andersonSilva_wins_byKnockout, andersonSilva_wins_bySubmissions, andersonSilva_wins_judges]):\n",
    "    sns.barplot(x=\"title_bout\", y=col, data=andersonSilva, ax=ax)"
   ]
  },
  {
   "cell_type": "markdown",
   "metadata": {},
   "source": [
    "# Title bout or not, Silva is less likely to win by Judges desicion!\n",
    "> The graph clearly shows that Anderson Silva's win strategy is not by aggregating judges points.<br>\n",
    "He simply go for the win by kockout. <br>\n",
    "**Despite the fact that in average he throws less strike during title bout match, still it is more likely Silva will win by knockout..** impersive.\n",
    " "
   ]
  },
  {
   "cell_type": "markdown",
   "metadata": {},
   "source": [
    "# Section 2: Winner Prediction\n",
    "# Machine Learning practice using Sklearn to predict the Winner for a UFC match"
   ]
  },
  {
   "cell_type": "markdown",
   "metadata": {},
   "source": [
    "## First let's take a look at winners by Corner's Color\n",
    "> I don't think it is officially stated, but it is a known thing that the favourite gets the Red Corner if he didn't ask for the blue"
   ]
  },
  {
   "cell_type": "code",
   "execution_count": 31,
   "metadata": {},
   "outputs": [
    {
     "data": {
      "text/plain": [
       "<matplotlib.axes._subplots.AxesSubplot at 0x7f70e2733e10>"
      ]
     },
     "execution_count": 31,
     "metadata": {},
     "output_type": "execute_result"
    },
    {
     "data": {
      "image/png": "[encoded data removed]",
      "text/plain": [
       "<Figure size 576x432 with 1 Axes>"
      ]
     },
     "metadata": {},
     "output_type": "display_data"
    }
   ],
   "source": [
    "colors = ['red', 'blue', 'green']\n",
    "plt.figure(figsize=(8,6))\n",
    "corner = UFC_df['Winner'].value_counts().plot.pie(explode=[0.1,0.1,0.1],autopct='%1.1f%%',colors=colors,shadow=True)\n",
    "\n",
    "plt.title('Winner by Corner')\n",
    "\n",
    "corner"
   ]
  },
  {
   "cell_type": "markdown",
   "metadata": {},
   "source": [
    "### So the Red-Favourite, Blue-Underdog thing is really reflected in this chart"
   ]
  },
  {
   "cell_type": "markdown",
   "metadata": {},
   "source": [
    "# Let's predict the Winner - Red or Blue Corner\n",
    "\n",
    "> This is a basic ML practice, without advanced feature engineering and hyper parameter tunning. <br>\n",
    "Using Classifiers and Models learned in Machine Learning Course, HiT 2020."
   ]
  },
  {
   "cell_type": "code",
   "execution_count": 32,
   "metadata": {},
   "outputs": [],
   "source": [
    "#Reading the UFC Raw Dataset\n",
    "df = pd.read_csv('./preprocessed_data.csv')"
   ]
  },
  {
   "cell_type": "markdown",
   "metadata": {},
   "source": [
    "## Exploring the preprocessed Dataset"
   ]
  },
  {
   "cell_type": "code",
   "execution_count": 33,
   "metadata": {},
   "outputs": [
    {
     "name": "stdout",
     "output_type": "stream",
     "text": [
      "<class 'pandas.core.frame.DataFrame'>\n",
      "RangeIndex: 3592 entries, 0 to 3591\n",
      "Columns: 160 entries, Winner to R_Stance_Switch\n",
      "dtypes: bool(1), float64(134), int64(24), object(1)\n",
      "memory usage: 4.4+ MB\n"
     ]
    }
   ],
   "source": [
    "# DataFrame Details: Num of Rows, Cols and Data types\n",
    "df.info()"
   ]
  },
  {
   "cell_type": "code",
   "execution_count": 34,
   "metadata": {},
   "outputs": [
    {
     "data": {
      "text/plain": [
       "R_Stance_Switch                 0\n",
       "R_Stance_Southpaw               0\n",
       "B_total_time_fought(seconds)    0\n",
       "B_total_rounds_fought           0\n",
       "B_avg_opp_TOTAL_STR_landed      0\n",
       "B_avg_opp_TOTAL_STR_att         0\n",
       "B_avg_opp_TD_pct                0\n",
       "B_avg_opp_TD_landed             0\n",
       "B_avg_opp_TD_att                0\n",
       "B_avg_opp_SUB_ATT               0\n",
       "B_avg_opp_SIG_STR_pct           0\n",
       "B_avg_opp_SIG_STR_landed        0\n",
       "B_avg_opp_SIG_STR_att           0\n",
       "B_avg_opp_REV                   0\n",
       "B_avg_opp_PASS                  0\n",
       "B_avg_opp_LEG_landed            0\n",
       "B_avg_opp_LEG_att               0\n",
       "B_avg_opp_KD                    0\n",
       "B_avg_opp_HEAD_landed           0\n",
       "B_total_title_bouts             0\n",
       "B_win_by_Decision_Majority      0\n",
       "B_win_by_Decision_Split         0\n",
       "R_current_win_streak            0\n",
       "R_avg_DISTANCE_landed           0\n",
       "R_avg_DISTANCE_att              0\n",
       "R_avg_CLINCH_landed             0\n",
       "R_avg_CLINCH_att                0\n",
       "R_avg_BODY_landed               0\n",
       "R_avg_BODY_att                  0\n",
       "R_draw                          0\n",
       "                               ..\n",
       "R_avg_SIG_STR_pct               0\n",
       "R_avg_opp_BODY_landed           0\n",
       "R_avg_SIG_STR_landed            0\n",
       "R_avg_SIG_STR_att               0\n",
       "R_avg_REV                       0\n",
       "R_avg_PASS                      0\n",
       "R_avg_LEG_landed                0\n",
       "R_avg_LEG_att                   0\n",
       "R_avg_KD                        0\n",
       "R_avg_opp_BODY_att              0\n",
       "R_avg_opp_CLINCH_att            0\n",
       "R_avg_opp_TD_landed             0\n",
       "R_avg_opp_LEG_landed            0\n",
       "R_avg_opp_TD_att                0\n",
       "R_avg_opp_SUB_ATT               0\n",
       "R_avg_opp_SIG_STR_pct           0\n",
       "R_avg_opp_SIG_STR_landed        0\n",
       "R_avg_opp_SIG_STR_att           0\n",
       "R_avg_opp_REV                   0\n",
       "R_avg_opp_PASS                  0\n",
       "R_avg_opp_LEG_att               0\n",
       "R_avg_opp_CLINCH_landed         0\n",
       "R_avg_opp_KD                    0\n",
       "R_avg_opp_HEAD_landed           0\n",
       "R_avg_opp_HEAD_att              0\n",
       "R_avg_opp_GROUND_landed         0\n",
       "R_avg_opp_GROUND_att            0\n",
       "R_avg_opp_DISTANCE_landed       0\n",
       "R_avg_opp_DISTANCE_att          0\n",
       "Winner                          0\n",
       "Length: 160, dtype: int64"
      ]
     },
     "execution_count": 34,
     "metadata": {},
     "output_type": "execute_result"
    }
   ],
   "source": [
    "#Checking the sum of all null values\n",
    "df.isnull().sum().sort_values(ascending=False)"
   ]
  },
  {
   "cell_type": "code",
   "execution_count": 35,
   "metadata": {},
   "outputs": [
    {
     "data": {
      "text/plain": [
       "Winner                                0\n",
       "title_bout                            0\n",
       "no_of_rounds                          0\n",
       "B_current_lose_streak                 0\n",
       "B_current_win_streak                  0\n",
       "B_draw                                0\n",
       "B_avg_BODY_att                        0\n",
       "B_avg_BODY_landed                     0\n",
       "B_avg_CLINCH_att                      0\n",
       "B_avg_CLINCH_landed                   0\n",
       "B_avg_DISTANCE_att                    0\n",
       "B_avg_DISTANCE_landed                 0\n",
       "B_avg_GROUND_att                      0\n",
       "B_avg_GROUND_landed                   0\n",
       "B_avg_HEAD_att                        0\n",
       "B_avg_HEAD_landed                     0\n",
       "B_avg_KD                              0\n",
       "B_avg_LEG_att                         0\n",
       "B_avg_LEG_landed                      0\n",
       "B_avg_PASS                            0\n",
       "B_avg_REV                             0\n",
       "B_avg_SIG_STR_att                     0\n",
       "B_avg_SIG_STR_landed                  0\n",
       "B_avg_SIG_STR_pct                     0\n",
       "B_avg_SUB_ATT                         0\n",
       "B_avg_TD_att                          0\n",
       "B_avg_TD_landed                       0\n",
       "B_avg_TD_pct                          0\n",
       "B_avg_TOTAL_STR_att                   0\n",
       "B_avg_TOTAL_STR_landed                0\n",
       "                                     ..\n",
       "R_win_by_TKO_Doctor_Stoppage          0\n",
       "R_wins                                0\n",
       "R_Height_cms                          0\n",
       "R_Reach_cms                           0\n",
       "R_Weight_lbs                          0\n",
       "B_age                                 0\n",
       "R_age                                 0\n",
       "weight_class_Bantamweight             0\n",
       "weight_class_Catch Weight             0\n",
       "weight_class_Featherweight            0\n",
       "weight_class_Flyweight                0\n",
       "weight_class_Heavyweight              0\n",
       "weight_class_Light Heavyweight        0\n",
       "weight_class_Lightweight              0\n",
       "weight_class_Middleweight             0\n",
       "weight_class_Open Weight              0\n",
       "weight_class_Welterweight             0\n",
       "weight_class_Women's Bantamweight     0\n",
       "weight_class_Women's Featherweight    0\n",
       "weight_class_Women's Flyweight        0\n",
       "weight_class_Women's Strawweight      0\n",
       "B_Stance_Open Stance                  0\n",
       "B_Stance_Orthodox                     0\n",
       "B_Stance_Sideways                     0\n",
       "B_Stance_Southpaw                     0\n",
       "B_Stance_Switch                       0\n",
       "R_Stance_Open Stance                  0\n",
       "R_Stance_Orthodox                     0\n",
       "R_Stance_Southpaw                     0\n",
       "R_Stance_Switch                       0\n",
       "Length: 160, dtype: int64"
      ]
     },
     "execution_count": 35,
     "metadata": {},
     "output_type": "execute_result"
    }
   ],
   "source": [
    "#Drop all null values\n",
    "df.dropna(inplace=True)\n",
    "\n",
    "#Check for null values again\n",
    "df.isnull().sum()"
   ]
  },
  {
   "cell_type": "code",
   "execution_count": 36,
   "metadata": {},
   "outputs": [],
   "source": [
    "# Splitting to Features and Categories\n",
    "y = df['Winner']\n",
    "X = df.drop(columns = 'Winner')\n",
    "\n",
    "# Splitting to test and train\n",
    "X_train, X_test, y_train, y_test = train_test_split(X, y, test_size=0.2, random_state=43)"
   ]
  },
  {
   "cell_type": "code",
   "execution_count": 37,
   "metadata": {},
   "outputs": [
    {
     "data": {
      "text/plain": [
       "{'DesicionTree': 0,\n",
       " 'KNN': 0,\n",
       " 'LogisticRegression': 0,\n",
       " 'RandomForest': 0,\n",
       " 'SupportVectorMachine': 0}"
      ]
     },
     "execution_count": 37,
     "metadata": {},
     "output_type": "execute_result"
    }
   ],
   "source": [
    "# Creating Dict to store results of algo types\n",
    "algos = ['KNN','DesicionTree', 'RandomForest', 'LogisticRegression', 'SupportVectorMachine']\n",
    "results = dict.fromkeys(algos,0)\n",
    "results"
   ]
  },
  {
   "cell_type": "code",
   "execution_count": 38,
   "metadata": {},
   "outputs": [
    {
     "name": "stdout",
     "output_type": "stream",
     "text": [
      "Accuracy: 68.2892906815021\n"
     ]
    }
   ],
   "source": [
    "# Creating KNN Classifier - Choosing neighbors hyper param\n",
    "knn = KNeighborsClassifier(n_neighbors=91)\n",
    "\n",
    "# Fitting the data\n",
    "knn.fit(X_train, y_train)\n",
    "\n",
    "# Predicting\n",
    "y_pred = knn.predict(X_test)\n",
    "\n",
    "# Getting Accuracy\n",
    "KNN_accuracy = accuracy_score(y_test, y_pred)\n",
    "\n",
    "results['KNN'] = KNN_accuracy\n",
    "print('Accuracy:', KNN_accuracy * 100.0)"
   ]
  },
  {
   "cell_type": "code",
   "execution_count": 39,
   "metadata": {},
   "outputs": [
    {
     "name": "stdout",
     "output_type": "stream",
     "text": [
      "Accuracy: 69.4019471488178\n"
     ]
    }
   ],
   "source": [
    "# DesicionTree Classifier - Choosing max depth hyper param\n",
    "tree = DecisionTreeClassifier(max_depth=2)\n",
    "tree.fit(X_train, y_train)\n",
    "\n",
    "y_pred = tree.predict(X_test)\n",
    "DT_accuracy = accuracy_score(y_test, y_pred)\n",
    "\n",
    "results['DesicionTree'] = DT_accuracy\n",
    "print('Accuracy:', DT_accuracy * 100.0)"
   ]
  },
  {
   "cell_type": "code",
   "execution_count": 40,
   "metadata": {},
   "outputs": [
    {
     "name": "stdout",
     "output_type": "stream",
     "text": [
      "Accuracy: 68.56745479833101\n"
     ]
    }
   ],
   "source": [
    "# RandomForest Classifier\n",
    "rfc = RandomForestClassifier()\n",
    "rfc.fit(X_train, y_train)\n",
    "\n",
    "y_pred = rfc.predict(X_test)\n",
    "RFC_accuracy = accuracy_score(y_test, y_pred)\n",
    "\n",
    "results['RandomForest'] = RFC_accuracy\n",
    "print('Accuracy:', RFC_accuracy * 100.0)"
   ]
  },
  {
   "cell_type": "code",
   "execution_count": 41,
   "metadata": {},
   "outputs": [
    {
     "name": "stdout",
     "output_type": "stream",
     "text": [
      "Accuracy: 68.56745479833101\n"
     ]
    },
    {
     "name": "stderr",
     "output_type": "stream",
     "text": [
      "/home/yair/.local/lib/python3.5/site-packages/sklearn/linear_model/_logistic.py:939: ConvergenceWarning: lbfgs failed to converge (status=1):\n",
      "STOP: TOTAL NO. of ITERATIONS REACHED LIMIT.\n",
      "\n",
      "Increase the number of iterations (max_iter) or scale the data as shown in:\n",
      "    https://scikit-learn.org/stable/modules/preprocessing.html.\n",
      "Please also refer to the documentation for alternative solver options:\n",
      "    https://scikit-learn.org/stable/modules/linear_model.html#logistic-regression\n",
      "  extra_warning_msg=_LOGISTIC_SOLVER_CONVERGENCE_MSG)\n"
     ]
    }
   ],
   "source": [
    "# Creating Logistic Regression model, Choosing C and max_iter hyper params\n",
    "logistic_model = LogisticRegression(C=0.0045, max_iter=200)\n",
    "\n",
    "logistic_model.fit(X_train, y_train)\n",
    "\n",
    "y_pred = logistic_model.predict(X_test)\n",
    "\n",
    "LR_accuracy = accuracy_score(y_test, y_pred)\n",
    "\n",
    "results['LogisticRegression'] = RFC_accuracy\n",
    "print('Accuracy:', RFC_accuracy * 100.0)"
   ]
  },
  {
   "cell_type": "code",
   "execution_count": 42,
   "metadata": {},
   "outputs": [
    {
     "name": "stdout",
     "output_type": "stream",
     "text": [
      "Accuracy: 69.4019471488178\n"
     ]
    }
   ],
   "source": [
    "# Support Vector Machine Model - Choosing C hyper param\n",
    "svc = SVC(C=0.5)\n",
    "svc.fit(X_train, y_train)\n",
    "\n",
    "y_pred = svc.predict(X_test)\n",
    "SVC_accuracy = accuracy_score(y_test, y_pred)\n",
    "\n",
    "results['SupportVectorMachine'] = SVC_accuracy\n",
    "print('Accuracy:', SVC_accuracy * 100.0)"
   ]
  },
  {
   "cell_type": "code",
   "execution_count": 43,
   "metadata": {},
   "outputs": [
    {
     "name": "stdout",
     "output_type": "stream",
     "text": [
      "Best Result with DesicionTree :\n",
      "69.4019471488178 % Accuracy\n"
     ]
    }
   ],
   "source": [
    "bestAlgoResult = max(results.items(), key=lambda x : x[1])\n",
    "\n",
    "print('Best Result with',bestAlgoResult[0], ':') \n",
    "print( bestAlgoResult[1] * 100, '% Accuracy')"
   ]
  },
  {
   "cell_type": "markdown",
   "metadata": {},
   "source": [
    "# Section 3 - Summary"
   ]
  },
  {
   "cell_type": "markdown",
   "metadata": {},
   "source": [
    "## Section 1: \n",
    "\n",
    "**A. Dataset validation** - <br>\n",
    "Overall the dataset didn't require too much preparation besides  dropping null values. <br>\n",
    "Although the output of the df.info() method seemed right, I casted all the numeric cols to Float again as a double verification.\n",
    "\n",
    "**B. Data Analysis by Visualiztion** - <br>\n",
    "> 1. **Weight Classes** - The analysis of the dataset by Weight Class has produced a validation to the logicalness of behind the setup of weight as the foundation of the comptetiveness and fairness of any combat sport. The visualized insights were overall somewhat intuitive and validating the commonsense behind the Weight Class distribution.<br>\n",
    "2. **Stance types** - A meaningful insight was delivered behind the stance distribution. The Southpaw's share at the Contendors share turned to be bigger than their overall share. This is a quite important insight to take in consideration as an UFC Athlete \\ Coach. <br>\n",
    "It raises the question of how it would be best to address the root cause of this fact - Southpaws are more used to fight None-Southpaw athletes, much more than an Orthodox is used to fight an None-Orthodox, which gives the Southpaw an illusive advantage as displayed. As an Orthodox athlete, ignoring this fact will just pile up to odds of loosing a title bout.\n",
    "3. **Champions and Title Bouts** - The analysis of Anderson Silva has given a hint to a Champion's mindset, especially when he's the record holder of the longest title reign. Visualizing his average rate of all different attack types at title bouts, has discovered a fact which at first seems as unlogical, as he generates less strikes meaning a lose if the fight will be ruled by the judge's score. But after the plotting Silva's win types across title bouts, it displayed clearly that Silva is not going for a score win - he goes for the hunt, and preferably by Knockout. Done by fashion of high focus and calmness it points out that Silva had a rooted strategy to wear his opponent's confidence by takedowns, and eventually win by Knockout - fits great to how he used to be referred as - The best pound for pound fighter of all times.\n",
    "\n",
    "\n",
    "# Section 2:\n",
    "**C. Winner Prediction** - Also here the Dataset did not require much of adjustments, and didn't contain null values or other issues. <br>\n",
    "Even though the ML practice was quite basic and straight forward, with no feature engineering or hyper parameter advanced tunning, all classifiers and models has reached almost 70% accuracy. <br>\n",
    "It has left the impression that with advanced implementation, accuracy might be a higher. <br>"
   ]
  }
 ],
 "metadata": {
  "kernelspec": {
   "display_name": "Python 3",
   "language": "python",
   "name": "python3"
  },
  "language_info": {
   "codemirror_mode": {
    "name": "ipython",
    "version": 3
   },
   "file_extension": ".py",
   "mimetype": "text/x-python",
   "name": "python",
   "nbconvert_exporter": "python",
   "pygments_lexer": "ipython3",
   "version": "3.5.2"
  }
 },
 "nbformat": 4,
 "nbformat_minor": 1
}
