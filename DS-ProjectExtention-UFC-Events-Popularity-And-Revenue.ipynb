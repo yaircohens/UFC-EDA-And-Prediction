{
 "cells": [
  {
   "cell_type": "markdown",
   "metadata": {},
   "source": [
    "## Yair Cohen Selaya 302599816\n",
    "\n",
    "**Intro to Data Science Project Extension, HIT, 2020**\n",
    "# UFC Events Popularity & Revenue<br><br>"
   ]
  },
  {
   "cell_type": "markdown",
   "metadata": {},
   "source": [
    "# Table Of Content\n",
    "\n",
    "- **Import packages**\n",
    "\n",
    "## Section 1 -  Scraping the Data into pandas DataFrames:\n",
    "1. **Web scraping Part 1 - Tickets Revenue, PayPerView Buyrate & TV Ratings Average - Steps:**\n",
    "    1. Connecting the WebDriver and filtering the Events index dynamically\n",
    "    2. Scraping each Event's url from the filtered index\n",
    "    3. Scraping the Events data from each event url <br><br>\n",
    "    4. Data Refinement:\n",
    "        >A. Splitting the data items<br>\n",
    "         B. Handling the date form to be left with numeric date only<br>\n",
    "         C. Handling data items which are still in one list item - seperated by pipe '|'<br>\n",
    "         D. Excluding all irrelevant data<br>\n",
    "         E. Excluding Event lists which has only 1 data item left after step D.<br>\n",
    "    \n",
    "\n",
    "2. **Web Scraping Part 2 - Top 50 MMA (UFC) Athletes by Networh - Steps:**<br><br>\n",
    "   1. Reconnecting the WebDriver and requesting the URL\n",
    "   2. Scraping the data\n",
    "   3. Data Refinement\n",
    "   4. Converting the data from list of lists into pd.DataFrame\n",
    "\n",
    "\n",
    "3.**Manual scraping - PayPerView Average Price by Year**\n",
    " >1. Inserting the data into list of tuples\n",
    "\n",
    "\n",
    "## Section 2 - Exploratory Data Analysis:\n",
    "\n",
    "1. UFC Events Popularity Revenue by the Different Weight Classes\n",
    "2. UFC's Revenue from Tickets and PPV buys, through the career of 3 Champions - through different Weight Classes\n",
    "3. Calculating the Total Revenue each Champion has produced for the UFC\n",
    "4. The Champions Networth\n",
    "\n",
    "## Section 3:\n",
    "1. **Summary**\n",
    "2. Writing the scraped data to csv files"
   ]
  },
  {
   "cell_type": "markdown",
   "metadata": {},
   "source": [
    "- **Import Packages**"
   ]
  },
  {
   "cell_type": "code",
   "execution_count": 1,
   "metadata": {},
   "outputs": [],
   "source": [
    "# Web scraping\n",
    "from selenium.webdriver import Chrome\n",
    "from selenium.webdriver import ActionChains\n",
    "from selenium.webdriver.support.select import Select\n",
    "\n",
    "from time import sleep\n",
    "from random import randint\n",
    "\n",
    "# Formatting\n",
    "import locale\n",
    "import datetime\n",
    "\n",
    "# EDA & Visualization\n",
    "import pandas as pd\n",
    "from numpy import mean\n",
    "import seaborn as sns\n",
    "import matplotlib.pyplot as plt"
   ]
  },
  {
   "cell_type": "markdown",
   "metadata": {},
   "source": [
    "## 1. Web Scraping Part 1:\n",
    "### Attendance, Tickets Revenue, PayPerView Buyrate and TV Ratings Average\n",
    "The following website - https://www.tapology.com/fightcenter gathers these statistics, not only for the UFC but for more MMA events.<br>\n",
    "\n",
    "Therefore We will have to first filter the index results, for past UFC events. <br>\n",
    "**Step 1:** <br>\n",
    ">Since the filter bar is a dynamic JavaScript object, We will use Selenium ChromeWebDriver to filter the index by clicking the JS dropdown list.<br>\n",
    "\n",
    "**Step 2:** <br>\n",
    ">After We got the relevant events index, We will have to scrape each Event's url seperatley. We will have to navigate through the filtered index untill We got to it's last page.<br>\n",
    "\n",
    "**Step 3:** <br>\n",
    ">Once We'll have a list of all Event's urls (which contains the relevant data for a single event),<br>\n",
    "We'll scrape the data from each one of them.<br>\n",
    "\n",
    "**Step 4:** <br>\n",
    ">Data refinement - excluding irrelevant data, handling null values, generalize different forms of the same data, converting numeric values to numeric types and so on, so the data will be ready to be converted to pandas.DataFrame object<br>"
   ]
  },
  {
   "cell_type": "markdown",
   "metadata": {},
   "source": [
    "## Step 1 - Connecting the WebDriver and filtering the Events index dynamically"
   ]
  },
  {
   "cell_type": "code",
   "execution_count": 2,
   "metadata": {},
   "outputs": [],
   "source": [
    "# Connecting the Selenium Chrome WebDriver\n",
    "driver = Chrome(executable_path='/usr/local/bin/chromedriver')\n",
    "\n",
    "# Requesting the web page\n",
    "driver.get(\"https://www.tapology.com/fightcenter/\")\n",
    "\n",
    "# Sleep for assertion the content was loaded\n",
    "sleep(randint(3,5))"
   ]
  },
  {
   "cell_type": "code",
   "execution_count": 3,
   "metadata": {},
   "outputs": [],
   "source": [
    "## Note: For some reason, when filtering the 2 parameters: 'UFC', Results' through the JS dropdown lists\n",
    "## the index's content is not being refreshed, it maybe due to recognition of the WebDriver. \n",
    "## The walkaround I found is to first filter the 'UFC' parameter by clicking an ordinary href over the 'Quick Filter',\n",
    "## and only then filtering the 'Result' parameter through the JS dropdown (which exsits only at the dropdown)\n",
    "## Wierdly enough, after that the content is being loaded\n",
    "\n",
    "# Filtering of UFC Fights by clicking an href\n",
    "driver.find_element_by_xpath('//*[@id=\"content\"]/p/span/a[3]').click()\n",
    "\n",
    "# Dynamic filtering by clicking the JS dropdown list - 'Results' parameter for past events index\n",
    "dropdown_results = driver.find_element_by_xpath('//*[@id=\"searchRefine\"]/ul/li[2]/select')\n",
    "\n",
    "# Action chain: Click, selection, click\n",
    "actions = ActionChains(driver)\n",
    "actions.click(dropdown_results)\n",
    "select_box_results = Select(dropdown_results)\n",
    "actions.click(select_box_results.select_by_value('results'))\n",
    "actions.perform()"
   ]
  },
  {
   "cell_type": "markdown",
   "metadata": {},
   "source": [
    "## Step 2 - Scraping each Event's url from the filtered index\n",
    "\n",
    "For that let's write 2 functions - \n",
    "1. For the extraction the Event's urls out of each index page.\n",
    "2. For navigation to the next index page."
   ]
  },
  {
   "cell_type": "code",
   "execution_count": 4,
   "metadata": {},
   "outputs": [],
   "source": [
    "### Function for extraction of all relevant URLs from an Index page\n",
    "\n",
    "def urlsExtractor(driver_, linksList, pageNumber):\n",
    "    \n",
    "    try:\n",
    "        # Sleep is necessary to assert the content has been loaded before trying to find all hrefs \n",
    "        sleep(randint(2,4))\n",
    "        # Find all hrefs in page\n",
    "        hrefs = driver_.find_elements_by_xpath(\"//a[@href]\")\n",
    "        \n",
    "        for link in hrefs:\n",
    "            # Filter only relevant links by prefix\n",
    "            if '/fightcenter/events/' in link.get_attribute(\"href\"):\n",
    "                linksList.append(link.get_attribute(\"href\"))\n",
    "            else:\n",
    "                continue\n",
    "    \n",
    "    except:\n",
    "        # Failure notification with page number\n",
    "        print('Failed to scrape events links from page #' + pageNumber)\n",
    "    \n",
    "    \n",
    "    finally:\n",
    "        # Returns a list of all urls from current index page\n",
    "        return linksList"
   ]
  },
  {
   "cell_type": "code",
   "execution_count": 5,
   "metadata": {},
   "outputs": [],
   "source": [
    "### Function for navigation to the next Index page\n",
    "\n",
    "def nextPage(driver_):\n",
    "    \n",
    "    try:\n",
    "        # Finding 'Next' button\n",
    "        driver_.find_element_by_css_selector('#content > div.fightcenterEvents > h3:nth-child(27) > span.moreLink > nav > span.next').click()\n",
    "        return True\n",
    "    \n",
    "    except:\n",
    "        # If not found return a false flag since it is the last index page\n",
    "        return False"
   ]
  },
  {
   "cell_type": "markdown",
   "metadata": {},
   "source": [
    "Let's use the 2 functions to get a list of all Events URLs we need to scrape:"
   ]
  },
  {
   "cell_type": "code",
   "execution_count": 6,
   "metadata": {},
   "outputs": [],
   "source": [
    "# False flag will indicate we arrived the index's last page\n",
    "flag = True\n",
    "\n",
    "# Counter will indicate page number in case of failure\n",
    "pagesCounter = 0\n",
    "urls2Scrape = []\n",
    "\n",
    "while flag is True:\n",
    "    \n",
    "    urlsExtractor(driver, urls2Scrape, pagesCounter)\n",
    "    pagesCounter += 1\n",
    "    flag = nextPage(driver)"
   ]
  },
  {
   "cell_type": "markdown",
   "metadata": {},
   "source": [
    "## Step 3: Scraping the Events data from each event url\n",
    "For that We'll write a function that returns each scraped page's data in a list"
   ]
  },
  {
   "cell_type": "code",
   "execution_count": 7,
   "metadata": {},
   "outputs": [],
   "source": [
    "### Function for scraping an Event webpage - the data we're looking for\n",
    "\n",
    "def scrapeEventStats2List(driver_, url, numOf_ScrapedPages, numOf_MissingPages):\n",
    "    \n",
    "    driver_ .get(url)\n",
    "  # print(url)\n",
    "    \n",
    "    # List for the event's data\n",
    "    pageSats = []\n",
    "    \n",
    "    try:\n",
    "        \n",
    "        sleep(randint(1,2))\n",
    "        \n",
    "        # Finding the web elements conataining the data\n",
    "        stats = driver_.find_elements_by_xpath('//*[@id=\"content\"]/div[4]/div[2]/ul')\n",
    "        \n",
    "        # Appending the explicit data (text)\n",
    "        # Also counting succssefull \\ failed attempts\n",
    "        for item in stats:\n",
    "            pageSats.append(item.text)\n",
    "        numOf_ScrapedPages += 1\n",
    "        \n",
    "    except:\n",
    "        \n",
    "        print('Failed to scrape webpage')\n",
    "        numOf_MissingPages += 1\n",
    "    \n",
    "    \n",
    "    return (pageSats, numOf_ScrapedPages, numOf_MissingPages)"
   ]
  },
  {
   "cell_type": "markdown",
   "metadata": {},
   "source": [
    "**Let's use the above 'scrapeEventStats2List' function to scrape each Event's url**<br>\n",
    "Finally it prints out the total success rate"
   ]
  },
  {
   "cell_type": "code",
   "execution_count": 8,
   "metadata": {
    "scrolled": false
   },
   "outputs": [
    {
     "name": "stdout",
     "output_type": "stream",
     "text": [
      "Total of 681 were successfully scraped out of 681 pages\n"
     ]
    }
   ],
   "source": [
    "# Connecting a new WebDrivier\n",
    "driver2 = Chrome(executable_path='/usr/local/bin/chromedriver')\n",
    "\n",
    "# Counters \n",
    "numOfScrapedPages = 0\n",
    "numOfMissingPages = 0\n",
    "\n",
    "allScrapedPagesData = []\n",
    "\n",
    "for url in urls2Scrape:\n",
    "    \n",
    "    eventPageData = scrapeEventStats2List(driver2, url, numOfScrapedPages, numOfMissingPages)\n",
    "    allScrapedPagesData.append(eventPageData[0])\n",
    "    numOfMissingPages = eventPageData[2]\n",
    "    numOfScrapedPages = eventPageData[1]\n",
    "    \n",
    "print('Total of ' + str(numOfScrapedPages) + ' were successfully scraped out of ' + str(numOfScrapedPages + numOfMissingPages) + ' pages')"
   ]
  },
  {
   "cell_type": "markdown",
   "metadata": {},
   "source": [
    "## Step 4: Data Refinement\n",
    "**A. Splitting the data items**"
   ]
  },
  {
   "cell_type": "code",
   "execution_count": 9,
   "metadata": {},
   "outputs": [
    {
     "name": "stdout",
     "output_type": "stream",
     "text": [
      "Before: \n",
      "\n",
      "['Saturday 02.08.2020 at 10:00 PM ET\\nU.S. Broadcast: Pay Per View | Prelims: ESPN\\nPromotion: Ultimate Fighting Championship\\nOwnership: WME-IMG\\nVenue: Toyota Center\\nLocation: Houston, Texas, United States\\nEnclosure: Octagon\\nTV Announcers: Jon Anik, Joe Rogan, Dominick Cruz\\nRing Announcer: Bruce Buffer\\nPost-Fight Interviews: Joe Rogan\\nTicket Revenue (live gate): $3,549,418\\nAttendance: 17,401\\nPPV Buys / Buyrate: N/A | TV Ratings: 1.49M avg. viewers (ESPN prelims)\\nMMA Bouts: 12\\nPromotion Links:\\nEvent Links:']\n",
      "\n",
      "\n"
     ]
    }
   ],
   "source": [
    "## Each Event's data was scraped as one list long list\n",
    "print('Before: ' + '\\n')\n",
    "print(allScrapedPagesData[5])\n",
    "print('\\n')"
   ]
  },
  {
   "cell_type": "code",
   "execution_count": 10,
   "metadata": {
    "scrolled": false
   },
   "outputs": [
    {
     "name": "stdout",
     "output_type": "stream",
     "text": [
      "After: \n",
      "\n",
      "['Saturday 02.08.2020 at 10:00 PM ET', 'U.S. Broadcast: Pay Per View | Prelims: ESPN', 'Promotion: Ultimate Fighting Championship', 'Ownership: WME-IMG', 'Venue: Toyota Center', 'Location: Houston, Texas, United States', 'Enclosure: Octagon', 'TV Announcers: Jon Anik, Joe Rogan, Dominick Cruz', 'Ring Announcer: Bruce Buffer', 'Post-Fight Interviews: Joe Rogan', 'Ticket Revenue (live gate): $3,549,418', 'Attendance: 17,401', 'PPV Buys / Buyrate: N/A | TV Ratings: 1.49M avg. viewers (ESPN prelims)', 'MMA Bouts: 12', 'Promotion Links:', 'Event Links:']\n"
     ]
    }
   ],
   "source": [
    "# Let's handle it by splitting the list to items per '\\n'\n",
    "\n",
    "allEventsStats_refined = []\n",
    "\n",
    "# First let's split each event's data into a separate list item\n",
    "for eventData in allScrapedPagesData:\n",
    "    for dataPiece in eventData:\n",
    "        allEventsStats_refined.append(dataPiece.split('\\n'))\n",
    "        \n",
    "print('After: ' + '\\n')\n",
    "print(allEventsStats_refined[5])"
   ]
  },
  {
   "cell_type": "markdown",
   "metadata": {},
   "source": [
    "**B. Handling the date form to be left with numeric date only<br>\n",
    "C. Handling data items which are still in one list item - seperated by pipe '|'<br>\n",
    "D. Excluding all irrelevant data<br>\n",
    "E. Excluding Event lists which has only 1 data item left after step D.<br>**"
   ]
  },
  {
   "cell_type": "code",
   "execution_count": 11,
   "metadata": {},
   "outputs": [],
   "source": [
    "## Data refinement part 1: Rearranging the data in lists \n",
    "\n",
    "for eventStats in allEventsStats_refined:\n",
    "    \n",
    "    # Date came in form of: 'Friday 05.08.2020 at 05:30 AM ET'\n",
    "    # Lets exclude everything but the date and give it it's field name\n",
    "    # Then convert date format to to m-d-Y to match the UFC_df DataFrame datetime format\n",
    "    date = eventStats[0].split(' at')[0].split(' ')[1]\n",
    "    currentFormat_date = datetime.datetime.strptime(date, '%m.%d.%Y')\n",
    "    newFormat_date = datetime.date.strftime(currentFormat_date, \"%Y-%m-%d\")\n",
    "    date = 'Date: ' + newFormat_date\n",
    "    eventStats[0] = date\n",
    "    \n",
    "    \n",
    "    for dp in eventStats:\n",
    "        \n",
    "        # After the splitting of items, still the PPV Buys and TV Ratings are in one string\n",
    "        # Let's seperate the both and append back to the event's stats list\n",
    "        if ' | ' in dp:\n",
    "            eventStats.append(dp.split(' | ')[0])\n",
    "            eventStats.append(dp.split(' | ')[1])\n",
    "            eventStats.remove(dp)\n",
    "\n",
    "            \n",
    "# For some reason not all fields containing pipe | is being removed at first attempt            \n",
    "for eventStats in allEventsStats_refined:\n",
    "    for dp in eventStats:\n",
    "        if ' | ' in dp:\n",
    "            eventStats.append(dp.split(' | ')[0])\n",
    "            eventStats.append(dp.split(' | ')[1])\n",
    "            eventStats.remove(dp)\n",
    "\n",
    "\n",
    "\n",
    "# Excluding all irrelevant data fields\n",
    "stats2Exclude = ['Name: ','MMA Bouts:','Also Known As: ','Ownership: ','Venue: ','Location:','Enclosure: ','Announcers:','Announcer:','Matchmaker:','Post-Fight','Promotion: ','Links:','Broadcast:', 'Backstage:', 'Interviews', 'Prelims'] \n",
    "itemBuff = []\n",
    "listBuff = []\n",
    "\n",
    "for eventStats in allEventsStats_refined:\n",
    "    for dp in eventStats:\n",
    "        \n",
    "        if any(ext in dp for ext in stats2Exclude):\n",
    "            continue\n",
    "        else:\n",
    "            itemBuff.append(dp)\n",
    "            \n",
    "    listBuff.append(itemBuff)\n",
    "    itemBuff = []\n",
    "\n",
    "allEventsStats_refined = listBuff\n",
    "\n",
    "\n",
    "\n",
    "# Removing all useless data of events conating only one data field\n",
    "listBuff = []\n",
    "\n",
    "for eventStats in allEventsStats_refined:\n",
    "    if len(eventStats) == 1:\n",
    "        continue\n",
    "    else:\n",
    "        listBuff.append(eventStats)\n",
    "\n",
    "allEventsStats_refined = listBuff"
   ]
  },
  {
   "cell_type": "markdown",
   "metadata": {},
   "source": [
    "### Let's take a look now"
   ]
  },
  {
   "cell_type": "code",
   "execution_count": 12,
   "metadata": {},
   "outputs": [
    {
     "name": "stdout",
     "output_type": "stream",
     "text": [
      "['Date: 2020-02-08', 'Ticket Revenue (live gate): $3,549,418', 'Attendance: 17,401', 'PPV Buys / Buyrate: N/A', 'TV Ratings: 1.49M avg. viewers (ESPN prelims)']\n"
     ]
    }
   ],
   "source": [
    "print(allEventsStats_refined[5])"
   ]
  },
  {
   "cell_type": "markdown",
   "metadata": {},
   "source": [
    "**F. Converting Event's list of lists to list of dictionaries**\n",
    ">Besides easier access, also it is convinient for conversion to pandas DataFrame\n",
    "\n",
    "**G. Data forms rifinement to be uniformed**\n",
    "1. Empty strings or N/A values - Across all parameters\n",
    "2. **Ticket Revenue** - comes in forms of:<br>\n",
    "\n",
    ">$4,095,235 USD \n",
    "\n",
    ">$4,095,235\n",
    "\n",
    ">$4.1M\n",
    "\n",
    ">$1,102,542.16\n",
    "\n",
    "3. **'PPV Buys'** - comes in forms of:<br>\n",
    "\n",
    ">$15,077  \n",
    "\n",
    ">$15,077 (Paid\n",
    "\n",
    "4. **'Attendance'** - comes in forms of:<br>\n",
    "\n",
    ">$7,055 \n",
    "\n",
    ">$7,055 (Paid \n",
    "\n",
    "6. **'TV Ratings Average'**  - comes in forms of:<br>\n",
    "\n",
    ">$870k avg. viewers (FS1 prelims, 1.37M peak)\n",
    "\n",
    ">$1.15M avg. viewers (FS1 prelims, 1.46M peak)\n",
    "\n",
    ">$760,000,000 avg. viewers (FS1 prelims, 1.46M peak)\n",
    "\n",
    ">$2.5M average viewers (3.33M peak, 521k FS1 prelims)\n",
    "\n",
    ">$1.85 million average viewers (2.5M peak)\n",
    "\n",
    ">$21.3M average viewers\n",
    "\n",
    ">$690,500,000 average viewers\n",
    "\n",
    ">$991,000 viewers (average)\n",
    "\n",
    ">$1.4M viewers (Spike)\n",
    "\n",
    ">$2,600,000 viewers(3,400,000 peak)"
   ]
  },
  {
   "cell_type": "code",
   "execution_count": 13,
   "metadata": {},
   "outputs": [
    {
     "name": "stdout",
     "output_type": "stream",
     "text": [
      "Conversion failed, NaN assigned - PPV Buys / Buyrate: 15,077 (Paid\n",
      "Conversion failed, NaN assigned - PPV Buys / Buyrate: 17,401\n",
      "Conversion failed, NaN assigned - PPV Buys / Buyrate: 16,811\n",
      "Conversion failed, NaN assigned - PPV Buys / Buyrate: 20,143\n",
      "Conversion failed, NaN assigned - PPV Buys / Buyrate: 57,127\n",
      "Conversion failed, NaN assigned - PPV Buys / Buyrate: 2019-09-07\n",
      "Conversion failed, NaN assigned - PPV Buys / Buyrate: 17,304\n",
      "Conversion failed, NaN assigned - PPV Buys / Buyrate: 12,144\n",
      "Conversion failed, NaN assigned - PPV Buys / Buyrate: 18,358\n",
      "Conversion failed, NaN assigned - PPV Buys / Buyrate: 16,083\n",
      "Conversion failed, NaN assigned - PPV Buys / Buyrate: 15,193\n",
      "Conversion failed, NaN assigned - TV Ratings: 991,000 viewers (average)\n",
      "Conversion failed, NaN assigned - PPV Buys / Buyrate: 9,000\n"
     ]
    }
   ],
   "source": [
    "# setting locale, used for take of commas out of numeric strings before float conversion\n",
    "locale.setlocale( locale.LC_ALL, 'en_US.UTF-8' )\n",
    "\n",
    "allEventsListOfDicts = []\n",
    "dictBuff = dict()\n",
    "\n",
    "for eventStats in allEventsStats_refined:\n",
    "    for dp in eventStats:\n",
    "        \n",
    "        # Flags to indicate successfull \\ failed split\n",
    "        # Also a (True keyFlag, False valueFlag) indicates missing value\n",
    "        keyFlag = True\n",
    "        valFlag = True\n",
    "        \n",
    "        # Key split\n",
    "        try:     \n",
    "            key = dp.split(':')[0]\n",
    "        except:\n",
    "            keyFlag = False\n",
    "        \n",
    "        # Value split\n",
    "        try:\n",
    "            value = dp.split(':')[1].lstrip(' ')\n",
    "        except:\n",
    "            valFlag = False\n",
    "        \n",
    "        # Existing value - refine and set to dict\n",
    "        if keyFlag & valFlag == True:\n",
    "            \n",
    "            # Replacing missing values with NaN\n",
    "            if value == 'N/A' or '':\n",
    "                value = float('NaN')\n",
    "            else:\n",
    "                sample = value\n",
    "                \n",
    "        # Custom refinement for each data field:\n",
    "            # Ticket Revenue ->            \n",
    "            if key == 'Ticket Revenue (live gate)':\n",
    "                try:\n",
    "                    # Removing $ which is prefix for all value forms\n",
    "                    value = value.split('$')[1].lstrip()\n",
    "\n",
    "                    if 'USD' in value:\n",
    "                        # handling form of '4,095,235 USD'\n",
    "                        value = float(locale.atoi(value.split(' USD')[0]))\n",
    "                            \n",
    "                    elif '.' in value:\n",
    "\n",
    "                        if 'M' in value:\n",
    "                            # handling form of '1.333M'\n",
    "                            value = float(value.split('M')[0])*1000000\n",
    "\n",
    "                        else:\n",
    "                            # handling form of '1,102,542.16'\n",
    "                            value = float(locale.atoi(value.split('.')[0]))\n",
    "                    else:\n",
    "                         value = float(locale.atoi(value))\n",
    "                \n",
    "                except:\n",
    "                    print('Conversion failed, NaN assigned - Ticket Revenu: ' + str(sample))\n",
    "                    value = float('NaN')              \n",
    "            \n",
    "            # PPV Buys / Buyrate ->        \n",
    "            elif key == 'PPV Buys / Buyrate':\n",
    "                try:\n",
    "                    if ' (Paid' in value:\n",
    "                        # handling single occurence of '15,077 (Paid'\n",
    "                        value = float(locale.atoi(value.split(' (P')[0]))\n",
    "                    else:\n",
    "                        value = float(locale.atoi(value))\n",
    "                        \n",
    "                \n",
    "                except:\n",
    "                    print('Conversion failed, NaN assigned - PPV Buys / Buyrate: ' + str(sample))\n",
    "                    value = float('NaN')                   \n",
    "                    \n",
    "\n",
    "            # Attendance ->\n",
    "            elif key == 'Attendance':\n",
    "                try:\n",
    "                    # hadnling form of '7,055 (Paid'\n",
    "                    value = float(locale.atoi(value.split(' ')[0]))         \n",
    "                \n",
    "                except:\n",
    "                    print('Conversion failed, NaN assigned - TV Attendance: ' + str(sample))\n",
    "                    value = float('NaN') \n",
    "\n",
    "            \n",
    "            # TV Ratings ->\n",
    "            elif key == 'TV Ratings':\n",
    "                try:\n",
    "                    \n",
    "                    if ' avg.' in value:\n",
    "                        # initial handling of form containing 'avg.'\n",
    "                        value = value.split('avg.')[0]\n",
    "                        \n",
    "                        if 'k ' in value:\n",
    "                            # handling form of '870k avg. viewers (FS1 prelims, 1.37M peak)'\n",
    "                            value = float(value.split('k ')[0])*100000\n",
    "                        \n",
    "                        elif 'M' in value:\n",
    "                            # handling form of '1.15M avg. viewers (FS1 prelims, 1.46M peak)'\n",
    "                            value = float(value.split('M')[0])*1000000\n",
    "                        \n",
    "                        else:\n",
    "                            # handling form of '760,000,000 avg. viewers (FS1 prelims, 1.46M peak)'\n",
    "                            value = float(locale.atoi(value))\n",
    "\n",
    "                    elif 'average' in value:\n",
    "                        # handling form of '2.5M average viewers (3.33M peak, 521k FS1 prelims)\n",
    "                        value = value.split(' average')[0]\n",
    "                        \n",
    "                        if 'million' in value:\n",
    "                            # handling form of '1.85 million average viewers (2.5M peak)'\n",
    "                            value = float(value.split('million')[0])*1000000\n",
    "                        \n",
    "                        elif 'M' in value:\n",
    "                            # handling form of '21.3M average viewers'\n",
    "                            value = float(value.split('M')[0])*1000000\n",
    "                        \n",
    "                        else:\n",
    "                            # handling form of '690,500,000 average viewers'\n",
    "                            value = float(locale.atoi(value))\n",
    "                        \n",
    "                    elif 'viewers' in value:\n",
    "                        # handling form of '991,000 viewers (average)'\n",
    "                        value = value.split(' viewers')[0]\n",
    "                        \n",
    "                        if 'M' in value:\n",
    "                            # handling form of '1.4M viewers (Spike)'   \n",
    "                            value = float(value.split('M')[0])*1000000\n",
    "                        else:\n",
    "                            # handling form of '2,600,000 viewers(3,400,000 peak)'\n",
    "                            value = float(locale.atoi(value))\n",
    "\n",
    "                except:\n",
    "                    print('Conversion failed, NaN assigned - TV Ratings: ' + str(sample))\n",
    "                    value = float('NaN') \n",
    "\n",
    "                    \n",
    "            dictBuff[key] = value\n",
    "        \n",
    "        # Missing value - set NaN to dcit\n",
    "        elif keyFlag == True & valFlag == False:\n",
    "            dictBuff[key] = float('NaN')\n",
    "                   \n",
    "    allEventsListOfDicts.append(dictBuff)\n",
    "    dictBuff = dict()"
   ]
  },
  {
   "cell_type": "code",
   "execution_count": 14,
   "metadata": {},
   "outputs": [],
   "source": [
    "# For unknown reason some previous conversion attempts didn't raise it's exception, But neither it was a successful\n",
    "# without this re-conversion the df will be missing some values\n",
    "# as they failing to be converted to float64 pd datatype\n",
    "\n",
    "for dct in allEventsListOfDicts:\n",
    "    for key, value in dct.items():\n",
    "        if key == 'Ticket Revenue (live gate)':\n",
    "            try:\n",
    "                temp = value.replace(',', '')\n",
    "                dct[key] = float(temp)\n",
    "            except:\n",
    "                continue\n",
    "        elif key == 'PPV Buys / Buyrate':\n",
    "            try:\n",
    "                temp = value.replace(',', '')\n",
    "                dct[key] = float(temp)\n",
    "            except:\n",
    "                continue\n",
    "        elif key == 'Attendance':\n",
    "            try:\n",
    "                temp = value.replace(',', '')\n",
    "                dct[key] = float(temp)\n",
    "            except:\n",
    "                continue\n",
    "        elif key == 'TV Ratings':\n",
    "            try:\n",
    "                temp = value.replace(',', '')\n",
    "                dct[key] = float(temp)\n",
    "            except:\n",
    "                continue"
   ]
  },
  {
   "cell_type": "markdown",
   "metadata": {},
   "source": [
    "## Convert List of dictionaries into pd.DataFrame"
   ]
  },
  {
   "cell_type": "code",
   "execution_count": 15,
   "metadata": {},
   "outputs": [],
   "source": [
    "# List of new column names\n",
    "colNames = ['attendance', 'date', 'ppv_buys', 'tv_ratings_avg', 'tickets_revenue']\n",
    "\n",
    "# Converting list of dicts to DataFrame\n",
    "UFC_EventsRevenue_df = pd.DataFrame(allEventsListOfDicts)\n",
    "\n",
    "# Renaming the columns with the new names\n",
    "UFC_EventsRevenue_df.columns = colNames\n",
    "\n",
    "# Rearranging the order of the columns\n",
    "UFC_EventsRevenue_df = UFC_EventsRevenue_df[['date', 'attendance', 'tickets_revenue', 'ppv_buys', 'tv_ratings_avg']]\n",
    "\n",
    "# Converting numeric columns from object type to float\n",
    "cols2Convert = ['attendance', 'ppv_buys', 'tv_ratings_avg', 'tickets_revenue']\n",
    "UFC_EventsRevenue_df[cols2Convert] = UFC_EventsRevenue_df[cols2Convert].apply(pd.to_numeric, errors='coerce')"
   ]
  },
  {
   "cell_type": "code",
   "execution_count": 16,
   "metadata": {},
   "outputs": [
    {
     "name": "stdout",
     "output_type": "stream",
     "text": [
      "<class 'pandas.core.frame.DataFrame'>\n",
      "RangeIndex: 481 entries, 0 to 480\n",
      "Data columns (total 5 columns):\n",
      "date               481 non-null object\n",
      "attendance         452 non-null float64\n",
      "tickets_revenue    367 non-null float64\n",
      "ppv_buys           194 non-null float64\n",
      "tv_ratings_avg     287 non-null float64\n",
      "dtypes: float64(4), object(1)\n",
      "memory usage: 18.9+ KB\n"
     ]
    }
   ],
   "source": [
    "UFC_EventsRevenue_df.info()"
   ]
  },
  {
   "cell_type": "code",
   "execution_count": 17,
   "metadata": {},
   "outputs": [
    {
     "data": {
      "text/html": [
       "<div>\n",
       "<style scoped>\n",
       "    .dataframe tbody tr th:only-of-type {\n",
       "        vertical-align: middle;\n",
       "    }\n",
       "\n",
       "    .dataframe tbody tr th {\n",
       "        vertical-align: top;\n",
       "    }\n",
       "\n",
       "    .dataframe thead th {\n",
       "        text-align: right;\n",
       "    }\n",
       "</style>\n",
       "<table border=\"1\" class=\"dataframe\">\n",
       "  <thead>\n",
       "    <tr style=\"text-align: right;\">\n",
       "      <th></th>\n",
       "      <th>date</th>\n",
       "      <th>attendance</th>\n",
       "      <th>tickets_revenue</th>\n",
       "      <th>ppv_buys</th>\n",
       "      <th>tv_ratings_avg</th>\n",
       "    </tr>\n",
       "  </thead>\n",
       "  <tbody>\n",
       "    <tr>\n",
       "      <th>0</th>\n",
       "      <td>2020-03-14</td>\n",
       "      <td>NaN</td>\n",
       "      <td>NaN</td>\n",
       "      <td>NaN</td>\n",
       "      <td>672000.0</td>\n",
       "    </tr>\n",
       "    <tr>\n",
       "      <th>1</th>\n",
       "      <td>2020-03-07</td>\n",
       "      <td>15077.0</td>\n",
       "      <td>2742906.0</td>\n",
       "      <td>NaN</td>\n",
       "      <td>1190000.0</td>\n",
       "    </tr>\n",
       "    <tr>\n",
       "      <th>2</th>\n",
       "      <td>2020-02-29</td>\n",
       "      <td>7098.0</td>\n",
       "      <td>402958.0</td>\n",
       "      <td>NaN</td>\n",
       "      <td>NaN</td>\n",
       "    </tr>\n",
       "    <tr>\n",
       "      <th>3</th>\n",
       "      <td>2020-02-22</td>\n",
       "      <td>10025.0</td>\n",
       "      <td>1239625.0</td>\n",
       "      <td>NaN</td>\n",
       "      <td>NaN</td>\n",
       "    </tr>\n",
       "    <tr>\n",
       "      <th>4</th>\n",
       "      <td>2020-02-15</td>\n",
       "      <td>6449.0</td>\n",
       "      <td>596820.0</td>\n",
       "      <td>NaN</td>\n",
       "      <td>NaN</td>\n",
       "    </tr>\n",
       "  </tbody>\n",
       "</table>\n",
       "</div>"
      ],
      "text/plain": [
       "         date  attendance  tickets_revenue  ppv_buys  tv_ratings_avg\n",
       "0  2020-03-14         NaN              NaN       NaN        672000.0\n",
       "1  2020-03-07     15077.0        2742906.0       NaN       1190000.0\n",
       "2  2020-02-29      7098.0         402958.0       NaN             NaN\n",
       "3  2020-02-22     10025.0        1239625.0       NaN             NaN\n",
       "4  2020-02-15      6449.0         596820.0       NaN             NaN"
      ]
     },
     "execution_count": 17,
     "metadata": {},
     "output_type": "execute_result"
    }
   ],
   "source": [
    "UFC_EventsRevenue_df.head()"
   ]
  },
  {
   "cell_type": "markdown",
   "metadata": {},
   "source": [
    "## 2. Web Scraping Part 2:\n",
    "### Top 50 MMA (UFC) Athletes by Networh\n",
    "From the following webpage - https://www.celebritynetworth.com/list/top-50-mma-net-worth/ <br>\n",
    "**Step 1:** <br>\n",
    ">Reconnecting the WebDriver and requesting the URL<br>\n",
    "\n",
    "**Step 2:** <br>\n",
    ">Scraping the data<br>\n",
    "\n",
    "**Step 3:** <br>\n",
    ">Data Refinement<br>\n",
    "\n",
    "**Step 4:** <br>\n",
    ">Converting the data from list of lists into pd.DataFrame<br>"
   ]
  },
  {
   "cell_type": "markdown",
   "metadata": {},
   "source": [
    "### Step 1: Reconnecting the WebDriver and Requesting the URL"
   ]
  },
  {
   "cell_type": "code",
   "execution_count": 18,
   "metadata": {},
   "outputs": [],
   "source": [
    "# Reconnecting the driver\n",
    "driver = Chrome(executable_path='/usr/local/bin/chromedriver')\n",
    "\n",
    "# Requesting the url\n",
    "driver.get(\"https://www.celebritynetworth.com/list/top-50-mma-net-worth/\")"
   ]
  },
  {
   "cell_type": "markdown",
   "metadata": {},
   "source": [
    "### Step 2: Scraping the data using xPath"
   ]
  },
  {
   "cell_type": "code",
   "execution_count": 19,
   "metadata": {},
   "outputs": [],
   "source": [
    "# Scrape list of data - all data came in form of one long string\n",
    "athletesNetworthList = driver.find_elements_by_xpath('//*[@id=\"top_100_list\"]')"
   ]
  },
  {
   "cell_type": "markdown",
   "metadata": {},
   "source": [
    "### Step 3: Data Refinement\n",
    "**A.** Seperating the items by splitting by '\\n' character<br>\n",
    "**B.** Each Athlete's data contains 6 items - therfore splitting every 6th item<br>\n",
    "**C.** Excluding irrelevant data<br>\n",
    "**D.** Converting the Networth data form - from 1 to 1000000, so it could be converted to float<br>"
   ]
  },
  {
   "cell_type": "code",
   "execution_count": 20,
   "metadata": {},
   "outputs": [],
   "source": [
    "# A. Seperating the items by splitting by '\\n' character\n",
    "scrapedData_AthletesNetworth = []\n",
    "scrapedData_AthletesNetworth.append(athletesNetworthList[0].text.split('\\n'))\n",
    "\n",
    "\n",
    "# B. Each Athlete's data contains 6 items - therfore splitting every 6th item\n",
    "scrapedData_AthletesNetworth = [scrapedData_AthletesNetworth[0][i:i+6] for i in range(0, len(scrapedData_AthletesNetworth[0]), 6)]\n",
    "\n",
    "\n",
    "# C. Excluding irrelevant data\n",
    "buff = []\n",
    "\n",
    "for item in scrapedData_AthletesNetworth:\n",
    "    buff.append([item[1].split('#')[1], item[2].split(' Net Worth')[0], item[3].split(' ')[0].split('$')[1]])\n",
    "    \n",
    "scrapedData_AthletesNetworth = buff\n",
    "\n",
    "\n",
    "# D. Converting the Networth data form and convert to float\n",
    "for athlete in scrapedData_AthletesNetworth:\n",
    "    athlete[2] = float(athlete[2]) * 1000000"
   ]
  },
  {
   "cell_type": "markdown",
   "metadata": {},
   "source": [
    "### Step 4: Converting list of lists into pd.DataFrame"
   ]
  },
  {
   "cell_type": "code",
   "execution_count": 21,
   "metadata": {},
   "outputs": [],
   "source": [
    "# Converting list of dicts to DataFrame\n",
    "top50_AthletesNetworth_df = pd.DataFrame.from_records(scrapedData_AthletesNetworth)\n",
    "\n",
    "# Setting new column name list for renaming\n",
    "top50_AthletesNetworth_df.columns = ['rank', 'name', 'networth']\n",
    "\n",
    "# Converting numeric columns from object type to float\n",
    "cols2Convert = ['rank', 'networth']\n",
    "top50_AthletesNetworth_df[cols2Convert] = top50_AthletesNetworth_df[cols2Convert].apply(pd.to_numeric, errors='coerce')"
   ]
  },
  {
   "cell_type": "code",
   "execution_count": 22,
   "metadata": {},
   "outputs": [
    {
     "name": "stdout",
     "output_type": "stream",
     "text": [
      "<class 'pandas.core.frame.DataFrame'>\n",
      "RangeIndex: 50 entries, 0 to 49\n",
      "Data columns (total 3 columns):\n",
      "rank        50 non-null int64\n",
      "name        50 non-null object\n",
      "networth    50 non-null float64\n",
      "dtypes: float64(1), int64(1), object(1)\n",
      "memory usage: 1.2+ KB\n"
     ]
    }
   ],
   "source": [
    "top50_AthletesNetworth_df.info()"
   ]
  },
  {
   "cell_type": "code",
   "execution_count": 23,
   "metadata": {},
   "outputs": [
    {
     "data": {
      "text/html": [
       "<div>\n",
       "<style scoped>\n",
       "    .dataframe tbody tr th:only-of-type {\n",
       "        vertical-align: middle;\n",
       "    }\n",
       "\n",
       "    .dataframe tbody tr th {\n",
       "        vertical-align: top;\n",
       "    }\n",
       "\n",
       "    .dataframe thead th {\n",
       "        text-align: right;\n",
       "    }\n",
       "</style>\n",
       "<table border=\"1\" class=\"dataframe\">\n",
       "  <thead>\n",
       "    <tr style=\"text-align: right;\">\n",
       "      <th></th>\n",
       "      <th>rank</th>\n",
       "      <th>name</th>\n",
       "      <th>networth</th>\n",
       "    </tr>\n",
       "  </thead>\n",
       "  <tbody>\n",
       "    <tr>\n",
       "      <th>0</th>\n",
       "      <td>1</td>\n",
       "      <td>Conor McGregor</td>\n",
       "      <td>120000000.0</td>\n",
       "    </tr>\n",
       "    <tr>\n",
       "      <th>1</th>\n",
       "      <td>2</td>\n",
       "      <td>Rorion Gracie</td>\n",
       "      <td>50000000.0</td>\n",
       "    </tr>\n",
       "    <tr>\n",
       "      <th>2</th>\n",
       "      <td>3</td>\n",
       "      <td>Georges St Pierre</td>\n",
       "      <td>30000000.0</td>\n",
       "    </tr>\n",
       "    <tr>\n",
       "      <th>3</th>\n",
       "      <td>4</td>\n",
       "      <td>Khabib Nurmagomedov</td>\n",
       "      <td>30000000.0</td>\n",
       "    </tr>\n",
       "    <tr>\n",
       "      <th>4</th>\n",
       "      <td>5</td>\n",
       "      <td>Brock Lesnar</td>\n",
       "      <td>28000000.0</td>\n",
       "    </tr>\n",
       "  </tbody>\n",
       "</table>\n",
       "</div>"
      ],
      "text/plain": [
       "   rank                 name     networth\n",
       "0     1       Conor McGregor  120000000.0\n",
       "1     2        Rorion Gracie   50000000.0\n",
       "2     3    Georges St Pierre   30000000.0\n",
       "3     4  Khabib Nurmagomedov   30000000.0\n",
       "4     5         Brock Lesnar   28000000.0"
      ]
     },
     "execution_count": 23,
     "metadata": {},
     "output_type": "execute_result"
    }
   ],
   "source": [
    "top50_AthletesNetworth_df.head()"
   ]
  },
  {
   "cell_type": "markdown",
   "metadata": {},
   "source": [
    "## 3. Manual scraping\n",
    "### PayPerView Average Price by Year\n",
    "\n",
    "The PayPerVeiw average price is the combination of two prices: <br>\n",
    "1. **Lower price for HD streaming** (720p) <br>\n",
    "2. **Higher price for FullHD streaming** (1080p) <br>\n",
    ">The delta between the two is 10$ <br>\n",
    "\n",
    "From the following webpage - https://www.statista.com/statistics/682021/average-price-of-pay-per-views-of-ultimate-fighting-championship/ <br>\n",
    "\n",
    "**Since the below webpage is categorized as 'Premium' content, It blocks the access to the data** (after the first visit), so it can't be scraped, but it is a very small peice of data to be copied.\n",
    "Also since it holds data only up to 2015, I gathered the rest of it from the below sources:<br>\n",
    "\n",
    "[2015-2016]:\n",
    "https://www.sherdog.com/news/articles/The-Cost-of-Business-Why-ESPN-Increased-UFC-PPV-Prices-167979 <Br>\n",
    "[2016-2017]:\n",
    "https://heavy.com/sports/2016/12/ufc-206-ppv-cost-price-pay-per-view-order-holloway-pettis-watch-comcast-verizon/ <Br>\n",
    "[2018]:\n",
    "https://www.mmamania.com/2019/12/18/21028227/espn-jacks-up-ufc-ppv-prices-just-in-time-conor-mcgregors-return-mma <Br>\n",
    "[2019-2020]:\n",
    "https://mmajunkie.usatoday.com/2019/12/ufc-pay-per-view-prices-return-to-64-99-beginning-with-ufc-246-conor-vs-cowboy <Br>\n"
   ]
  },
  {
   "cell_type": "markdown",
   "metadata": {},
   "source": [
    "## Step 1: Inerstion of PPV average price data into list of tuples"
   ]
  },
  {
   "cell_type": "code",
   "execution_count": 24,
   "metadata": {},
   "outputs": [],
   "source": [
    "ppvAvgPrice = [('2001',28.91),('2002',29.95),('2003',29.95),('2004',29.95),('2005',34.42),('2006',39.68),('2007',41),('2008',46.7),('2009',47.95),('2010',48.95),('2011',49.95),('2012',50.95),('2013',52.8),('2014',51.66),('2015',54.99),('2016',54.99),('2017',59.99),('2018',59.99),('2019',54.99),(('2020',59.99))]"
   ]
  },
  {
   "cell_type": "markdown",
   "metadata": {},
   "source": [
    "## Step 2: Convert the list of tuples into pd.DataFrame"
   ]
  },
  {
   "cell_type": "code",
   "execution_count": 25,
   "metadata": {},
   "outputs": [
    {
     "name": "stdout",
     "output_type": "stream",
     "text": [
      "<class 'pandas.core.frame.DataFrame'>\n",
      "RangeIndex: 20 entries, 0 to 19\n",
      "Data columns (total 2 columns):\n",
      "year     20 non-null object\n",
      "price    20 non-null float64\n",
      "dtypes: float64(1), object(1)\n",
      "memory usage: 400.0+ bytes\n"
     ]
    }
   ],
   "source": [
    "ppvAvgPrice_df = pd.DataFrame(ppvAvgPrice, columns = ['year', 'price'])\n",
    "ppvAvgPrice_df.info()"
   ]
  },
  {
   "cell_type": "markdown",
   "metadata": {},
   "source": [
    "# Loading the project's first part Dataset "
   ]
  },
  {
   "cell_type": "code",
   "execution_count": 26,
   "metadata": {},
   "outputs": [
    {
     "data": {
      "text/html": [
       "<div>\n",
       "<style scoped>\n",
       "    .dataframe tbody tr th:only-of-type {\n",
       "        vertical-align: middle;\n",
       "    }\n",
       "\n",
       "    .dataframe tbody tr th {\n",
       "        vertical-align: top;\n",
       "    }\n",
       "\n",
       "    .dataframe thead th {\n",
       "        text-align: right;\n",
       "    }\n",
       "</style>\n",
       "<table border=\"1\" class=\"dataframe\">\n",
       "  <thead>\n",
       "    <tr style=\"text-align: right;\">\n",
       "      <th></th>\n",
       "      <th>R_fighter</th>\n",
       "      <th>B_fighter</th>\n",
       "      <th>Referee</th>\n",
       "      <th>date</th>\n",
       "      <th>location</th>\n",
       "      <th>Winner</th>\n",
       "      <th>title_bout</th>\n",
       "      <th>weight_class</th>\n",
       "      <th>no_of_rounds</th>\n",
       "      <th>B_current_lose_streak</th>\n",
       "      <th>...</th>\n",
       "      <th>R_win_by_KO/TKO</th>\n",
       "      <th>R_win_by_Submission</th>\n",
       "      <th>R_win_by_TKO_Doctor_Stoppage</th>\n",
       "      <th>R_wins</th>\n",
       "      <th>R_Stance</th>\n",
       "      <th>R_Height_cms</th>\n",
       "      <th>R_Reach_cms</th>\n",
       "      <th>R_Weight_lbs</th>\n",
       "      <th>B_age</th>\n",
       "      <th>R_age</th>\n",
       "    </tr>\n",
       "  </thead>\n",
       "  <tbody>\n",
       "    <tr>\n",
       "      <th>0</th>\n",
       "      <td>Henry Cejudo</td>\n",
       "      <td>Marlon Moraes</td>\n",
       "      <td>Marc Goddard</td>\n",
       "      <td>2019-06-08</td>\n",
       "      <td>Chicago, Illinois, USA</td>\n",
       "      <td>Red</td>\n",
       "      <td>True</td>\n",
       "      <td>Bantamweight</td>\n",
       "      <td>5</td>\n",
       "      <td>0.0</td>\n",
       "      <td>...</td>\n",
       "      <td>2.0</td>\n",
       "      <td>0.0</td>\n",
       "      <td>0.0</td>\n",
       "      <td>8.0</td>\n",
       "      <td>Orthodox</td>\n",
       "      <td>162.56</td>\n",
       "      <td>162.56</td>\n",
       "      <td>135.0</td>\n",
       "      <td>31.0</td>\n",
       "      <td>32.0</td>\n",
       "    </tr>\n",
       "    <tr>\n",
       "      <th>1</th>\n",
       "      <td>Valentina Shevchenko</td>\n",
       "      <td>Jessica Eye</td>\n",
       "      <td>Robert Madrigal</td>\n",
       "      <td>2019-06-08</td>\n",
       "      <td>Chicago, Illinois, USA</td>\n",
       "      <td>Red</td>\n",
       "      <td>True</td>\n",
       "      <td>Women's Flyweight</td>\n",
       "      <td>5</td>\n",
       "      <td>0.0</td>\n",
       "      <td>...</td>\n",
       "      <td>0.0</td>\n",
       "      <td>2.0</td>\n",
       "      <td>0.0</td>\n",
       "      <td>5.0</td>\n",
       "      <td>Southpaw</td>\n",
       "      <td>165.10</td>\n",
       "      <td>167.64</td>\n",
       "      <td>125.0</td>\n",
       "      <td>32.0</td>\n",
       "      <td>31.0</td>\n",
       "    </tr>\n",
       "    <tr>\n",
       "      <th>2</th>\n",
       "      <td>Tony Ferguson</td>\n",
       "      <td>Donald Cerrone</td>\n",
       "      <td>Dan Miragliotta</td>\n",
       "      <td>2019-06-08</td>\n",
       "      <td>Chicago, Illinois, USA</td>\n",
       "      <td>Red</td>\n",
       "      <td>False</td>\n",
       "      <td>Lightweight</td>\n",
       "      <td>3</td>\n",
       "      <td>0.0</td>\n",
       "      <td>...</td>\n",
       "      <td>3.0</td>\n",
       "      <td>6.0</td>\n",
       "      <td>1.0</td>\n",
       "      <td>14.0</td>\n",
       "      <td>Orthodox</td>\n",
       "      <td>180.34</td>\n",
       "      <td>193.04</td>\n",
       "      <td>155.0</td>\n",
       "      <td>36.0</td>\n",
       "      <td>35.0</td>\n",
       "    </tr>\n",
       "    <tr>\n",
       "      <th>3</th>\n",
       "      <td>Jimmie Rivera</td>\n",
       "      <td>Petr Yan</td>\n",
       "      <td>Kevin MacDonald</td>\n",
       "      <td>2019-06-08</td>\n",
       "      <td>Chicago, Illinois, USA</td>\n",
       "      <td>Blue</td>\n",
       "      <td>False</td>\n",
       "      <td>Bantamweight</td>\n",
       "      <td>3</td>\n",
       "      <td>0.0</td>\n",
       "      <td>...</td>\n",
       "      <td>1.0</td>\n",
       "      <td>0.0</td>\n",
       "      <td>0.0</td>\n",
       "      <td>6.0</td>\n",
       "      <td>Orthodox</td>\n",
       "      <td>162.56</td>\n",
       "      <td>172.72</td>\n",
       "      <td>135.0</td>\n",
       "      <td>26.0</td>\n",
       "      <td>29.0</td>\n",
       "    </tr>\n",
       "    <tr>\n",
       "      <th>4</th>\n",
       "      <td>Tai Tuivasa</td>\n",
       "      <td>Blagoy Ivanov</td>\n",
       "      <td>Dan Miragliotta</td>\n",
       "      <td>2019-06-08</td>\n",
       "      <td>Chicago, Illinois, USA</td>\n",
       "      <td>Blue</td>\n",
       "      <td>False</td>\n",
       "      <td>Heavyweight</td>\n",
       "      <td>3</td>\n",
       "      <td>0.0</td>\n",
       "      <td>...</td>\n",
       "      <td>2.0</td>\n",
       "      <td>0.0</td>\n",
       "      <td>0.0</td>\n",
       "      <td>3.0</td>\n",
       "      <td>Southpaw</td>\n",
       "      <td>187.96</td>\n",
       "      <td>190.50</td>\n",
       "      <td>264.0</td>\n",
       "      <td>32.0</td>\n",
       "      <td>26.0</td>\n",
       "    </tr>\n",
       "  </tbody>\n",
       "</table>\n",
       "<p>5 rows × 145 columns</p>\n",
       "</div>"
      ],
      "text/plain": [
       "              R_fighter       B_fighter          Referee        date  \\\n",
       "0          Henry Cejudo   Marlon Moraes     Marc Goddard  2019-06-08   \n",
       "1  Valentina Shevchenko     Jessica Eye  Robert Madrigal  2019-06-08   \n",
       "2         Tony Ferguson  Donald Cerrone  Dan Miragliotta  2019-06-08   \n",
       "3         Jimmie Rivera        Petr Yan  Kevin MacDonald  2019-06-08   \n",
       "4           Tai Tuivasa   Blagoy Ivanov  Dan Miragliotta  2019-06-08   \n",
       "\n",
       "                 location Winner  title_bout       weight_class  no_of_rounds  \\\n",
       "0  Chicago, Illinois, USA    Red        True       Bantamweight             5   \n",
       "1  Chicago, Illinois, USA    Red        True  Women's Flyweight             5   \n",
       "2  Chicago, Illinois, USA    Red       False        Lightweight             3   \n",
       "3  Chicago, Illinois, USA   Blue       False       Bantamweight             3   \n",
       "4  Chicago, Illinois, USA   Blue       False        Heavyweight             3   \n",
       "\n",
       "   B_current_lose_streak  ...  R_win_by_KO/TKO  R_win_by_Submission  \\\n",
       "0                    0.0  ...              2.0                  0.0   \n",
       "1                    0.0  ...              0.0                  2.0   \n",
       "2                    0.0  ...              3.0                  6.0   \n",
       "3                    0.0  ...              1.0                  0.0   \n",
       "4                    0.0  ...              2.0                  0.0   \n",
       "\n",
       "   R_win_by_TKO_Doctor_Stoppage  R_wins  R_Stance  R_Height_cms  R_Reach_cms  \\\n",
       "0                           0.0     8.0  Orthodox        162.56       162.56   \n",
       "1                           0.0     5.0  Southpaw        165.10       167.64   \n",
       "2                           1.0    14.0  Orthodox        180.34       193.04   \n",
       "3                           0.0     6.0  Orthodox        162.56       172.72   \n",
       "4                           0.0     3.0  Southpaw        187.96       190.50   \n",
       "\n",
       "   R_Weight_lbs  B_age  R_age  \n",
       "0         135.0   31.0   32.0  \n",
       "1         125.0   32.0   31.0  \n",
       "2         155.0   36.0   35.0  \n",
       "3         135.0   26.0   29.0  \n",
       "4         264.0   32.0   26.0  \n",
       "\n",
       "[5 rows x 145 columns]"
      ]
     },
     "execution_count": 26,
     "metadata": {},
     "output_type": "execute_result"
    }
   ],
   "source": [
    "UFC_df = pd.read_csv('./data.csv')\n",
    "UFC_df.head()"
   ]
  },
  {
   "cell_type": "markdown",
   "metadata": {},
   "source": [
    "# Exploratory Data Analysis Part 2:"
   ]
  },
  {
   "cell_type": "markdown",
   "metadata": {},
   "source": [
    "## 1. UFC Events Popularity Revenue by the Different Weight Classes"
   ]
  },
  {
   "cell_type": "code",
   "execution_count": 27,
   "metadata": {},
   "outputs": [
    {
     "name": "stdout",
     "output_type": "stream",
     "text": [
      "<class 'pandas.core.frame.DataFrame'>\n",
      "Int64Index: 4570 entries, 0 to 4569\n",
      "Data columns (total 7 columns):\n",
      "date               4570 non-null object\n",
      "weight_class       4570 non-null object\n",
      "title_bout         4570 non-null bool\n",
      "attendance         4296 non-null float64\n",
      "tickets_revenue    3594 non-null float64\n",
      "ppv_buys           1878 non-null float64\n",
      "tv_ratings_avg     2855 non-null float64\n",
      "dtypes: bool(1), float64(4), object(2)\n",
      "memory usage: 254.4+ KB\n"
     ]
    }
   ],
   "source": [
    "## Based on UFC_df - Events details (R_Fighter, B_Fighter, Title_bout ect..)\n",
    "\n",
    "weight_Classes = ['Flyweight','Featherweight','Bantamweight','Lightweight','Welterweight','Middleweight','Light Heavyweight','Heavyweight']\n",
    "\n",
    "# Droping irrelevant columns\n",
    "cols2Drop = list(UFC_df.columns.values)\n",
    "cols2Include = ['date','title_bout','weight_class']\n",
    "\n",
    "for col in cols2Include:\n",
    "    cols2Drop.remove(col)\n",
    "\n",
    "# Assigning targeted data using loc to new Athlete dedicated DF - From Red Corner Matches\n",
    "eventsByWeightClasses = UFC_df.drop(columns = cols2Drop)\n",
    "\n",
    "# Including only relevant weight classes\n",
    "eventsByWeightClasses = eventsByWeightClasses[eventsByWeightClasses.weight_class.isin(weight_Classes)]\n",
    "\n",
    "\n",
    "\n",
    "## Merging it with the new scraped data - Event's Statistics (Ticket's Revenu, PPV buys ect..)\n",
    "\n",
    "# Merge the 2 dfs\n",
    "eventsRevenueByWeightClasses_df = pd.merge(eventsByWeightClasses, UFC_EventsRevenue_df, on='date')\n",
    "\n",
    "# Sort rows by date\n",
    "eventsRevenueByWeightClasses_df = eventsRevenueByWeightClasses_df.sort_values(by='date',ascending=False)\n",
    "\n",
    "# Rearrange columns order\n",
    "eventsRevenueByWeightClasses_df = eventsRevenueByWeightClasses_df[['date','weight_class','title_bout','attendance','tickets_revenue','ppv_buys','tv_ratings_avg']]\n",
    "\n",
    "eventsRevenueByWeightClasses_df.info()"
   ]
  },
  {
   "cell_type": "code",
   "execution_count": 28,
   "metadata": {},
   "outputs": [
    {
     "name": "stdout",
     "output_type": "stream",
     "text": [
      "<class 'pandas.core.frame.DataFrame'>\n",
      "Int64Index: 4570 entries, 0 to 4569\n",
      "Data columns (total 7 columns):\n",
      "date               4570 non-null object\n",
      "weight_class       4570 non-null object\n",
      "title_bout         4570 non-null bool\n",
      "attendance         4570 non-null float64\n",
      "tickets_revenue    4570 non-null float64\n",
      "ppv_buys           4570 non-null float64\n",
      "tv_ratings_avg     4570 non-null float64\n",
      "dtypes: bool(1), float64(4), object(2)\n",
      "memory usage: 254.4+ KB\n"
     ]
    }
   ],
   "source": [
    "eventsRevenueByWeightClasses_df['ppv_buys'].fillna((eventsRevenueByWeightClasses_df['ppv_buys'].mean()), inplace=True)\n",
    "eventsRevenueByWeightClasses_df['tickets_revenue'].fillna((eventsRevenueByWeightClasses_df['tickets_revenue'].mean()), inplace=True)\n",
    "eventsRevenueByWeightClasses_df['attendance'].fillna((eventsRevenueByWeightClasses_df['attendance'].mean()), inplace=True)\n",
    "eventsRevenueByWeightClasses_df['tv_ratings_avg'].fillna((eventsRevenueByWeightClasses_df['tv_ratings_avg'].mean()), inplace=True)\n",
    "\n",
    "eventsRevenueByWeightClasses_df.info()"
   ]
  },
  {
   "cell_type": "code",
   "execution_count": 29,
   "metadata": {
    "scrolled": true
   },
   "outputs": [
    {
     "data": {
      "text/html": [
       "<div>\n",
       "<style scoped>\n",
       "    .dataframe tbody tr th:only-of-type {\n",
       "        vertical-align: middle;\n",
       "    }\n",
       "\n",
       "    .dataframe tbody tr th {\n",
       "        vertical-align: top;\n",
       "    }\n",
       "\n",
       "    .dataframe thead th {\n",
       "        text-align: right;\n",
       "    }\n",
       "</style>\n",
       "<table border=\"1\" class=\"dataframe\">\n",
       "  <thead>\n",
       "    <tr style=\"text-align: right;\">\n",
       "      <th></th>\n",
       "      <th>date</th>\n",
       "      <th>weight_class</th>\n",
       "      <th>title_bout</th>\n",
       "      <th>attendance</th>\n",
       "      <th>tickets_revenue</th>\n",
       "      <th>ppv_buys</th>\n",
       "      <th>tv_ratings_avg</th>\n",
       "    </tr>\n",
       "  </thead>\n",
       "  <tbody>\n",
       "    <tr>\n",
       "      <th>0</th>\n",
       "      <td>2019-06-08</td>\n",
       "      <td>Bantamweight</td>\n",
       "      <td>True</td>\n",
       "      <td>16083.0</td>\n",
       "      <td>2034387.0</td>\n",
       "      <td>455152.822151</td>\n",
       "      <td>946000.0</td>\n",
       "    </tr>\n",
       "    <tr>\n",
       "      <th>5</th>\n",
       "      <td>2019-06-08</td>\n",
       "      <td>Featherweight</td>\n",
       "      <td>False</td>\n",
       "      <td>16083.0</td>\n",
       "      <td>2034387.0</td>\n",
       "      <td>455152.822151</td>\n",
       "      <td>946000.0</td>\n",
       "    </tr>\n",
       "    <tr>\n",
       "      <th>7</th>\n",
       "      <td>2019-06-08</td>\n",
       "      <td>Bantamweight</td>\n",
       "      <td>False</td>\n",
       "      <td>16083.0</td>\n",
       "      <td>2034387.0</td>\n",
       "      <td>455152.822151</td>\n",
       "      <td>946000.0</td>\n",
       "    </tr>\n",
       "    <tr>\n",
       "      <th>6</th>\n",
       "      <td>2019-06-08</td>\n",
       "      <td>Middleweight</td>\n",
       "      <td>False</td>\n",
       "      <td>16083.0</td>\n",
       "      <td>2034387.0</td>\n",
       "      <td>455152.822151</td>\n",
       "      <td>946000.0</td>\n",
       "    </tr>\n",
       "    <tr>\n",
       "      <th>1</th>\n",
       "      <td>2019-06-08</td>\n",
       "      <td>Lightweight</td>\n",
       "      <td>False</td>\n",
       "      <td>16083.0</td>\n",
       "      <td>2034387.0</td>\n",
       "      <td>455152.822151</td>\n",
       "      <td>946000.0</td>\n",
       "    </tr>\n",
       "  </tbody>\n",
       "</table>\n",
       "</div>"
      ],
      "text/plain": [
       "         date   weight_class  title_bout  attendance  tickets_revenue  \\\n",
       "0  2019-06-08   Bantamweight        True     16083.0        2034387.0   \n",
       "5  2019-06-08  Featherweight       False     16083.0        2034387.0   \n",
       "7  2019-06-08   Bantamweight       False     16083.0        2034387.0   \n",
       "6  2019-06-08   Middleweight       False     16083.0        2034387.0   \n",
       "1  2019-06-08    Lightweight       False     16083.0        2034387.0   \n",
       "\n",
       "        ppv_buys  tv_ratings_avg  \n",
       "0  455152.822151        946000.0  \n",
       "5  455152.822151        946000.0  \n",
       "7  455152.822151        946000.0  \n",
       "6  455152.822151        946000.0  \n",
       "1  455152.822151        946000.0  "
      ]
     },
     "execution_count": 29,
     "metadata": {},
     "output_type": "execute_result"
    }
   ],
   "source": [
    "eventsRevenueByWeightClasses_df.head()"
   ]
  },
  {
   "cell_type": "code",
   "execution_count": 30,
   "metadata": {},
   "outputs": [],
   "source": [
    "# This df creation is outside the function, so we can reuse it later on\n",
    "eventsByWeightClasses_TBs = eventsRevenueByWeightClasses_df.loc[eventsRevenueByWeightClasses_df['title_bout'] == True]\n",
    "\n",
    "def createRevenueGraphByWeightClass(col2Plot, titleBout_Flag):\n",
    "    fig, ax = plt.subplots(figsize=(8,4))\n",
    "\n",
    "    # Creating Count plot, defining specific order\n",
    "    if titleBout_Flag == True:\n",
    "        \n",
    "        if col2Plot == 'tickets_revenue':\n",
    "            avgRevenueBy_WC = sns.barplot(y=\"weight_class\", x=col2Plot, data=eventsByWeightClasses_TBs, estimator=mean, order=weight_Classes, palette=\"rocket\")\n",
    "            plt.title(\"Tickets Revenue by Weight Class\")\n",
    "            plt.xlabel(\"Num of Tickets Revenue\")\n",
    "\n",
    "        if col2Plot == 'ppv_buys':\n",
    "            avgRevenueBy_WC = sns.barplot(y=\"weight_class\", x=col2Plot, data=eventsByWeightClasses_TBs, estimator=mean, order=weight_Classes, palette=\"Blues\")\n",
    "            plt.title(\"PPV Buys by Weight Class\")\n",
    "            plt.xlabel(\"Num of PPV Buys\")\n",
    "\n",
    "        if col2Plot == 'tv_ratings_avg':\n",
    "            avgRevenueBy_WC = sns.barplot(y=\"weight_class\", x=col2Plot, data=eventsByWeightClasses_TBs, estimator=mean, order=weight_Classes, palette=\"Oranges\")\n",
    "            plt.title(\"TV Ratings by Weight Class\")\n",
    "            plt.xlabel(\"Num of TV Ratings Average\")\n",
    "            \n",
    "    elif titleBout_Flag == False:\n",
    "\n",
    "        if col2Plot == 'tickets_revenue':\n",
    "            avgRevenueBy_WC = sns.barplot(y=\"weight_class\", x=col2Plot, data=eventsRevenueByWeightClasses_df, estimator=mean, order=weight_Classes, palette=\"rocket\")\n",
    "            plt.title(\"Tickets Revenue by Weight Class\")\n",
    "            plt.xlabel(\"Num of Tickets Revenue\")\n",
    "\n",
    "        if col2Plot == 'ppv_buys':\n",
    "            avgRevenueBy_WC = sns.barplot(y=\"weight_class\", x=col2Plot, data=eventsRevenueByWeightClasses_df, estimator=mean, order=weight_Classes, palette=\"Blues\")\n",
    "            plt.title(\"PPV Buys by Weight Class\")\n",
    "            plt.xlabel(\"Num of PPV Buys\")\n",
    "\n",
    "        if col2Plot == 'tv_ratings_avg':\n",
    "            avgRevenueBy_WC = sns.barplot(y=\"weight_class\", x=col2Plot, data=eventsRevenueByWeightClasses_df, estimator=mean, order=weight_Classes, palette=\"Oranges\")\n",
    "            plt.title(\"TV Ratings by Weight Class\")\n",
    "        plt.xlabel(\"Num of TV Ratings Average\")\n",
    "\n",
    "    plt.ylabel(\"Weight Class\")\n",
    "    plt.tight_layout()\n",
    "    avgRevenueBy_WC"
   ]
  },
  {
   "cell_type": "markdown",
   "metadata": {},
   "source": [
    "Using the the function let's first create the graph for **all types of UFC Matches**"
   ]
  },
  {
   "cell_type": "code",
   "execution_count": 31,
   "metadata": {},
   "outputs": [
    {
     "data": {
      "image/png": "[encoded data removed]",
      "text/plain": [
       "<Figure size 576x288 with 1 Axes>"
      ]
     },
     "metadata": {
      "needs_background": "light"
     },
     "output_type": "display_data"
    },
    {
     "data": {
      "image/png": "[encoded data removed]",
      "text/plain": [
       "<Figure size 576x288 with 1 Axes>"
      ]
     },
     "metadata": {
      "needs_background": "light"
     },
     "output_type": "display_data"
    },
    {
     "data": {
      "image/png": "[encoded data removed]",
      "text/plain": [
       "<Figure size 576x288 with 1 Axes>"
      ]
     },
     "metadata": {
      "needs_background": "light"
     },
     "output_type": "display_data"
    }
   ],
   "source": [
    "createRevenueGraphByWeightClass('tickets_revenue', False)\n",
    "createRevenueGraphByWeightClass('ppv_buys', False)\n",
    "createRevenueGraphByWeightClass('tv_ratings_avg', False)"
   ]
  },
  {
   "cell_type": "markdown",
   "metadata": {},
   "source": [
    "### We can observe an overall trend, although not by much, of higher Popularity and Revenue scores for Heavier Weight Classes\n",
    "Now let's create the graphs for **Title Bout Matches only**"
   ]
  },
  {
   "cell_type": "code",
   "execution_count": 32,
   "metadata": {},
   "outputs": [
    {
     "data": {
      "image/png": "[encoded data removed]",
      "text/plain": [
       "<Figure size 576x288 with 1 Axes>"
      ]
     },
     "metadata": {
      "needs_background": "light"
     },
     "output_type": "display_data"
    },
    {
     "data": {
      "image/png": "[encoded data removed]",
      "text/plain": [
       "<Figure size 576x288 with 1 Axes>"
      ]
     },
     "metadata": {
      "needs_background": "light"
     },
     "output_type": "display_data"
    },
    {
     "data": {
      "image/png": "[encoded data removed]",
      "text/plain": [
       "<Figure size 576x288 with 1 Axes>"
      ]
     },
     "metadata": {
      "needs_background": "light"
     },
     "output_type": "display_data"
    }
   ],
   "source": [
    "createRevenueGraphByWeightClass('tickets_revenue', True)\n",
    "createRevenueGraphByWeightClass('ppv_buys', True)\n",
    "createRevenueGraphByWeightClass('tv_ratings_avg', True)"
   ]
  },
  {
   "cell_type": "markdown",
   "metadata": {},
   "source": [
    "## At Title Bout Matches some of the results may seem ambiguous, let's break it down:\n",
    "## A. Tickets Revenue:\n",
    ">Featherweight got the highest score, which is somewhat counter intuitive and explaning this will ןnvolve some speculations which I'm not sure if I'll be able to proove. <br>\n",
    "\n",
    "**So let's generalize the Weight Classes to 2 halfs, lighter and heavier parts, and check to see which part got a greater score as a whole:**"
   ]
  },
  {
   "cell_type": "code",
   "execution_count": 33,
   "metadata": {},
   "outputs": [],
   "source": [
    "def getTotalRateByWeightClassesGeneralized(df, rate):\n",
    "    wc_lighterHalf = ['Flyweight','Featherweight','Bantamweight','Lightweight']\n",
    "    wc_heavierHalf = ['Welterweight','Middleweight','Light Heavyweight','Heavyweight']\n",
    "\n",
    "    wc_lighterHalf_totalTR = 0\n",
    "    wc_heavierHalf_totalTR = 0\n",
    "\n",
    "    for lightClass, heavyClass in zip(wc_lighterHalf, wc_heavierHalf):\n",
    "\n",
    "        buff_df = df.loc[df.weight_class == lightClass]\n",
    "        wc_lighterHalf_totalTR += buff_df[rate].sum()\n",
    "\n",
    "        buff_df = df.loc[df.weight_class == heavyClass]\n",
    "        wc_heavierHalf_totalTR += buff_df[rate].sum()\n",
    "\n",
    "    print('Lighter Weight Classes total ',   rate, ': ', round(wc_lighterHalf_totalTR))\n",
    "    print('Heavier Weight Classes total ',   rate, ': ', round(wc_heavierHalf_totalTR))"
   ]
  },
  {
   "cell_type": "code",
   "execution_count": 34,
   "metadata": {},
   "outputs": [
    {
     "name": "stdout",
     "output_type": "stream",
     "text": [
      "Lighter Weight Classes total  tickets_revenue :  225114554.0\n",
      "Heavier Weight Classes total  tickets_revenue :  444374148.0\n"
     ]
    }
   ],
   "source": [
    "getTotalRateByWeightClassesGeneralized(eventsByWeightClasses_TBs, 'tickets_revenue')"
   ]
  },
  {
   "cell_type": "markdown",
   "metadata": {},
   "source": [
    "## B.PPV Buys:"
   ]
  },
  {
   "cell_type": "code",
   "execution_count": 35,
   "metadata": {},
   "outputs": [
    {
     "name": "stdout",
     "output_type": "stream",
     "text": [
      "Lighter Weight Classes total  ppv_buys :  40209196.0\n",
      "Heavier Weight Classes total  ppv_buys :  78664877.0\n"
     ]
    }
   ],
   "source": [
    "getTotalRateByWeightClassesGeneralized(eventsByWeightClasses_TBs, 'ppv_buys')"
   ]
  },
  {
   "cell_type": "markdown",
   "metadata": {},
   "source": [
    "## C.TV Ratings:"
   ]
  },
  {
   "cell_type": "code",
   "execution_count": 36,
   "metadata": {},
   "outputs": [
    {
     "name": "stdout",
     "output_type": "stream",
     "text": [
      "Lighter Weight Classes total  tv_ratings_avg :  126295527.0\n",
      "Heavier Weight Classes total  tv_ratings_avg :  316581922.0\n"
     ]
    }
   ],
   "source": [
    "getTotalRateByWeightClassesGeneralized(eventsByWeightClasses_TBs, 'tv_ratings_avg')"
   ]
  },
  {
   "cell_type": "markdown",
   "metadata": {},
   "source": [
    "## Now it's clear that the trend of higher Popularity and Revenue rates to Heavier Weight Classes remains also in Title Bout Matches."
   ]
  },
  {
   "cell_type": "markdown",
   "metadata": {},
   "source": [
    "# 2. UFC's Revenues from tickets,  PPV buys and TV Ratings, through the career of the 3 of it's most remarkable Champions -  through different Weight Classes:\n",
    "\n",
    "**1. Georges St-Pierre** - *Welterweight*\n",
    "> - 1st place in Most wins in UFC (as was shown in graph earlier in the project)<br>\n",
    "\n",
    "**2. Anderson Silva** - *Middleweight* \n",
    "> - which was introduced already - 3rd place in Most wins<br>\n",
    "- Also fought at Lightheavyweight but not as a champion or a contendor\n",
    "\n",
    "**3. Jon Jones** - *Lightheavyweight*\n",
    "> - 4rd place in Most wins<br>"
   ]
  },
  {
   "cell_type": "markdown",
   "metadata": {},
   "source": [
    "![the3Champions](https://researchinmma.files.wordpress.com/2017/12/jonesgspsilva.jpg)\n",
    "\n",
    "                    Jon Jones to the left, Silva at the center and George St-Pierre to the right"
   ]
  },
  {
   "cell_type": "markdown",
   "metadata": {},
   "source": [
    "## Let's Create a function that will create for a given Athlete an Event Statistics DataFrame:\n",
    "\n",
    "1. We'll create a new DataFrame that's based on the UFC_df, gathering from there all the Athlete's matches as <br>\n",
    "Red or Blue corner, the events details such as location and if the match was a title bout, all other irrelevant data will be excluded. <br>\n",
    "\n",
    "2. We'll Merge it with the new scraped data of UFC Events Statistics"
   ]
  },
  {
   "cell_type": "code",
   "execution_count": 37,
   "metadata": {},
   "outputs": [],
   "source": [
    "def createAthletesEventsStats_DF(athletesName, UFC_DF, UFC_Events_Revenue_DF):\n",
    "    \n",
    "    ## Based on project first part Dataset - UFC_df - Events details (R_Fighter, B_Fighter, Title_bout ect..)\n",
    "    \n",
    "    # Data 2 be excluded\n",
    "    cols2Drop = list(UFC_df.columns.values)\n",
    "    cols2Include = ['R_fighter', 'B_fighter', 'date', 'title_bout','weight_class']\n",
    "    \n",
    "    for col in cols2Include:\n",
    "        cols2Drop.remove(col)\n",
    "\n",
    "    # Assigning targeted data using loc to new Athlete dedicated DF - From Red Corner Matches\n",
    "    athlete_R = UFC_df.loc[UFC_df['R_fighter'] == athletesName]\n",
    "\n",
    "    # Droping all Red Corners irrelevant Data\n",
    "    athlete_R = athlete_R.drop(columns = cols2Drop)\n",
    "\n",
    "    # Again, now from Blue Corner Matches\n",
    "    athlete_B = UFC_df.loc[UFC_df['B_fighter'] == athletesName]\n",
    "\n",
    "    # Droping all Blue Corners irrelevant Data \n",
    "    athlete_B = athlete_B.drop(columns = cols2Drop)\n",
    "\n",
    "    # Concat the two dfs into one \n",
    "    athletesDF = pd.concat([athlete_R, athlete_B], sort=False)\n",
    "\n",
    "    \n",
    "    \n",
    "    ## Merging it with the new scraped data - Event's Statistics (Ticket's Revenu, PPV buys ect..)\n",
    "\n",
    "    \n",
    "    # Merge the 2 dfs\n",
    "    athletes_eventsStats = pd.merge(athletesDF, UFC_Events_Revenue_DF, on='date')\n",
    "\n",
    "    # Sort rows by date\n",
    "    athletes_eventsStats = athletes_eventsStats.sort_values(by='date',ascending=False)\n",
    "\n",
    "    # Rearrange columns order\n",
    "    athletes_eventsStats = athletes_eventsStats[['date','R_fighter','B_fighter', 'weight_class','title_bout', 'attendance','tickets_revenue','ppv_buys','tv_ratings_avg']]\n",
    "\n",
    "    return athletes_eventsStats"
   ]
  },
  {
   "cell_type": "code",
   "execution_count": 38,
   "metadata": {},
   "outputs": [
    {
     "name": "stdout",
     "output_type": "stream",
     "text": [
      "<class 'pandas.core.frame.DataFrame'>\n",
      "Int64Index: 24 entries, 20 to 19\n",
      "Data columns (total 9 columns):\n",
      "date               24 non-null object\n",
      "R_fighter          24 non-null object\n",
      "B_fighter          24 non-null object\n",
      "weight_class       24 non-null object\n",
      "title_bout         24 non-null bool\n",
      "attendance         23 non-null float64\n",
      "tickets_revenue    22 non-null float64\n",
      "ppv_buys           20 non-null float64\n",
      "tv_ratings_avg     8 non-null float64\n",
      "dtypes: bool(1), float64(4), object(4)\n",
      "memory usage: 1.7+ KB\n"
     ]
    }
   ],
   "source": [
    "# Create the scraped data DataFrame using the function\n",
    "andersonSilva_eventsStats_df = createAthletesEventsStats_DF('Anderson Silva', UFC_df, UFC_EventsRevenue_df)\n",
    "\n",
    "andersonSilva_eventsStats_df.info()"
   ]
  },
  {
   "cell_type": "markdown",
   "metadata": {},
   "source": [
    "Since Attendance, Ticket Revenue and PPV buys data is mostly there, We will **fill the NaN values with the column's mean**. <br>\n",
    "As for TV Ratings, since it missing for the most part, We will leave that aside."
   ]
  },
  {
   "cell_type": "code",
   "execution_count": 39,
   "metadata": {},
   "outputs": [
    {
     "name": "stdout",
     "output_type": "stream",
     "text": [
      "<class 'pandas.core.frame.DataFrame'>\n",
      "Int64Index: 24 entries, 20 to 19\n",
      "Data columns (total 9 columns):\n",
      "date               24 non-null object\n",
      "R_fighter          24 non-null object\n",
      "B_fighter          24 non-null object\n",
      "weight_class       24 non-null object\n",
      "title_bout         24 non-null bool\n",
      "attendance         24 non-null float64\n",
      "tickets_revenue    24 non-null float64\n",
      "ppv_buys           24 non-null float64\n",
      "tv_ratings_avg     8 non-null float64\n",
      "dtypes: bool(1), float64(4), object(4)\n",
      "memory usage: 1.7+ KB\n"
     ]
    }
   ],
   "source": [
    "# Filling the below columns NaN values with it's mean\n",
    "andersonSilva_eventsStats_df['tickets_revenue'].fillna((andersonSilva_eventsStats_df['tickets_revenue'].mean()), inplace=True)\n",
    "andersonSilva_eventsStats_df['ppv_buys'].fillna((andersonSilva_eventsStats_df['ppv_buys'].mean()), inplace=True)\n",
    "andersonSilva_eventsStats_df['attendance'].fillna((andersonSilva_eventsStats_df['attendance'].mean()), inplace=True)\n",
    "\n",
    "andersonSilva_eventsStats_df.info()"
   ]
  },
  {
   "cell_type": "code",
   "execution_count": 40,
   "metadata": {},
   "outputs": [
    {
     "data": {
      "text/html": [
       "<div>\n",
       "<style scoped>\n",
       "    .dataframe tbody tr th:only-of-type {\n",
       "        vertical-align: middle;\n",
       "    }\n",
       "\n",
       "    .dataframe tbody tr th {\n",
       "        vertical-align: top;\n",
       "    }\n",
       "\n",
       "    .dataframe thead th {\n",
       "        text-align: right;\n",
       "    }\n",
       "</style>\n",
       "<table border=\"1\" class=\"dataframe\">\n",
       "  <thead>\n",
       "    <tr style=\"text-align: right;\">\n",
       "      <th></th>\n",
       "      <th>date</th>\n",
       "      <th>R_fighter</th>\n",
       "      <th>B_fighter</th>\n",
       "      <th>weight_class</th>\n",
       "      <th>title_bout</th>\n",
       "      <th>attendance</th>\n",
       "      <th>tickets_revenue</th>\n",
       "      <th>ppv_buys</th>\n",
       "      <th>tv_ratings_avg</th>\n",
       "    </tr>\n",
       "  </thead>\n",
       "  <tbody>\n",
       "    <tr>\n",
       "      <th>20</th>\n",
       "      <td>2019-05-11</td>\n",
       "      <td>Jared Cannonier</td>\n",
       "      <td>Anderson Silva</td>\n",
       "      <td>Middleweight</td>\n",
       "      <td>False</td>\n",
       "      <td>15193.0</td>\n",
       "      <td>3357602.5</td>\n",
       "      <td>532200.0</td>\n",
       "      <td>813000.0</td>\n",
       "    </tr>\n",
       "    <tr>\n",
       "      <th>21</th>\n",
       "      <td>2019-02-09</td>\n",
       "      <td>Israel Adesanya</td>\n",
       "      <td>Anderson Silva</td>\n",
       "      <td>Middleweight</td>\n",
       "      <td>False</td>\n",
       "      <td>15238.0</td>\n",
       "      <td>2470088.0</td>\n",
       "      <td>175000.0</td>\n",
       "      <td>1340000.0</td>\n",
       "    </tr>\n",
       "    <tr>\n",
       "      <th>0</th>\n",
       "      <td>2017-02-11</td>\n",
       "      <td>Anderson Silva</td>\n",
       "      <td>Derek Brunson</td>\n",
       "      <td>Middleweight</td>\n",
       "      <td>False</td>\n",
       "      <td>15628.0</td>\n",
       "      <td>2275105.0</td>\n",
       "      <td>200000.0</td>\n",
       "      <td>874000.0</td>\n",
       "    </tr>\n",
       "    <tr>\n",
       "      <th>22</th>\n",
       "      <td>2016-07-09</td>\n",
       "      <td>Daniel Cormier</td>\n",
       "      <td>Anderson Silva</td>\n",
       "      <td>Light Heavyweight</td>\n",
       "      <td>False</td>\n",
       "      <td>18202.0</td>\n",
       "      <td>10700000.0</td>\n",
       "      <td>1009000.0</td>\n",
       "      <td>1790000.0</td>\n",
       "    </tr>\n",
       "    <tr>\n",
       "      <th>1</th>\n",
       "      <td>2016-02-27</td>\n",
       "      <td>Anderson Silva</td>\n",
       "      <td>Michael Bisping</td>\n",
       "      <td>Middleweight</td>\n",
       "      <td>False</td>\n",
       "      <td>16734.0</td>\n",
       "      <td>2000000.0</td>\n",
       "      <td>532200.0</td>\n",
       "      <td>NaN</td>\n",
       "    </tr>\n",
       "  </tbody>\n",
       "</table>\n",
       "</div>"
      ],
      "text/plain": [
       "          date        R_fighter        B_fighter       weight_class  \\\n",
       "20  2019-05-11  Jared Cannonier   Anderson Silva       Middleweight   \n",
       "21  2019-02-09  Israel Adesanya   Anderson Silva       Middleweight   \n",
       "0   2017-02-11   Anderson Silva    Derek Brunson       Middleweight   \n",
       "22  2016-07-09   Daniel Cormier   Anderson Silva  Light Heavyweight   \n",
       "1   2016-02-27   Anderson Silva  Michael Bisping       Middleweight   \n",
       "\n",
       "    title_bout  attendance  tickets_revenue   ppv_buys  tv_ratings_avg  \n",
       "20       False     15193.0        3357602.5   532200.0        813000.0  \n",
       "21       False     15238.0        2470088.0   175000.0       1340000.0  \n",
       "0        False     15628.0        2275105.0   200000.0        874000.0  \n",
       "22       False     18202.0       10700000.0  1009000.0       1790000.0  \n",
       "1        False     16734.0        2000000.0   532200.0             NaN  "
      ]
     },
     "execution_count": 40,
     "metadata": {},
     "output_type": "execute_result"
    }
   ],
   "source": [
    "andersonSilva_eventsStats_df.head()"
   ]
  },
  {
   "cell_type": "code",
   "execution_count": 41,
   "metadata": {},
   "outputs": [
    {
     "name": "stdout",
     "output_type": "stream",
     "text": [
      "<class 'pandas.core.frame.DataFrame'>\n",
      "Int64Index: 20 entries, 0 to 15\n",
      "Data columns (total 9 columns):\n",
      "date               20 non-null object\n",
      "R_fighter          20 non-null object\n",
      "B_fighter          20 non-null object\n",
      "weight_class       20 non-null object\n",
      "title_bout         20 non-null bool\n",
      "attendance         19 non-null float64\n",
      "tickets_revenue    19 non-null float64\n",
      "ppv_buys           17 non-null float64\n",
      "tv_ratings_avg     10 non-null float64\n",
      "dtypes: bool(1), float64(4), object(4)\n",
      "memory usage: 1.4+ KB\n"
     ]
    }
   ],
   "source": [
    "jonJones_eventsStats_df = createAthletesEventsStats_DF('Jon Jones', UFC_df, UFC_EventsRevenue_df)\n",
    "\n",
    "jonJones_eventsStats_df.info()"
   ]
  },
  {
   "cell_type": "code",
   "execution_count": 42,
   "metadata": {},
   "outputs": [
    {
     "name": "stdout",
     "output_type": "stream",
     "text": [
      "<class 'pandas.core.frame.DataFrame'>\n",
      "Int64Index: 20 entries, 0 to 15\n",
      "Data columns (total 9 columns):\n",
      "date               20 non-null object\n",
      "R_fighter          20 non-null object\n",
      "B_fighter          20 non-null object\n",
      "weight_class       20 non-null object\n",
      "title_bout         20 non-null bool\n",
      "attendance         20 non-null float64\n",
      "tickets_revenue    20 non-null float64\n",
      "ppv_buys           20 non-null float64\n",
      "tv_ratings_avg     10 non-null float64\n",
      "dtypes: bool(1), float64(4), object(4)\n",
      "memory usage: 1.4+ KB\n"
     ]
    }
   ],
   "source": [
    "# Filling the below columns NaN values with it's mean\n",
    "jonJones_eventsStats_df['tickets_revenue'].fillna((jonJones_eventsStats_df['tickets_revenue'].mean()), inplace=True)\n",
    "jonJones_eventsStats_df['ppv_buys'].fillna((jonJones_eventsStats_df['ppv_buys'].mean()), inplace=True)\n",
    "jonJones_eventsStats_df['attendance'].fillna((jonJones_eventsStats_df['attendance'].mean()), inplace=True)\n",
    "\n",
    "# Making sure it's value's format stays none-scientific\n",
    "pd.options.display.float_format = '{:.0f}'.format\n",
    "\n",
    "jonJones_eventsStats_df.info()"
   ]
  },
  {
   "cell_type": "code",
   "execution_count": 43,
   "metadata": {},
   "outputs": [
    {
     "data": {
      "text/html": [
       "<div>\n",
       "<style scoped>\n",
       "    .dataframe tbody tr th:only-of-type {\n",
       "        vertical-align: middle;\n",
       "    }\n",
       "\n",
       "    .dataframe tbody tr th {\n",
       "        vertical-align: top;\n",
       "    }\n",
       "\n",
       "    .dataframe thead th {\n",
       "        text-align: right;\n",
       "    }\n",
       "</style>\n",
       "<table border=\"1\" class=\"dataframe\">\n",
       "  <thead>\n",
       "    <tr style=\"text-align: right;\">\n",
       "      <th></th>\n",
       "      <th>date</th>\n",
       "      <th>R_fighter</th>\n",
       "      <th>B_fighter</th>\n",
       "      <th>weight_class</th>\n",
       "      <th>title_bout</th>\n",
       "      <th>attendance</th>\n",
       "      <th>tickets_revenue</th>\n",
       "      <th>ppv_buys</th>\n",
       "      <th>tv_ratings_avg</th>\n",
       "    </tr>\n",
       "  </thead>\n",
       "  <tbody>\n",
       "    <tr>\n",
       "      <th>0</th>\n",
       "      <td>2019-03-02</td>\n",
       "      <td>Jon Jones</td>\n",
       "      <td>Anthony Smith</td>\n",
       "      <td>Light Heavyweight</td>\n",
       "      <td>True</td>\n",
       "      <td>14790</td>\n",
       "      <td>4035156</td>\n",
       "      <td>650000</td>\n",
       "      <td>1480000</td>\n",
       "    </tr>\n",
       "    <tr>\n",
       "      <th>1</th>\n",
       "      <td>2018-12-29</td>\n",
       "      <td>Jon Jones</td>\n",
       "      <td>Alexander Gustafsson</td>\n",
       "      <td>Light Heavyweight</td>\n",
       "      <td>True</td>\n",
       "      <td>15862</td>\n",
       "      <td>2066604</td>\n",
       "      <td>700000</td>\n",
       "      <td>1150000</td>\n",
       "    </tr>\n",
       "    <tr>\n",
       "      <th>16</th>\n",
       "      <td>2017-07-29</td>\n",
       "      <td>Daniel Cormier</td>\n",
       "      <td>Jon Jones</td>\n",
       "      <td>Light Heavyweight</td>\n",
       "      <td>True</td>\n",
       "      <td>16610</td>\n",
       "      <td>2448870</td>\n",
       "      <td>860000</td>\n",
       "      <td>886000</td>\n",
       "    </tr>\n",
       "    <tr>\n",
       "      <th>2</th>\n",
       "      <td>2016-04-23</td>\n",
       "      <td>Jon Jones</td>\n",
       "      <td>Ovince Saint Preux</td>\n",
       "      <td>Light Heavyweight</td>\n",
       "      <td>True</td>\n",
       "      <td>11352</td>\n",
       "      <td>2300000</td>\n",
       "      <td>322000</td>\n",
       "      <td>835000</td>\n",
       "    </tr>\n",
       "    <tr>\n",
       "      <th>3</th>\n",
       "      <td>2015-01-03</td>\n",
       "      <td>Jon Jones</td>\n",
       "      <td>Daniel Cormier</td>\n",
       "      <td>Light Heavyweight</td>\n",
       "      <td>True</td>\n",
       "      <td>11575</td>\n",
       "      <td>3700000</td>\n",
       "      <td>800000</td>\n",
       "      <td>1040000</td>\n",
       "    </tr>\n",
       "  </tbody>\n",
       "</table>\n",
       "</div>"
      ],
      "text/plain": [
       "          date       R_fighter             B_fighter       weight_class  \\\n",
       "0   2019-03-02       Jon Jones         Anthony Smith  Light Heavyweight   \n",
       "1   2018-12-29       Jon Jones  Alexander Gustafsson  Light Heavyweight   \n",
       "16  2017-07-29  Daniel Cormier             Jon Jones  Light Heavyweight   \n",
       "2   2016-04-23       Jon Jones    Ovince Saint Preux  Light Heavyweight   \n",
       "3   2015-01-03       Jon Jones        Daniel Cormier  Light Heavyweight   \n",
       "\n",
       "    title_bout  attendance  tickets_revenue  ppv_buys  tv_ratings_avg  \n",
       "0         True       14790          4035156    650000         1480000  \n",
       "1         True       15862          2066604    700000         1150000  \n",
       "16        True       16610          2448870    860000          886000  \n",
       "2         True       11352          2300000    322000          835000  \n",
       "3         True       11575          3700000    800000         1040000  "
      ]
     },
     "execution_count": 43,
     "metadata": {},
     "output_type": "execute_result"
    }
   ],
   "source": [
    "jonJones_eventsStats_df.head()"
   ]
  },
  {
   "cell_type": "code",
   "execution_count": 44,
   "metadata": {},
   "outputs": [
    {
     "name": "stdout",
     "output_type": "stream",
     "text": [
      "<class 'pandas.core.frame.DataFrame'>\n",
      "Int64Index: 22 entries, 19 to 18\n",
      "Data columns (total 9 columns):\n",
      "date               22 non-null object\n",
      "R_fighter          22 non-null object\n",
      "B_fighter          22 non-null object\n",
      "weight_class       22 non-null object\n",
      "title_bout         22 non-null bool\n",
      "attendance         22 non-null float64\n",
      "tickets_revenue    21 non-null float64\n",
      "ppv_buys           20 non-null float64\n",
      "tv_ratings_avg     4 non-null float64\n",
      "dtypes: bool(1), float64(4), object(4)\n",
      "memory usage: 1.6+ KB\n"
     ]
    }
   ],
   "source": [
    "gSP_eventsStats_df = createAthletesEventsStats_DF('Georges St-Pierre', UFC_df, UFC_EventsRevenue_df)\n",
    "\n",
    "gSP_eventsStats_df.info()"
   ]
  },
  {
   "cell_type": "code",
   "execution_count": 45,
   "metadata": {},
   "outputs": [
    {
     "name": "stdout",
     "output_type": "stream",
     "text": [
      "<class 'pandas.core.frame.DataFrame'>\n",
      "Int64Index: 22 entries, 19 to 18\n",
      "Data columns (total 9 columns):\n",
      "date               22 non-null object\n",
      "R_fighter          22 non-null object\n",
      "B_fighter          22 non-null object\n",
      "weight_class       22 non-null object\n",
      "title_bout         22 non-null bool\n",
      "attendance         22 non-null float64\n",
      "tickets_revenue    22 non-null float64\n",
      "ppv_buys           22 non-null float64\n",
      "tv_ratings_avg     4 non-null float64\n",
      "dtypes: bool(1), float64(4), object(4)\n",
      "memory usage: 1.6+ KB\n"
     ]
    }
   ],
   "source": [
    "# Filling the below columns NaN values with it's mean\n",
    "gSP_eventsStats_df['tickets_revenue'].fillna((gSP_eventsStats_df['tickets_revenue'].mean()), inplace=True)\n",
    "gSP_eventsStats_df['ppv_buys'].fillna((gSP_eventsStats_df['ppv_buys'].mean()), inplace=True)\n",
    "\n",
    "# Making sure it's value's format stays none-scientific\n",
    "pd.options.display.float_format = '{:.0f}'.format\n",
    "\n",
    "gSP_eventsStats_df.info()"
   ]
  },
  {
   "cell_type": "code",
   "execution_count": 46,
   "metadata": {},
   "outputs": [
    {
     "data": {
      "text/html": [
       "<div>\n",
       "<style scoped>\n",
       "    .dataframe tbody tr th:only-of-type {\n",
       "        vertical-align: middle;\n",
       "    }\n",
       "\n",
       "    .dataframe tbody tr th {\n",
       "        vertical-align: top;\n",
       "    }\n",
       "\n",
       "    .dataframe thead th {\n",
       "        text-align: right;\n",
       "    }\n",
       "</style>\n",
       "<table border=\"1\" class=\"dataframe\">\n",
       "  <thead>\n",
       "    <tr style=\"text-align: right;\">\n",
       "      <th></th>\n",
       "      <th>date</th>\n",
       "      <th>R_fighter</th>\n",
       "      <th>B_fighter</th>\n",
       "      <th>weight_class</th>\n",
       "      <th>title_bout</th>\n",
       "      <th>attendance</th>\n",
       "      <th>tickets_revenue</th>\n",
       "      <th>ppv_buys</th>\n",
       "      <th>tv_ratings_avg</th>\n",
       "    </tr>\n",
       "  </thead>\n",
       "  <tbody>\n",
       "    <tr>\n",
       "      <th>19</th>\n",
       "      <td>2017-11-04</td>\n",
       "      <td>Michael Bisping</td>\n",
       "      <td>Georges St-Pierre</td>\n",
       "      <td>Middleweight</td>\n",
       "      <td>True</td>\n",
       "      <td>18000</td>\n",
       "      <td>6105306</td>\n",
       "      <td>875000</td>\n",
       "      <td>1280000</td>\n",
       "    </tr>\n",
       "    <tr>\n",
       "      <th>0</th>\n",
       "      <td>2013-11-16</td>\n",
       "      <td>Georges St-Pierre</td>\n",
       "      <td>Johny Hendricks</td>\n",
       "      <td>Welterweight</td>\n",
       "      <td>True</td>\n",
       "      <td>14856</td>\n",
       "      <td>5759000</td>\n",
       "      <td>630000</td>\n",
       "      <td>998000</td>\n",
       "    </tr>\n",
       "    <tr>\n",
       "      <th>1</th>\n",
       "      <td>2013-03-16</td>\n",
       "      <td>Georges St-Pierre</td>\n",
       "      <td>Nick Diaz</td>\n",
       "      <td>Welterweight</td>\n",
       "      <td>True</td>\n",
       "      <td>20145</td>\n",
       "      <td>3710000</td>\n",
       "      <td>950000</td>\n",
       "      <td>nan</td>\n",
       "    </tr>\n",
       "    <tr>\n",
       "      <th>2</th>\n",
       "      <td>2012-11-17</td>\n",
       "      <td>Georges St-Pierre</td>\n",
       "      <td>Carlos Condit</td>\n",
       "      <td>Welterweight</td>\n",
       "      <td>True</td>\n",
       "      <td>17249</td>\n",
       "      <td>3143000</td>\n",
       "      <td>700000</td>\n",
       "      <td>nan</td>\n",
       "    </tr>\n",
       "    <tr>\n",
       "      <th>3</th>\n",
       "      <td>2011-04-30</td>\n",
       "      <td>Georges St-Pierre</td>\n",
       "      <td>Jake Shields</td>\n",
       "      <td>Welterweight</td>\n",
       "      <td>True</td>\n",
       "      <td>55724</td>\n",
       "      <td>12075000</td>\n",
       "      <td>800000</td>\n",
       "      <td>nan</td>\n",
       "    </tr>\n",
       "  </tbody>\n",
       "</table>\n",
       "</div>"
      ],
      "text/plain": [
       "          date          R_fighter          B_fighter  weight_class  \\\n",
       "19  2017-11-04    Michael Bisping  Georges St-Pierre  Middleweight   \n",
       "0   2013-11-16  Georges St-Pierre    Johny Hendricks  Welterweight   \n",
       "1   2013-03-16  Georges St-Pierre          Nick Diaz  Welterweight   \n",
       "2   2012-11-17  Georges St-Pierre      Carlos Condit  Welterweight   \n",
       "3   2011-04-30  Georges St-Pierre       Jake Shields  Welterweight   \n",
       "\n",
       "    title_bout  attendance  tickets_revenue  ppv_buys  tv_ratings_avg  \n",
       "19        True       18000          6105306    875000         1280000  \n",
       "0         True       14856          5759000    630000          998000  \n",
       "1         True       20145          3710000    950000             nan  \n",
       "2         True       17249          3143000    700000             nan  \n",
       "3         True       55724         12075000    800000             nan  "
      ]
     },
     "execution_count": 46,
     "metadata": {},
     "output_type": "execute_result"
    }
   ],
   "source": [
    "gSP_eventsStats_df.head()"
   ]
  },
  {
   "cell_type": "markdown",
   "metadata": {},
   "source": [
    "# UFC Event Structure\n",
    "is assembled out of 2 parts: **'Main card'** and **'Perliminary card'**. <br>\n",
    "The main card has 3 matches:\n",
    "1. Main Event\n",
    "2. Co-main Event\n",
    "3. **Title Bout**\n",
    "\n",
    "**We assume that the main card matches are at the center of the event's popularity**, therfore a further assumption is that **it has the more influence over the Event's Popularity therefore also on Revenues, for tickets and PayPerView buys.** <br>\n",
    "And following that assumed logic, a Title Bout should have a greater influence over the Main Event or Co-Main Event<br>\n",
    "**It is a general assumption, and it is clear that there are exceptions,** in which the Co-Main\\Main Event could be a greater factor on Popularity and Revenues, **for example, in cases which the Athletes that's taking part in a Co-Main\\Main Event Match is much more popular than the Athletes fighting in Title Bout Match.**<br> <br>\n",
    "\n",
    "## Let's create a graph of the 3 champions careers, in terms of Tickets Revenue and PPV buys.<br>\n",
    "\n",
    "As a direvative of the above assumption, it is possible to further assume that the 3 Champions's influence share over popularity and revenue of the events they participated in, was greatly bigger as Contendors or Champions (of a weight class), rather than in thier early career.<br>\n",
    "\n",
    "**For that reason, and so We can observe the differences, We'll mark all title bout matcheses dates in green, with darker shade to their first one.**<br>\n",
    "<br>\n",
    "\n",
    "### Let's create a function that generates the graph for each champion:"
   ]
  },
  {
   "cell_type": "code",
   "execution_count": 47,
   "metadata": {},
   "outputs": [],
   "source": [
    "def createAthletesEventsStatsGraph(athletes_df, athletesName):\n",
    "    \n",
    "    # New df instance with Ascending sortaion by date:\n",
    "    athletes_asc = athletes_df.sort_values(by='date',ascending=True)\n",
    "    \n",
    "    # Using loc, creating a new df including only title bouts\n",
    "    allTitleBouts = athletes_asc.loc[athletes_asc['title_bout'] == True]\n",
    "    # Taking out the first title bout\n",
    "    firstTitleBout = allTitleBouts.loc[allTitleBouts['date'] == min(allTitleBouts['date'])]\n",
    "    # Converting both to lists\n",
    "    firstTitleBout_list = firstTitleBout.date.values.tolist()\n",
    "    allTitleBouts_list = allTitleBouts.date.values.tolist()\n",
    "    # Removing the first from the rest of the title bouts\n",
    "    allTitleBouts_list.remove(firstTitleBout_list[0])\n",
    "\n",
    "    \n",
    "    # Defining 1st axis and figure size:\n",
    "    fig, ax  = plt.subplots(figsize=(12,6))\n",
    "    # Defining Ticket's Revenue Line:\n",
    "    eventsRevenueLine = sns.lineplot(x='date',y='tickets_revenue', color='blue', data=athletes_asc, ax=ax, linewidth=3.5)\n",
    "\n",
    "    # Defining 2nd axis:\n",
    "    eventsPpvLine = ax.twinx()\n",
    "    # Defining PPV buys line:\n",
    "    sns.lineplot(x='date',y='ppv_buys', data=athletes_asc, ax=eventsPpvLine, color='orange', linewidth=1)\n",
    "    \n",
    "    \n",
    "    # Setting graph's title\n",
    "    plt.title(\"Tickets Revenu and PPV buys throughtout Athlete's Career in UFC\")\n",
    "    # Positioning the Athletes name on the top left corner of the 1st axis\n",
    "    ax.text(0.02, 0.98, athletesName, fontsize=15, ha=\"left\", va=\"top\", transform=ax.transAxes)\n",
    "    # Positioning text - Green color for title bouts\n",
    "    ax.text(0.98, 0.98, 'Green Date = Title Bout', fontsize=10, color='limegreen', ha=\"right\", va=\"top\", transform=ax.transAxes)\n",
    "    # Setting 1st and 2nd axes x and y labels\n",
    "    ax.set_ylabel('Tickets Revenu', color='blue', fontsize=10)\n",
    "    eventsPpvLine.set_ylabel('PPV Buys', color='orange', fontsize=10)\n",
    "    ax.set_xlabel('Date')\n",
    "    \n",
    "    # Preventing scientific exponential format, so it'll be readble:\n",
    "    ax.yaxis.get_major_formatter().set_scientific(False)\n",
    "    \n",
    "    # Drawing the plot so the xticks will get populated from data frame, so we can change color in the next loop\n",
    "    plt.draw()\n",
    "    \n",
    "    \n",
    "    for tick in ax.get_xticklabels():\n",
    "        \n",
    "        # Rotate Date tick labels, so it's readable:\n",
    "        tick.set_rotation(60)\n",
    "        \n",
    "         # If date is the first title bout match - Set to dark green and bigger size\n",
    "        if tick.get_text() in firstTitleBout_list:\n",
    "            tick.set_color('mediumseagreen')\n",
    "            tick.set_fontsize(15)\n",
    "        \n",
    "        # If date is another title bout match - Set to light green \n",
    "        elif tick.get_text() in allTitleBouts_list:\n",
    "            tick.set_color(\"limegreen\")\n",
    "        \n",
    "    plt.tight_layout()\n",
    "\n",
    "    eventsRevenueLine"
   ]
  },
  {
   "cell_type": "markdown",
   "metadata": {},
   "source": [
    "## Before we plot the graphs,\n",
    "## Let's take a look what's the average score of an UFC event - In terms of Revenue, <br> So We have a perspective to the graphs values of the 3 Champions"
   ]
  },
  {
   "cell_type": "code",
   "execution_count": 48,
   "metadata": {},
   "outputs": [
    {
     "name": "stdout",
     "output_type": "stream",
     "text": [
      "UFC Event average Tickets Revenue: \n",
      " 2020983.0 \n",
      "\n",
      "UFC Event average PayPerView buys: \n",
      " 444598.0\n"
     ]
    }
   ],
   "source": [
    "ufcEvent_TicketsRevenueAverage = UFC_EventsRevenue_df['tickets_revenue'].mean()\n",
    "ufcEvent_PpvBuysAverage = UFC_EventsRevenue_df['ppv_buys'].mean()\n",
    "print('UFC Event average Tickets Revenue:' , '\\n', round(ufcEvent_TicketsRevenueAverage), '\\n')\n",
    "print('UFC Event average PayPerView buys:', '\\n', round(ufcEvent_PpvBuysAverage))"
   ]
  },
  {
   "cell_type": "markdown",
   "metadata": {},
   "source": [
    "**Now let's see the Champions graphs:**"
   ]
  },
  {
   "cell_type": "code",
   "execution_count": 49,
   "metadata": {},
   "outputs": [
    {
     "data": {
      "image/png": "[encoded data removed]",
      "text/plain": [
       "<Figure size 864x432 with 2 Axes>"
      ]
     },
     "metadata": {},
     "output_type": "display_data"
    },
    {
     "data": {
      "image/png": "[encoded data removed]",
      "text/plain": [
       "<Figure size 864x432 with 2 Axes>"
      ]
     },
     "metadata": {},
     "output_type": "display_data"
    },
    {
     "data": {
      "image/png": "[encoded data removed]",
      "text/plain": [
       "<Figure size 864x432 with 2 Axes>"
      ]
     },
     "metadata": {},
     "output_type": "display_data"
    }
   ],
   "source": [
    "createAthletesEventsStatsGraph(gSP_eventsStats_df, 'Georges St-Pierre')\n",
    "createAthletesEventsStatsGraph(andersonSilva_eventsStats_df, 'Anderson Silva')\n",
    "createAthletesEventsStatsGraph(jonJones_eventsStats_df, 'Jon Jones')"
   ]
  },
  {
   "cell_type": "markdown",
   "metadata": {},
   "source": [
    "## **Georges St-Pierre** - <br>\n",
    "\n",
    "> A.  **The relativly high PPV score** of the his 2nd match ever (before he fought as a contendor), **is maybe not should be related to him.**<br><br>\n",
    "B. We can observe the bump in scores in his first time as a contendor, which We can tell he lost this shot.<br>\n",
    "After that, it's easy to see the **incline in scores, which pretty much only grew with time, in linear fashion.**<br><br>\n",
    "C. He won 13/15 tite bouts overall<br><br>\n",
    "D.  There is a match (19-4-2008) where the **PPV Buys rate are inclining but the Tickets Revenue declining** in relation to the previous match.<br><br>\n",
    "E. **Through most of St-Pierre's graph, visually it seems like the two rates lines are correlated - despite the difference in the rates ratios.**\n",
    "\n",
    "Let's calculate the relation of Georges St-Pierre's average rates to the UFC general averages:"
   ]
  },
  {
   "cell_type": "code",
   "execution_count": 50,
   "metadata": {},
   "outputs": [
    {
     "name": "stdout",
     "output_type": "stream",
     "text": [
      "Differnce between an average UFC event Revenue scores to An Event with George St-Pierre preforming: \n",
      "\n",
      "Tickets Revenue: An increase of:  89.0 % from the average\n",
      "PPV Buys: An increase of:  35.0 % from the average \n",
      "\n"
     ]
    }
   ],
   "source": [
    "gSP_TicketsRevenueAverage = gSP_eventsStats_df['tickets_revenue'].mean()\n",
    "gSP_PpvBuysAverage = gSP_eventsStats_df['ppv_buys'].mean()\n",
    "\n",
    "\n",
    "diff = [(((gSP_TicketsRevenueAverage-ufcEvent_TicketsRevenueAverage)/ufcEvent_TicketsRevenueAverage)*100),(((gSP_PpvBuysAverage-ufcEvent_PpvBuysAverage)/ufcEvent_PpvBuysAverage)*100)]\n",
    "print('Differnce between an average UFC event Revenue scores to An Event with George St-Pierre preforming:', '\\n')\n",
    "print('Tickets Revenue: An increase of: ' , round(diff[0]) , '% from the average')\n",
    "print('PPV Buys: An increase of: ' , round(diff[1]) , '% from the average', '\\n')"
   ]
  },
  {
   "cell_type": "markdown",
   "metadata": {},
   "source": [
    "##  Anderson Silva - <br>\n",
    "\n",
    "> A. We can see that he is also, **like George St-Pierre, lost his first title bout shot.**<br><br>\n",
    "B.  Also here at Silva's graph there are matches where **the 2 rates, in some events even not correlated.**<br><br>\n",
    "C. Silva's trend of incline in scores is not displayed as clear as in George's St-Pierre's graph - **where even as a champion, some of his matches got scores which are relatively close to the average, or worst**, but also, he defenately got some extreme peaks above the general UFC averages.<br><br>\n",
    "D. **Also here, at Silva's graph - there are parts in which the correlation between the 2 rates is visualized -  despite the difference of the rates ratios.**<br><br>\n",
    "\n",
    "**So let's calculate Silva's average scores incline from the UFC general averages**:"
   ]
  },
  {
   "cell_type": "code",
   "execution_count": 51,
   "metadata": {},
   "outputs": [
    {
     "name": "stdout",
     "output_type": "stream",
     "text": [
      "Differnce between an average UFC event Revenue scores to An Event with Anderson Silva preforming: \n",
      "\n",
      "Tickets Revenue: An increase of:  66.0 % from the average\n",
      "PPV Buys: An increase of:  20.0 % from the average \n",
      "\n"
     ]
    }
   ],
   "source": [
    "Silvas_TicketsRevenueAverage = andersonSilva_eventsStats_df['tickets_revenue'].mean()\n",
    "Silvas_PpvBuysAverage = andersonSilva_eventsStats_df['ppv_buys'].mean()\n",
    "\n",
    "\n",
    "diff = [(((Silvas_TicketsRevenueAverage-ufcEvent_TicketsRevenueAverage)/ufcEvent_TicketsRevenueAverage)*100),(((Silvas_PpvBuysAverage-ufcEvent_PpvBuysAverage)/ufcEvent_PpvBuysAverage)*100)]\n",
    "print('Differnce between an average UFC event Revenue scores to An Event with Anderson Silva preforming:', '\\n')\n",
    "print('Tickets Revenue: An increase of: ' , round(diff[0]) , '% from the average')\n",
    "print('PPV Buys: An increase of: ' , round(diff[1]) , '% from the average', '\\n')"
   ]
  },
  {
   "cell_type": "markdown",
   "metadata": {},
   "source": [
    "## Jone Jones - <br><br>\n",
    "\n",
    "> A. His graph is **visually splitted by the dates into 2 parts**, since he won he's first title bout and never lost it.<br><br>\n",
    "B. We can see a huge bumps at the rates at his first matches, before he was a contendor, maybe it's not to be related to him.<br><br>\n",
    "C. Since he is a Champion hes rates are in dramatic rise and falls, no linear incline trend, even it seems somewhat overall balanced.<br><br>\n",
    "D. **Also at Jones graph, through almost the whole it, the correlation between the 2 rates is clearly visualized - despite the difference of the rates ratios.**<br><br>\n",
    "\n",
    "**let's calculate Jon's average scores incline from the UFC general averages**:"
   ]
  },
  {
   "cell_type": "code",
   "execution_count": 52,
   "metadata": {},
   "outputs": [
    {
     "name": "stdout",
     "output_type": "stream",
     "text": [
      "Differnce between an average UFC event Revenue scores to An Event with Jone Jones preforming: \n",
      "\n",
      "Tickets Revenue: An increase of:  26.0 % from the average\n",
      "PPV Buys: An increase of:  41.0 % from the average \n",
      "\n"
     ]
    }
   ],
   "source": [
    "jones_TicketsRevenueAverage = jonJones_eventsStats_df['tickets_revenue'].mean()\n",
    "jones_PpvBuysAverage = jonJones_eventsStats_df['ppv_buys'].mean()\n",
    "\n",
    "\n",
    "diff = [(((jones_TicketsRevenueAverage-ufcEvent_TicketsRevenueAverage)/ufcEvent_TicketsRevenueAverage)*100),(((jones_PpvBuysAverage-ufcEvent_PpvBuysAverage)/ufcEvent_PpvBuysAverage)*100)]\n",
    "print('Differnce between an average UFC event Revenue scores to An Event with Jone Jones preforming:', '\\n')\n",
    "print('Tickets Revenue: An increase of: ' , round(diff[0]) , '% from the average')\n",
    "print('PPV Buys: An increase of: ' , round(diff[1]) , '% from the average', '\\n')"
   ]
  },
  {
   "cell_type": "markdown",
   "metadata": {},
   "source": [
    "# Conclusion:\n",
    "\n",
    "**These 3 guys holds a unique positions in the UFC franchise:**<Br><br>\n",
    "**1.** 3 of them are in the **top 5 UFC athletes with most wins**. (Graph in Part 1)<br>\n",
    "**2.** 3 of them are in the **top longest Title Reign** - not a passing phenomena.<br><br>\n",
    "\n",
    "These facts clearly **translates into Popularity and eventually Revenue** for the UFC franchise - <br>\n",
    "**With incline of 20 - 89% (in both rates) from the average UFC event rates** for these 3 champions, **We can understand the tremendous value these longtime champions are bringing to the UFC franchise**"
   ]
  },
  {
   "cell_type": "markdown",
   "metadata": {},
   "source": [
    "## 3. Calculating the Total Revenue each Champion has produced for the UFC:\n",
    "### For that We'll use the manual scraped data of PPV average prices over the years - \n",
    "Let's create a function that generates a new DataFrame with the sum of all<br>\n",
    "Tickets Revenue and PPV Buys:"
   ]
  },
  {
   "cell_type": "code",
   "execution_count": 53,
   "metadata": {},
   "outputs": [],
   "source": [
    "def createDF_TotalRevenueByChampion(athletes_dfs_list, namesList):\n",
    "    \n",
    "    dictBuffer = []\n",
    "    \n",
    "    for athlete_df, name in zip(athletes_dfs_list, names):\n",
    "        \n",
    "        # Dictionary buffer for each athlete\n",
    "        totalRevenu_dict = dict()\n",
    "        totalRevenu_dict['name'] = name\n",
    "        totalRevenu_dict['total_tickets_revenue'] = athlete_df['tickets_revenue'].sum()\n",
    "        totalRevenu_dict['total_ppv_revenue'] = 0\n",
    "    \n",
    "        # Appending to list of dicts\n",
    "        dictBuffer.append(totalRevenu_dict)\n",
    "    \n",
    "    # Converting to DataFrame\n",
    "    champions_TotalRevenu = pd.DataFrame(dictBuffer)\n",
    "    \n",
    "    return champions_TotalRevenu"
   ]
  },
  {
   "cell_type": "markdown",
   "metadata": {},
   "source": [
    "Let's use the function"
   ]
  },
  {
   "cell_type": "code",
   "execution_count": 54,
   "metadata": {},
   "outputs": [
    {
     "data": {
      "text/html": [
       "<div>\n",
       "<style scoped>\n",
       "    .dataframe tbody tr th:only-of-type {\n",
       "        vertical-align: middle;\n",
       "    }\n",
       "\n",
       "    .dataframe tbody tr th {\n",
       "        vertical-align: top;\n",
       "    }\n",
       "\n",
       "    .dataframe thead th {\n",
       "        text-align: right;\n",
       "    }\n",
       "</style>\n",
       "<table border=\"1\" class=\"dataframe\">\n",
       "  <thead>\n",
       "    <tr style=\"text-align: right;\">\n",
       "      <th></th>\n",
       "      <th>name</th>\n",
       "      <th>total_ppv_revenue</th>\n",
       "      <th>total_tickets_revenue</th>\n",
       "    </tr>\n",
       "  </thead>\n",
       "  <tbody>\n",
       "    <tr>\n",
       "      <th>0</th>\n",
       "      <td>Anderson Silva</td>\n",
       "      <td>0</td>\n",
       "      <td>80582460</td>\n",
       "    </tr>\n",
       "    <tr>\n",
       "      <th>1</th>\n",
       "      <td>George St-Pierre</td>\n",
       "      <td>0</td>\n",
       "      <td>84165286</td>\n",
       "    </tr>\n",
       "    <tr>\n",
       "      <th>2</th>\n",
       "      <td>Jone Jones</td>\n",
       "      <td>0</td>\n",
       "      <td>50883000</td>\n",
       "    </tr>\n",
       "  </tbody>\n",
       "</table>\n",
       "</div>"
      ],
      "text/plain": [
       "               name  total_ppv_revenue  total_tickets_revenue\n",
       "0    Anderson Silva                  0               80582460\n",
       "1  George St-Pierre                  0               84165286\n",
       "2        Jone Jones                  0               50883000"
      ]
     },
     "execution_count": 54,
     "metadata": {},
     "output_type": "execute_result"
    }
   ],
   "source": [
    "listOfAthletes_dfs = [andersonSilva_eventsStats_df, gSP_eventsStats_df, jonJones_eventsStats_df]\n",
    "names = ['Anderson Silva', 'George St-Pierre', 'Jone Jones']\n",
    "\n",
    "# Creating the Total DF using the above function\n",
    "DF_TotalRevenueByChampion = createDF_TotalRevenueByChampion(listOfAthletes_dfs, names)\n",
    "\n",
    "DF_TotalRevenueByChampion.head()"
   ]
  },
  {
   "cell_type": "markdown",
   "metadata": {},
   "source": [
    "## Now let's calculate the Total PayPerView Revenue for each Champion - Using the average prices over the years\n",
    "\n",
    "Let's create a function:"
   ]
  },
  {
   "cell_type": "code",
   "execution_count": 55,
   "metadata": {
    "scrolled": true
   },
   "outputs": [],
   "source": [
    "# The fucntion takes: name and the DF of the athlete, PPV avg prices - list of tuples, and the DF to insert the outcome\n",
    "def calc2DF_PpvTotalRevenue(name_, atheletes_df, ppvPrices, atheletes_totalRevenue_df):\n",
    "    \n",
    "    # Taking out from the athlete's df the event's year and PPV Buy rate\n",
    "    Athletes_ppvBuys = []\n",
    "    for i, row in atheletes_df.iterrows():\n",
    "        Athletes_ppvBuys.append([row['date'].split('-')[0], row['ppv_buys']])\n",
    "    \n",
    "    # Calculating each event PPV Revenue with the Avg prices\n",
    "    sumOfRevenue = 0\n",
    "    for rate in ppvPrices:\n",
    "        for event in Athletes_ppvBuys:\n",
    "            if rate[0] == event[0]:\n",
    "                sumOfRevenue += (rate[1] * event[1])\n",
    "                \n",
    "    # Assigning the sum to the athlete's DF\n",
    "    atheletes_totalRevenue_df.loc[atheletes_totalRevenue_df.name == name_, 'total_ppv_revenue'] = sumOfRevenue"
   ]
  },
  {
   "cell_type": "markdown",
   "metadata": {},
   "source": [
    "Let's use the function and calculate the total revenue per athlete, combining the 2 rates:"
   ]
  },
  {
   "cell_type": "code",
   "execution_count": 56,
   "metadata": {},
   "outputs": [
    {
     "data": {
      "text/html": [
       "<div>\n",
       "<style scoped>\n",
       "    .dataframe tbody tr th:only-of-type {\n",
       "        vertical-align: middle;\n",
       "    }\n",
       "\n",
       "    .dataframe tbody tr th {\n",
       "        vertical-align: top;\n",
       "    }\n",
       "\n",
       "    .dataframe thead th {\n",
       "        text-align: right;\n",
       "    }\n",
       "</style>\n",
       "<table border=\"1\" class=\"dataframe\">\n",
       "  <thead>\n",
       "    <tr style=\"text-align: right;\">\n",
       "      <th></th>\n",
       "      <th>name</th>\n",
       "      <th>total_ppv_revenue</th>\n",
       "      <th>total_tickets_revenue</th>\n",
       "      <th>total_revenue</th>\n",
       "    </tr>\n",
       "  </thead>\n",
       "  <tbody>\n",
       "    <tr>\n",
       "      <th>0</th>\n",
       "      <td>Anderson Silva</td>\n",
       "      <td>633705952</td>\n",
       "      <td>80582460</td>\n",
       "      <td>714288412</td>\n",
       "    </tr>\n",
       "    <tr>\n",
       "      <th>1</th>\n",
       "      <td>George St-Pierre</td>\n",
       "      <td>604734700</td>\n",
       "      <td>84165286</td>\n",
       "      <td>688899986</td>\n",
       "    </tr>\n",
       "    <tr>\n",
       "      <th>2</th>\n",
       "      <td>Jone Jones</td>\n",
       "      <td>648061001</td>\n",
       "      <td>50883000</td>\n",
       "      <td>698944001</td>\n",
       "    </tr>\n",
       "  </tbody>\n",
       "</table>\n",
       "</div>"
      ],
      "text/plain": [
       "               name  total_ppv_revenue  total_tickets_revenue  total_revenue\n",
       "0    Anderson Silva          633705952               80582460      714288412\n",
       "1  George St-Pierre          604734700               84165286      688899986\n",
       "2        Jone Jones          648061001               50883000      698944001"
      ]
     },
     "execution_count": 56,
     "metadata": {},
     "output_type": "execute_result"
    }
   ],
   "source": [
    "calc2DF_PpvTotalRevenue('Anderson Silva', andersonSilva_eventsStats_df, ppvAvgPrice, DF_TotalRevenueByChampion)\n",
    "calc2DF_PpvTotalRevenue('George St-Pierre', gSP_eventsStats_df, ppvAvgPrice, DF_TotalRevenueByChampion)\n",
    "calc2DF_PpvTotalRevenue('Jone Jones', jonJones_eventsStats_df, ppvAvgPrice, DF_TotalRevenueByChampion)\n",
    "\n",
    "DF_TotalRevenueByChampion['total_revenue'] = DF_TotalRevenueByChampion['total_ppv_revenue'] + DF_TotalRevenueByChampion['total_tickets_revenue']\n",
    "\n",
    "DF_TotalRevenueByChampion"
   ]
  },
  {
   "cell_type": "markdown",
   "metadata": {},
   "source": [
    "### Let's plot a bars chart and visualize the results:\n",
    "Let's create a function:"
   ]
  },
  {
   "cell_type": "code",
   "execution_count": 57,
   "metadata": {},
   "outputs": [],
   "source": [
    "def totalRevenuePerChampGraph(df, rate):\n",
    "    fig, ax = plt.subplots(figsize=(10,4))\n",
    "    totalRevenuePerChamp = sns.barplot(x=df[rate], y=df.name, palette=\"RdBu_r\")\n",
    "    \n",
    "    ax.xaxis.get_major_formatter().set_scientific(False)\n",
    "    \n",
    "    plt.xticks(rotation=60)\n",
    "\n",
    "    plt.title(\"Total Revenue\")\n",
    "    plt.ylabel('Champion')\n",
    "    \n",
    "    if rate is 'total_ppv_revenue':\n",
    "        plt.title('PayPerView Buys Total Revenue')\n",
    "        plt.xlabel(\"Total Revenue in $\")\n",
    "    if rate is 'total_tickets_revenue':\n",
    "        plt.title('Tickets Total Revenue')\n",
    "        plt.xlabel(\"Total Revenue in $\")\n",
    "    if rate is 'total_revenue':\n",
    "        plt.title('Total Revenue (Tickets + PPV)')\n",
    "        plt.xlabel(\"Total Revenue in $\")\n",
    "\n",
    "\n",
    "    totalRevenuePerChamp\n"
   ]
  },
  {
   "cell_type": "markdown",
   "metadata": {},
   "source": [
    "and generate the graphs using it:"
   ]
  },
  {
   "cell_type": "code",
   "execution_count": 58,
   "metadata": {},
   "outputs": [
    {
     "data": {
      "image/png": "[encoded data removed]",
      "text/plain": [
       "<Figure size 720x288 with 1 Axes>"
      ]
     },
     "metadata": {
      "needs_background": "light"
     },
     "output_type": "display_data"
    },
    {
     "data": {
      "image/png": "[encoded data removed]",
      "text/plain": [
       "<Figure size 720x288 with 1 Axes>"
      ]
     },
     "metadata": {
      "needs_background": "light"
     },
     "output_type": "display_data"
    },
    {
     "data": {
      "image/png": "[encoded data removed]",
      "text/plain": [
       "<Figure size 720x288 with 1 Axes>"
      ]
     },
     "metadata": {
      "needs_background": "light"
     },
     "output_type": "display_data"
    }
   ],
   "source": [
    "rates = [\"total_ppv_revenue\", \"total_tickets_revenue\", \"total_revenue\"]\n",
    "\n",
    "for rate in rates:\n",
    "    totalRevenuePerChampGraph(DF_TotalRevenueByChampion, rate) "
   ]
  },
  {
   "cell_type": "markdown",
   "metadata": {},
   "source": [
    "## Let's break it down:\n",
    "\n",
    "### A. PayPerView Buys Total Revenue:\n",
    "1. **Jon Jones** - with **over 648,000,000 Miliion USD**\n",
    ">This is quite surprising when looking back at the career graphs, where it seems like Jones is not necessarily brining a constant higher PVV Buys rate. But looking into the matches dates, it indicates that this might be the reason.<br>\n",
    "**Overall his whole career is more in the near past** than St-Pierre or Silva.<br>\n",
    "**Combining this with the UFC's PPV rising prices over the years** (which can be viewed in the tuples list) - **it makes sense.**\n",
    "2. **Anderson Silva** - not by much less\n",
    "3. **George St-Pierre** - above $600M\n",
    "\n",
    "### B. Tickets Total Revenue:\n",
    "1. **George St-Pierre** - above $80 Million USD\n",
    "2. **Anderson Silva** - not by much less\n",
    "3. **Jon Jones** - 'only' over 50 Miliion USD\n",
    "\n",
    "\n",
    "## C. Total Revenue (Tickets + PPV):\n",
    "1. **Anderson Silva -  with over 700,000,000 Miliion USD**\n",
    "2. **Jon Jones** - not by much less than Silva\n",
    "3. **George St-Pierre** - not by much less than Jones\n",
    "\n",
    "### Combined, on the Events they all took part in, the UFC has cashed out on over **$2 Billion.** <br>\n",
    "\n",
    "**Note**: In 2016, the UFC Franchise has been sold for $4 Billion."
   ]
  },
  {
   "cell_type": "markdown",
   "metadata": {},
   "source": [
    "## 4. The Champions Networth\n",
    "After seeing the profits the UFC has gained in the events which they competed in, let's see how these 3 Champions is doing financially - <br>\n",
    "**Using the Top 50 MMA Athletes by Networth data we scraped earlier:**"
   ]
  },
  {
   "cell_type": "code",
   "execution_count": 59,
   "metadata": {},
   "outputs": [
    {
     "name": "stdout",
     "output_type": "stream",
     "text": [
      "ATHLETE NOT FOUND IN LIST:  Jon Jones \n",
      "\n"
     ]
    }
   ],
   "source": [
    "champions = ['Anderson Silva', 'Jon Jones', 'Georges St Pierre']\n",
    "champions_InTop50MMA_df = pd.DataFrame(columns=['rank','name','networth'])\n",
    "\n",
    "# If champion found in top50 DF, append to new DF, if not found print a message\n",
    "for champion in champions:\n",
    "    networth_ = top50_AthletesNetworth_df.loc[top50_AthletesNetworth_df['name'] == champion]\n",
    "    if networth_.empty:\n",
    "        print(\"ATHLETE NOT FOUND IN LIST: \", champion,'\\n')\n",
    "    else:\n",
    "        champions_InTop50MMA_df = champions_InTop50MMA_df.append([networth_], ignore_index=False, verify_integrity=False, sort=None)\n"
   ]
  },
  {
   "cell_type": "code",
   "execution_count": 63,
   "metadata": {},
   "outputs": [
    {
     "name": "stdout",
     "output_type": "stream",
     "text": [
      "<class 'pandas.core.frame.DataFrame'>\n",
      "Int64Index: 2 entries, 7 to 2\n",
      "Data columns (total 3 columns):\n",
      "rank        2 non-null object\n",
      "name        2 non-null object\n",
      "networth    2 non-null float64\n",
      "dtypes: float64(1), object(2)\n",
      "memory usage: 144.0+ bytes\n"
     ]
    }
   ],
   "source": [
    "champions_InTop50MMA_df.info()"
   ]
  },
  {
   "cell_type": "code",
   "execution_count": 61,
   "metadata": {},
   "outputs": [
    {
     "data": {
      "text/plain": [
       "<matplotlib.axes._subplots.AxesSubplot at 0x7fd1846a2e48>"
      ]
     },
     "execution_count": 61,
     "metadata": {},
     "output_type": "execute_result"
    },
    {
     "data": {
      "image/png": "[encoded data removed]",
      "text/plain": [
       "<Figure size 720x288 with 1 Axes>"
      ]
     },
     "metadata": {
      "needs_background": "light"
     },
     "output_type": "display_data"
    }
   ],
   "source": [
    "fig, ax = plt.subplots(figsize=(10,4))\n",
    "ChampsNetworth = sns.barplot(y='networth', x='name' , data=champions_InTop50MMA_df, hue='rank', palette=\"Oranges\")\n",
    "\n",
    "ax.yaxis.get_major_formatter().set_scientific(False)\n",
    "\n",
    "plt.legend(loc='upper left')\n",
    "plt.title(\"Networth and Rank in Top 50 MMA Athletes by Networth List\")\n",
    "plt.xlabel(\"Athlete\")\n",
    "plt.ylabel(\"Networth in $\")\n",
    "\n",
    "ChampsNetworth"
   ]
  },
  {
   "cell_type": "markdown",
   "metadata": {},
   "source": [
    "**Surprisingly enough, Jone Jones is not even in the list, let's see what number ends the Top 50 list:**"
   ]
  },
  {
   "cell_type": "code",
   "execution_count": 62,
   "metadata": {},
   "outputs": [
    {
     "data": {
      "text/plain": [
       "43   4000000\n",
       "44   4000000\n",
       "45   4000000\n",
       "46   4000000\n",
       "47   4000000\n",
       "48   4000000\n",
       "49   4000000\n",
       "Name: networth, dtype: float64"
      ]
     },
     "execution_count": 62,
     "metadata": {},
     "output_type": "execute_result"
    }
   ],
   "source": [
    "minNetworth = top50_AthletesNetworth_df.networth.loc[top50_AthletesNetworth_df.networth == top50_AthletesNetworth_df.networth.min()]\n",
    "minNetworth"
   ]
  },
  {
   "cell_type": "markdown",
   "metadata": {},
   "source": [
    "So due to that list, **Jones has no more of $4M at best.** <br>\n",
    "**Note:**<br>\n",
    "This list is not updated as a whole, and some of atheltes info was updated in 2020,\n",
    "and for some the last update date isn't mentioned\n",
    "\n",
    "### Wrapping up:\n",
    "1. **Georges St-Pierre** with **30 Million USD** - Ranked **#3** in Top 50 MMA athletes by Networth list\n",
    "2. **Anderson Silva** with **18 Million USD** - Ranked **#8** in Top 50 MMA athletes by Networth list\n",
    "3. **Jone Jones** - unknown "
   ]
  },
  {
   "cell_type": "markdown",
   "metadata": {},
   "source": [
    "# Section 3 - \n",
    "\n",
    "## 1. Summary:\n",
    "\n",
    "1. **UFC Events Popularity Revenue by the Different Weight Classes** \n",
    "> Although it wasn't completely clear by the visualization, We saw that **the heavier weight classes are more popular and produced more revenue** to the UFC. \n",
    "\n",
    "2. **UFC's Revenue from Tickets and PPV buys, through the career of 3 Champions - through different Weight Classes**\n",
    "> Altough the graphs of the 3 Champions careers didn't look exactly the same, 2 of them got a (different) kind of visual incline trend along the time axis - George St-Pierre's, and Anderson Silvas. At Jone Jone's We saw some overall stability through the whole career.<br>\n",
    "**At the 3 graphs there was, altought in different degrees, a visualized correlation between the two rates - PPV buys rate (which is not PPV revenue), and Tickets Revenue.**\n",
    "\n",
    "3. **Calculating the Total Revenue each Champion has produced for the UFC**\n",
    ">After calculating the revenue out of the PPV buys - with the manual scraped data of PPV averge prices over the years, We could calculate the total revenu per champion.<br>\n",
    "**Each one of them came up with more than 600 Million USD with Anderson Silva leading with over $700 Million.**<br>\n",
    "Combined, they came up with more than 2 Billion USD in revenue for the UFC.<br>\n",
    "Also, We saw that **each one was leading in different criteria** - with Jones leading the Total PPV revenue - thanks to the PPV rising prices over the years, St-Pierre leading the Total Tickets revenue, and Silva leading the Total of both PPV and Tickets revenue.\n",
    "\n",
    "4. **The Champions Networth**\n",
    ">Using the Top 50 MMA Athletes by Networth, We saw that George St-Pierre is leading, ranked #3 with 30 Million USD.<br>\n",
    "Silva at the 2nd place, ranked #8 at the list with 18 Million USD.<br>\n",
    "**Surprisingly, despite the large numbers of Revenue Jones has generated to the UFC, he wasn't found at the list**,<br>\n",
    "which is closed by the Networth of 4 Million USD.\n",
    "\n",
    "5. **Attendance data**\n",
    ">The Attendance data was also scraped along with the Popularity and Revenue data, but was not used, due to lack of clarity regarding it's proper use.<br>\n",
    "Besides the fact that there are multiple types of tickets in a big price range,<br>\n",
    "Also dividing the Tickets Revenue by the Attendance, would not necessarily give a true sense of the avergae ticket price per event - One reason would be that it is known that the UFC is giving out free tickets for Celebrities, Influencers and Books men, also, the UFC, which is an American franchise, is being hosted not only at the U.S, so the location would be another factor of the precentage of give outs tikcets - which I don't know how to evaluate."
   ]
  },
  {
   "cell_type": "markdown",
   "metadata": {},
   "source": [
    "## 2. Writing the scraped data to csv files"
   ]
  },
  {
   "cell_type": "code",
   "execution_count": 64,
   "metadata": {},
   "outputs": [],
   "source": [
    "UFC_EventsRevenue_df.to_csv('./UFC_Events_Revenue_Statistics.csv', index = False,  encoding='utf-8')\n",
    "\n",
    "top50_AthletesNetworth_df.to_csv('./top50_MMA_Athletes_By_Networth.csv', index = False, encoding='utf-8')"
   ]
  },
  {
   "cell_type": "code",
   "execution_count": null,
   "metadata": {},
   "outputs": [],
   "source": []
  }
 ],
 "metadata": {
  "kernelspec": {
   "display_name": "Python 3",
   "language": "python",
   "name": "python3"
  },
  "language_info": {
   "codemirror_mode": {
    "name": "ipython",
    "version": 3
   },
   "file_extension": ".py",
   "mimetype": "text/x-python",
   "name": "python",
   "nbconvert_exporter": "python",
   "pygments_lexer": "ipython3",
   "version": "3.5.2"
  }
 },
 "nbformat": 4,
 "nbformat_minor": 2
}
